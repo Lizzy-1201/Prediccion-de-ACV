{
 "cells": [
  {
   "cell_type": "markdown",
   "id": "b84129ad",
   "metadata": {},
   "source": [
    "# Algoritmo KMEANS"
   ]
  },
  {
   "cell_type": "markdown",
   "id": "5e03929c",
   "metadata": {},
   "source": [
    "## Imports"
   ]
  },
  {
   "cell_type": "code",
   "execution_count": 1,
   "id": "2b6a72ba",
   "metadata": {},
   "outputs": [],
   "source": [
    "# importamos las librerias y bibliotecas que utilizaremos para el algoritmo KMEANS\n",
    "%matplotlib inline\n",
    "import matplotlib.pyplot as plt\n",
    "import pandas as pd\n",
    "import seaborn as sns\n",
    "import matplotlib.gridspec as gridspec\n",
    "from collections import Counter\n",
    "from sklearn.preprocessing import RobustScaler\n",
    "from sklearn.impute import SimpleImputer\n",
    "from pandas import DataFrame\n",
    "from sklearn.pipeline import Pipeline\n",
    "from sklearn import metrics\n",
    "import numpy as np"
   ]
  },
  {
   "cell_type": "markdown",
   "id": "32edabd3",
   "metadata": {},
   "source": [
    "## Funciones auxiliares"
   ]
  },
  {
   "cell_type": "code",
   "execution_count": 2,
   "id": "87ffef9e",
   "metadata": {},
   "outputs": [],
   "source": [
    "# Original code: https://bit.ly/2TNHBZ5\n",
    "def plot_data(X, y):\n",
    "    plt.plot(X[:, 0][y==0], X[:, 1][y==0], 'k.', markersize=2)\n",
    "    plt.plot(X[:, 0][y==1], X[:, 1][y==1], 'r.', markersize=2)\n",
    "\n",
    "def plot_centroids(centroids, weights=None, circle_color='w', cross_color='k'):\n",
    "    if weights is not None:\n",
    "        centroids = centroids[weights > weights.max() / 10]\n",
    "    plt.scatter(centroids[:, 0], centroids[:, 1],\n",
    "                marker='o', s=30, linewidths=8,\n",
    "                color=circle_color, zorder=10, alpha=0.9)\n",
    "    plt.scatter(centroids[:, 0], centroids[:, 1],\n",
    "                marker='x', s=50, linewidths=50,\n",
    "                color=cross_color, zorder=11, alpha=1)\n",
    "\n",
    "def plot_decision_boundaries(clusterer, X, y, resolution=1000, show_centroids=True):\n",
    "    mins = X.min(axis=0) - 0.1\n",
    "    maxs = X.max(axis=0) + 0.1\n",
    "    xx, yy = np.meshgrid(np.linspace(mins[0], maxs[0], resolution),\n",
    "                         np.linspace(mins[1], maxs[1], resolution))\n",
    "    Z = clusterer.predict(np.c_[xx.ravel(), yy.ravel()])\n",
    "    Z = Z.reshape(xx.shape)\n",
    "\n",
    "    plt.contourf(Z, extent=(mins[0], maxs[0], mins[1], maxs[1]),\n",
    "                cmap=\"Pastel2\")\n",
    "    plt.contour(Z, extent=(mins[0], maxs[0], mins[1], maxs[1]),\n",
    "                linewidths=1, colors='k')\n",
    "    plot_data(X, y)\n",
    "    if show_centroids:\n",
    "        plot_centroids(clusterer.cluster_centers_)"
   ]
  },
  {
   "cell_type": "code",
   "execution_count": 3,
   "id": "4a9cc732",
   "metadata": {},
   "outputs": [],
   "source": [
    "def purity_score(y_true, y_pred):\n",
    "    # compute contingency matrix (also called confusion matrix)\n",
    "    contingency_matrix = metrics.cluster.contingency_matrix(y_true, y_pred)\n",
    "    # return purity\n",
    "    return np.sum(np.amax(contingency_matrix, axis=0)) / np.sum(contingency_matrix)"
   ]
  },
  {
   "cell_type": "markdown",
   "id": "937b7f70",
   "metadata": {},
   "source": [
    "## Lectura del conjunto de datos"
   ]
  },
  {
   "cell_type": "code",
   "execution_count": 4,
   "id": "8242ac71",
   "metadata": {},
   "outputs": [],
   "source": [
    "df_ini = pd.read_csv('dataset-equilibrado-1.csv')"
   ]
  },
  {
   "cell_type": "markdown",
   "id": "da2c969e",
   "metadata": {},
   "source": [
    "## Visualización del conjunto de datos"
   ]
  },
  {
   "cell_type": "code",
   "execution_count": 5,
   "id": "1ed1e8fc",
   "metadata": {},
   "outputs": [
    {
     "data": {
      "text/html": [
       "<div>\n",
       "<style scoped>\n",
       "    .dataframe tbody tr th:only-of-type {\n",
       "        vertical-align: middle;\n",
       "    }\n",
       "\n",
       "    .dataframe tbody tr th {\n",
       "        vertical-align: top;\n",
       "    }\n",
       "\n",
       "    .dataframe thead th {\n",
       "        text-align: right;\n",
       "    }\n",
       "</style>\n",
       "<table border=\"1\" class=\"dataframe\">\n",
       "  <thead>\n",
       "    <tr style=\"text-align: right;\">\n",
       "      <th></th>\n",
       "      <th>id</th>\n",
       "      <th>age</th>\n",
       "      <th>hypertension</th>\n",
       "      <th>heart_disease</th>\n",
       "      <th>avg_glucose_level</th>\n",
       "      <th>bmi</th>\n",
       "      <th>stroke</th>\n",
       "    </tr>\n",
       "  </thead>\n",
       "  <tbody>\n",
       "    <tr>\n",
       "      <th>0</th>\n",
       "      <td>9046</td>\n",
       "      <td>67.00</td>\n",
       "      <td>0</td>\n",
       "      <td>1</td>\n",
       "      <td>228.69</td>\n",
       "      <td>36.6</td>\n",
       "      <td>1</td>\n",
       "    </tr>\n",
       "    <tr>\n",
       "      <th>1</th>\n",
       "      <td>51676</td>\n",
       "      <td>61.00</td>\n",
       "      <td>0</td>\n",
       "      <td>0</td>\n",
       "      <td>202.21</td>\n",
       "      <td>NaN</td>\n",
       "      <td>1</td>\n",
       "    </tr>\n",
       "    <tr>\n",
       "      <th>2</th>\n",
       "      <td>31112</td>\n",
       "      <td>80.00</td>\n",
       "      <td>0</td>\n",
       "      <td>1</td>\n",
       "      <td>105.92</td>\n",
       "      <td>32.5</td>\n",
       "      <td>1</td>\n",
       "    </tr>\n",
       "    <tr>\n",
       "      <th>3</th>\n",
       "      <td>60182</td>\n",
       "      <td>49.00</td>\n",
       "      <td>0</td>\n",
       "      <td>0</td>\n",
       "      <td>171.23</td>\n",
       "      <td>34.4</td>\n",
       "      <td>1</td>\n",
       "    </tr>\n",
       "    <tr>\n",
       "      <th>4</th>\n",
       "      <td>1665</td>\n",
       "      <td>79.00</td>\n",
       "      <td>1</td>\n",
       "      <td>0</td>\n",
       "      <td>174.12</td>\n",
       "      <td>24.0</td>\n",
       "      <td>1</td>\n",
       "    </tr>\n",
       "    <tr>\n",
       "      <th>...</th>\n",
       "      <td>...</td>\n",
       "      <td>...</td>\n",
       "      <td>...</td>\n",
       "      <td>...</td>\n",
       "      <td>...</td>\n",
       "      <td>...</td>\n",
       "      <td>...</td>\n",
       "    </tr>\n",
       "    <tr>\n",
       "      <th>1778</th>\n",
       "      <td>45554</td>\n",
       "      <td>1.24</td>\n",
       "      <td>0</td>\n",
       "      <td>0</td>\n",
       "      <td>62.40</td>\n",
       "      <td>22.1</td>\n",
       "      <td>0</td>\n",
       "    </tr>\n",
       "    <tr>\n",
       "      <th>1779</th>\n",
       "      <td>32884</td>\n",
       "      <td>80.00</td>\n",
       "      <td>1</td>\n",
       "      <td>0</td>\n",
       "      <td>210.96</td>\n",
       "      <td>31.8</td>\n",
       "      <td>0</td>\n",
       "    </tr>\n",
       "    <tr>\n",
       "      <th>1780</th>\n",
       "      <td>55744</td>\n",
       "      <td>2.00</td>\n",
       "      <td>0</td>\n",
       "      <td>0</td>\n",
       "      <td>76.25</td>\n",
       "      <td>20.1</td>\n",
       "      <td>0</td>\n",
       "    </tr>\n",
       "    <tr>\n",
       "      <th>1781</th>\n",
       "      <td>28414</td>\n",
       "      <td>50.00</td>\n",
       "      <td>0</td>\n",
       "      <td>0</td>\n",
       "      <td>103.48</td>\n",
       "      <td>29.1</td>\n",
       "      <td>0</td>\n",
       "    </tr>\n",
       "    <tr>\n",
       "      <th>1782</th>\n",
       "      <td>25767</td>\n",
       "      <td>30.00</td>\n",
       "      <td>0</td>\n",
       "      <td>0</td>\n",
       "      <td>96.42</td>\n",
       "      <td>22.6</td>\n",
       "      <td>0</td>\n",
       "    </tr>\n",
       "  </tbody>\n",
       "</table>\n",
       "<p>1783 rows × 7 columns</p>\n",
       "</div>"
      ],
      "text/plain": [
       "         id    age  hypertension  heart_disease  avg_glucose_level   bmi  \\\n",
       "0      9046  67.00             0              1             228.69  36.6   \n",
       "1     51676  61.00             0              0             202.21   NaN   \n",
       "2     31112  80.00             0              1             105.92  32.5   \n",
       "3     60182  49.00             0              0             171.23  34.4   \n",
       "4      1665  79.00             1              0             174.12  24.0   \n",
       "...     ...    ...           ...            ...                ...   ...   \n",
       "1778  45554   1.24             0              0              62.40  22.1   \n",
       "1779  32884  80.00             1              0             210.96  31.8   \n",
       "1780  55744   2.00             0              0              76.25  20.1   \n",
       "1781  28414  50.00             0              0             103.48  29.1   \n",
       "1782  25767  30.00             0              0              96.42  22.6   \n",
       "\n",
       "      stroke  \n",
       "0          1  \n",
       "1          1  \n",
       "2          1  \n",
       "3          1  \n",
       "4          1  \n",
       "...      ...  \n",
       "1778       0  \n",
       "1779       0  \n",
       "1780       0  \n",
       "1781       0  \n",
       "1782       0  \n",
       "\n",
       "[1783 rows x 7 columns]"
      ]
     },
     "execution_count": 5,
     "metadata": {},
     "output_type": "execute_result"
    }
   ],
   "source": [
    "df_ini "
   ]
  },
  {
   "cell_type": "code",
   "execution_count": null,
   "id": "3588bb7d",
   "metadata": {},
   "outputs": [],
   "source": [
    "#Validamos la cantidad de ejemplos que posee el dataset\n",
    "df_ini[\"stroke\"].value_counts()"
   ]
  },
  {
   "cell_type": "markdown",
   "id": "c1abc1ec",
   "metadata": {},
   "source": [
    "## Preparación del conjunto de datos"
   ]
  },
  {
   "cell_type": "code",
   "execution_count": null,
   "id": "1e8ec6f5",
   "metadata": {},
   "outputs": [],
   "source": [
    "#Eliminamos datos que son irrelevantes y que podrian alterar el comportamiento del algoritmo\n",
    "df_ini = df_ini.drop([\"id\"], axis=1)"
   ]
  },
  {
   "cell_type": "code",
   "execution_count": null,
   "id": "1ee4b88e",
   "metadata": {},
   "outputs": [],
   "source": [
    "#Función para transformar las columnas categoricas a numericas\n",
    "df= pd.get_dummies(df_ini, columns=['gender','ever_married','work_type','Residence_type','smoking_status'])"
   ]
  },
  {
   "cell_type": "code",
   "execution_count": null,
   "id": "dbe8d0d4",
   "metadata": {},
   "outputs": [],
   "source": [
    "#Validamos que los cambios se aplicarón correctamente \n",
    "df"
   ]
  },
  {
   "cell_type": "code",
   "execution_count": null,
   "id": "ba379ce4",
   "metadata": {},
   "outputs": [],
   "source": [
    "# Representamos gráficamente las características\n",
    "features = df.drop(\"stroke\", axis=1)\n",
    "\n",
    "plt.figure(figsize=(12,32))\n",
    "gs = gridspec.GridSpec(8, 4)\n",
    "gs.update(hspace=0.8)\n",
    "\n",
    "for i, f in enumerate(features):\n",
    "    ax = plt.subplot(gs[i])\n",
    "    sns.distplot(df[f][df[\"stroke\"] == 1])\n",
    "    sns.distplot(df[f][df[\"stroke\"] == 0])\n",
    "    ax.set_xlabel('')\n",
    "    ax.set_title('feature: ' + str(f))\n",
    "\n",
    "plt.show()"
   ]
  },
  {
   "cell_type": "code",
   "execution_count": null,
   "id": "a4cc1afe",
   "metadata": {},
   "outputs": [],
   "source": [
    "# Representación gráfica de dos características\n",
    "plt.figure(figsize=(12, 6))\n",
    "plt.scatter(df[\"age\"][df['stroke'] == 0], df[\"avg_glucose_level\"][df['stroke'] == 0], c=\"y\", marker=\".\")\n",
    "plt.scatter(df[\"age\"][df['stroke'] == 1], df[\"avg_glucose_level\"][df['stroke'] == 1], c=\"r\", marker=\".\")\n",
    "plt.xlabel(\"age\", fontsize=14)\n",
    "plt.ylabel(\"avg_glucose_level\", fontsize=14)\n",
    "plt.show()"
   ]
  },
  {
   "cell_type": "markdown",
   "id": "66158514",
   "metadata": {},
   "source": [
    "## Kmeans con un conjunto de datos de dos dimensiones"
   ]
  },
  {
   "cell_type": "code",
   "execution_count": null,
   "id": "c0b882ab",
   "metadata": {},
   "outputs": [],
   "source": [
    "X_2 = df[[\"age\", \"avg_glucose_level\"]].copy()\n",
    "y = df[\"stroke\"].copy()\n",
    "X_2"
   ]
  },
  {
   "cell_type": "code",
   "execution_count": null,
   "id": "e52120b6",
   "metadata": {},
   "outputs": [],
   "source": [
    "# Construcción de un pipeline para rellenar los valores nulos con la mediana y scalar los datos \n",
    "from sklearn.impute import SimpleImputer\n",
    "\n",
    "num_pipeline = Pipeline([\n",
    "        ('imputer', SimpleImputer(strategy=\"median\")),\n",
    "        ('rbst_scaler', RobustScaler()),\n",
    "    ])"
   ]
  },
  {
   "cell_type": "code",
   "execution_count": null,
   "id": "e86df3d3",
   "metadata": {},
   "outputs": [],
   "source": [
    "# Rellenamos los valores nulos\n",
    "X = num_pipeline.fit_transform(X_2)"
   ]
  },
  {
   "cell_type": "code",
   "execution_count": null,
   "id": "24b54319",
   "metadata": {},
   "outputs": [],
   "source": [
    "# Transformamos el resultado a un DataFrame de Pandas\n",
    "X = pd.DataFrame(X, columns=X_2.columns, index=y_df.index)"
   ]
  },
  {
   "cell_type": "code",
   "execution_count": null,
   "id": "d38c95f2",
   "metadata": {},
   "outputs": [],
   "source": [
    "#Validamos que los cambios se aplicaron correctamente \n",
    "X"
   ]
  },
  {
   "cell_type": "code",
   "execution_count": null,
   "id": "8eee35c1",
   "metadata": {},
   "outputs": [],
   "source": [
    "# Generamos los clusters para nuestro conjunto de datos sin etiquetar\n",
    "from sklearn.cluster import KMeans\n",
    "\n",
    "kmeans = KMeans(n_clusters=5, random_state=42)\n",
    "clusters = kmeans.fit_predict(X)"
   ]
  },
  {
   "cell_type": "code",
   "execution_count": null,
   "id": "5529ff76",
   "metadata": {},
   "outputs": [],
   "source": [
    "plt.figure(figsize=(12, 6))\n",
    "plot_decision_boundaries(kmeans, X.values, df[\"stroke\"].values)\n",
    "plt.xlabel(\"age\", fontsize=14)\n",
    "plt.ylabel(\"avg_glucose_level\", fontsize=14)\n",
    "plt.show()"
   ]
  },
  {
   "cell_type": "code",
   "execution_count": null,
   "id": "79948af5",
   "metadata": {},
   "outputs": [],
   "source": [
    "counter = Counter(clusters.tolist())\n",
    "bad_counter = Counter(clusters[df['stroke'] == 1].tolist())\n",
    "\n",
    "for key in sorted(counter.keys()):\n",
    "    print(\"Label {0} has {1} samples - {2} are stroke samples\".format(\n",
    "        key, counter[key], bad_counter[key]))"
   ]
  },
  {
   "cell_type": "markdown",
   "id": "23aa868e",
   "metadata": {},
   "source": [
    "## Kmeans con un conjunto de datos multidimensional"
   ]
  },
  {
   "cell_type": "code",
   "execution_count": null,
   "id": "f63fef25",
   "metadata": {},
   "outputs": [],
   "source": [
    "X_df = df.drop(\"stroke\", axis=1)\n",
    "y_df = df[\"stroke\"].copy()"
   ]
  },
  {
   "cell_type": "code",
   "execution_count": null,
   "id": "a86b6feb",
   "metadata": {},
   "outputs": [],
   "source": [
    "# Construcción de un pipeline para rellenar los valores nulos con la mediana y scalar los datos \n",
    "from sklearn.impute import SimpleImputer\n",
    "\n",
    "num_pipeline = Pipeline([\n",
    "        ('imputer', SimpleImputer(strategy=\"median\")),\n",
    "        ('rbst_scaler', RobustScaler()),\n",
    "    ])"
   ]
  },
  {
   "cell_type": "code",
   "execution_count": null,
   "id": "5aa18174",
   "metadata": {},
   "outputs": [],
   "source": [
    "# Rellenamos los valores nulos\n",
    "X = num_pipeline.fit_transform(X_df)"
   ]
  },
  {
   "cell_type": "code",
   "execution_count": null,
   "id": "e5b6c602",
   "metadata": {},
   "outputs": [],
   "source": [
    "# Transformamos el resultado a un DataFrame de Pandas\n",
    "X = pd.DataFrame(X, columns=X_df.columns, index=y_df.index)"
   ]
  },
  {
   "cell_type": "code",
   "execution_count": null,
   "id": "5aba399e",
   "metadata": {},
   "outputs": [],
   "source": [
    "#Validamos que los cambios se aplicaron correctamente \n",
    "X"
   ]
  },
  {
   "cell_type": "code",
   "execution_count": null,
   "id": "87e76d7d",
   "metadata": {},
   "outputs": [],
   "source": [
    "from sklearn.cluster import KMeans\n",
    "\n",
    "kmeans = KMeans(n_clusters=5, random_state=42)\n",
    "clusters = kmeans.fit_predict(X)"
   ]
  },
  {
   "cell_type": "code",
   "execution_count": null,
   "id": "c9faecd8",
   "metadata": {},
   "outputs": [],
   "source": [
    "# Evaluamos los clusters y el contenido que se han formado\n",
    "counter = Counter(clusters.tolist())\n",
    "bad_counter = Counter(clusters[y_df == 1].tolist())\n",
    "\n",
    "for key in sorted(counter.keys()):\n",
    "    print(\"Label {0} has {1} samples - {2} are stroke samples\".format(\n",
    "        key, counter[key], bad_counter[key]))"
   ]
  },
  {
   "cell_type": "markdown",
   "id": "dee6a5ee",
   "metadata": {},
   "source": [
    "## Reducción del número de características"
   ]
  },
  {
   "cell_type": "markdown",
   "id": "3b77f0d5",
   "metadata": {},
   "source": [
    "### Aplicamos selección de características con _Random Forest_\n"
   ]
  },
  {
   "cell_type": "code",
   "execution_count": null,
   "id": "68cc20b7",
   "metadata": {},
   "outputs": [],
   "source": [
    "# Utilizamos Random Forest para realizar selección de características\n",
    "from sklearn.ensemble import RandomForestClassifier\n",
    "\n",
    "clf_rnd = RandomForestClassifier(n_estimators=50, random_state=42, n_jobs=-1)\n",
    "clf_rnd.fit(X, y_df)"
   ]
  },
  {
   "cell_type": "code",
   "execution_count": null,
   "id": "3ef8fd80",
   "metadata": {},
   "outputs": [],
   "source": [
    "# Seleccionamos las características más importantes\n",
    "feature_importances = {name: score for name, score in zip(list(X), clf_rnd.feature_importances_)}\n",
    "feature_importances_sorted = pd.Series(feature_importances).sort_values(ascending=False)"
   ]
  },
  {
   "cell_type": "code",
   "execution_count": null,
   "id": "2de7b091",
   "metadata": {},
   "outputs": [],
   "source": [
    "# Reducimos el conjunto de datos a las 7 características más importantes\n",
    "X_reduced = X[list(feature_importances_sorted.head(5).index)].copy()"
   ]
  },
  {
   "cell_type": "code",
   "execution_count": null,
   "id": "682f240c",
   "metadata": {},
   "outputs": [],
   "source": [
    "X_reduced"
   ]
  },
  {
   "cell_type": "markdown",
   "id": "71be4ab8",
   "metadata": {},
   "source": [
    "### Entrenamiento de KMEANS con el conjunto de datos reducido"
   ]
  },
  {
   "cell_type": "code",
   "execution_count": null,
   "id": "1a2d3e34",
   "metadata": {},
   "outputs": [],
   "source": [
    "from sklearn.cluster import KMeans\n",
    "\n",
    "kmeans = KMeans(n_clusters=5, random_state=42)\n",
    "clusters = kmeans.fit_predict(X_reduced)"
   ]
  },
  {
   "cell_type": "code",
   "execution_count": null,
   "id": "ad5fe029",
   "metadata": {},
   "outputs": [],
   "source": [
    "# Evaluamos los clusters y el contenido que se han formado\n",
    "counter = Counter(clusters.tolist())\n",
    "bad_counter = Counter(clusters[y_df == 1].tolist())\n",
    "\n",
    "for key in sorted(counter.keys()):\n",
    "    print(\"Label {0} has {1} samples - {2} are stroke samples\".format(\n",
    "        key, counter[key], bad_counter[key]))"
   ]
  },
  {
   "cell_type": "markdown",
   "id": "7e659cbb",
   "metadata": {},
   "source": [
    "## Evaluación de los resultados"
   ]
  },
  {
   "cell_type": "code",
   "execution_count": null,
   "id": "4807a510",
   "metadata": {},
   "outputs": [],
   "source": [
    "# Calculamos el purity score, es importante darse cuenta de que recibe las etiquetas\n",
    "print(\"Purity Score:\", purity_score(y_df, clusters))"
   ]
  },
  {
   "cell_type": "code",
   "execution_count": null,
   "id": "e9234652",
   "metadata": {},
   "outputs": [],
   "source": [
    "# Calculamos el coeficiente de Shiloutte, es importante darse cuenta de que no le pasamos las etiquetas\n",
    "print(\"Shiloutte: \", metrics.silhouette_score(X_reduced, clusters, sample_size=10000))"
   ]
  },
  {
   "cell_type": "code",
   "execution_count": null,
   "id": "e27629b8",
   "metadata": {},
   "outputs": [],
   "source": [
    "# Calculamos el Calinski harabasz score, es importante darse cuenta de que no le pasamos las etiquetas\n",
    "print(\"Calinski harabasz: \", metrics.calinski_harabasz_score(X_reduced, clusters))"
   ]
  },
  {
   "cell_type": "code",
   "execution_count": null,
   "id": "f7a6726a",
   "metadata": {},
   "outputs": [],
   "source": []
  }
 ],
 "metadata": {
  "kernelspec": {
   "display_name": "Python 3",
   "language": "python",
   "name": "python3"
  },
  "language_info": {
   "codemirror_mode": {
    "name": "ipython",
    "version": 3
   },
   "file_extension": ".py",
   "mimetype": "text/x-python",
   "name": "python",
   "nbconvert_exporter": "python",
   "pygments_lexer": "ipython3",
   "version": "3.8.8"
  }
 },
 "nbformat": 4,
 "nbformat_minor": 5
}
