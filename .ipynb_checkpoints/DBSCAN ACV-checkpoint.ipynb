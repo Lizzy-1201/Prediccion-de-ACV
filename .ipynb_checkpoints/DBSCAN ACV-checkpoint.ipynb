{
 "cells": [
  {
   "cell_type": "markdown",
   "id": "afacff13",
   "metadata": {},
   "source": [
    "# Algoritmo DBSCAN"
   ]
  },
  {
   "cell_type": "markdown",
   "id": "b7dfafdf",
   "metadata": {},
   "source": [
    "## Imports"
   ]
  },
  {
   "cell_type": "code",
   "execution_count": 1,
   "id": "42fb61cd",
   "metadata": {},
   "outputs": [],
   "source": [
    "# importamos las librerias y bibliotecas que utilizaremos para el algoritmo DBSCAN\n",
    "%matplotlib inline\n",
    "import matplotlib.pyplot as plt\n",
    "import pandas as pd\n",
    "import seaborn as sns\n",
    "import matplotlib.gridspec as gridspec\n",
    "from collections import Counter\n",
    "from sklearn.preprocessing import RobustScaler\n",
    "from sklearn.impute import SimpleImputer\n",
    "from pandas import DataFrame\n",
    "from sklearn.pipeline import Pipeline\n",
    "from sklearn import metrics\n",
    "import numpy as np"
   ]
  },
  {
   "cell_type": "markdown",
   "id": "0f707d5a",
   "metadata": {},
   "source": [
    "## Funciones auxiliares"
   ]
  },
  {
   "cell_type": "code",
   "execution_count": 2,
   "id": "3c7e713b",
   "metadata": {},
   "outputs": [],
   "source": [
    "def purity_score(y_true, y_pred):\n",
    "    # compute contingency matrix (also called confusion matrix)\n",
    "    contingency_matrix = metrics.cluster.contingency_matrix(y_true, y_pred)\n",
    "    # return purity\n",
    "    return np.sum(np.amax(contingency_matrix, axis=0)) / np.sum(contingency_matrix)"
   ]
  },
  {
   "cell_type": "markdown",
   "id": "b2e817bd",
   "metadata": {},
   "source": [
    "## Lectura del conjunto de datos"
   ]
  },
  {
   "cell_type": "code",
   "execution_count": 3,
   "id": "96128725",
   "metadata": {},
   "outputs": [],
   "source": [
    "df_ini = pd.read_csv('dataset-equilibrado-1.csv')"
   ]
  },
  {
   "cell_type": "markdown",
   "id": "421e4fbe",
   "metadata": {},
   "source": [
    "## Visualización del conjunto de datos"
   ]
  },
  {
   "cell_type": "code",
   "execution_count": 4,
   "id": "124307ad",
   "metadata": {},
   "outputs": [
    {
     "data": {
      "text/html": [
       "<div>\n",
       "<style scoped>\n",
       "    .dataframe tbody tr th:only-of-type {\n",
       "        vertical-align: middle;\n",
       "    }\n",
       "\n",
       "    .dataframe tbody tr th {\n",
       "        vertical-align: top;\n",
       "    }\n",
       "\n",
       "    .dataframe thead th {\n",
       "        text-align: right;\n",
       "    }\n",
       "</style>\n",
       "<table border=\"1\" class=\"dataframe\">\n",
       "  <thead>\n",
       "    <tr style=\"text-align: right;\">\n",
       "      <th></th>\n",
       "      <th>id</th>\n",
       "      <th>age</th>\n",
       "      <th>hypertension</th>\n",
       "      <th>heart_disease</th>\n",
       "      <th>avg_glucose_level</th>\n",
       "      <th>bmi</th>\n",
       "      <th>stroke</th>\n",
       "    </tr>\n",
       "  </thead>\n",
       "  <tbody>\n",
       "    <tr>\n",
       "      <th>0</th>\n",
       "      <td>9046</td>\n",
       "      <td>67.0</td>\n",
       "      <td>0</td>\n",
       "      <td>1</td>\n",
       "      <td>228.69</td>\n",
       "      <td>36.6</td>\n",
       "      <td>1</td>\n",
       "    </tr>\n",
       "    <tr>\n",
       "      <th>1</th>\n",
       "      <td>51676</td>\n",
       "      <td>61.0</td>\n",
       "      <td>0</td>\n",
       "      <td>0</td>\n",
       "      <td>202.21</td>\n",
       "      <td>NaN</td>\n",
       "      <td>1</td>\n",
       "    </tr>\n",
       "    <tr>\n",
       "      <th>2</th>\n",
       "      <td>31112</td>\n",
       "      <td>80.0</td>\n",
       "      <td>0</td>\n",
       "      <td>1</td>\n",
       "      <td>105.92</td>\n",
       "      <td>32.5</td>\n",
       "      <td>1</td>\n",
       "    </tr>\n",
       "    <tr>\n",
       "      <th>3</th>\n",
       "      <td>60182</td>\n",
       "      <td>49.0</td>\n",
       "      <td>0</td>\n",
       "      <td>0</td>\n",
       "      <td>171.23</td>\n",
       "      <td>34.4</td>\n",
       "      <td>1</td>\n",
       "    </tr>\n",
       "    <tr>\n",
       "      <th>4</th>\n",
       "      <td>1665</td>\n",
       "      <td>79.0</td>\n",
       "      <td>1</td>\n",
       "      <td>0</td>\n",
       "      <td>174.12</td>\n",
       "      <td>24.0</td>\n",
       "      <td>1</td>\n",
       "    </tr>\n",
       "    <tr>\n",
       "      <th>5</th>\n",
       "      <td>56669</td>\n",
       "      <td>81.0</td>\n",
       "      <td>0</td>\n",
       "      <td>0</td>\n",
       "      <td>186.21</td>\n",
       "      <td>29.0</td>\n",
       "      <td>1</td>\n",
       "    </tr>\n",
       "    <tr>\n",
       "      <th>6</th>\n",
       "      <td>53882</td>\n",
       "      <td>74.0</td>\n",
       "      <td>1</td>\n",
       "      <td>1</td>\n",
       "      <td>70.09</td>\n",
       "      <td>27.4</td>\n",
       "      <td>1</td>\n",
       "    </tr>\n",
       "    <tr>\n",
       "      <th>7</th>\n",
       "      <td>10434</td>\n",
       "      <td>69.0</td>\n",
       "      <td>0</td>\n",
       "      <td>0</td>\n",
       "      <td>94.39</td>\n",
       "      <td>22.8</td>\n",
       "      <td>1</td>\n",
       "    </tr>\n",
       "    <tr>\n",
       "      <th>8</th>\n",
       "      <td>27419</td>\n",
       "      <td>59.0</td>\n",
       "      <td>0</td>\n",
       "      <td>0</td>\n",
       "      <td>76.15</td>\n",
       "      <td>NaN</td>\n",
       "      <td>1</td>\n",
       "    </tr>\n",
       "    <tr>\n",
       "      <th>9</th>\n",
       "      <td>60491</td>\n",
       "      <td>78.0</td>\n",
       "      <td>0</td>\n",
       "      <td>0</td>\n",
       "      <td>58.57</td>\n",
       "      <td>24.2</td>\n",
       "      <td>1</td>\n",
       "    </tr>\n",
       "  </tbody>\n",
       "</table>\n",
       "</div>"
      ],
      "text/plain": [
       "      id   age  hypertension  heart_disease  avg_glucose_level   bmi  stroke\n",
       "0   9046  67.0             0              1             228.69  36.6       1\n",
       "1  51676  61.0             0              0             202.21   NaN       1\n",
       "2  31112  80.0             0              1             105.92  32.5       1\n",
       "3  60182  49.0             0              0             171.23  34.4       1\n",
       "4   1665  79.0             1              0             174.12  24.0       1\n",
       "5  56669  81.0             0              0             186.21  29.0       1\n",
       "6  53882  74.0             1              1              70.09  27.4       1\n",
       "7  10434  69.0             0              0              94.39  22.8       1\n",
       "8  27419  59.0             0              0              76.15   NaN       1\n",
       "9  60491  78.0             0              0              58.57  24.2       1"
      ]
     },
     "execution_count": 4,
     "metadata": {},
     "output_type": "execute_result"
    }
   ],
   "source": [
    "df_ini.head(10)"
   ]
  },
  {
   "cell_type": "code",
   "execution_count": null,
   "id": "9681c57d",
   "metadata": {},
   "outputs": [],
   "source": [
    "#Validamos la cantidad de ejemplos que posee el dataset\n",
    "df_ini[\"stroke\"].value_counts()"
   ]
  },
  {
   "cell_type": "markdown",
   "id": "28428a84",
   "metadata": {},
   "source": [
    "## Primera preparación del conjunto de datos"
   ]
  },
  {
   "cell_type": "code",
   "execution_count": null,
   "id": "d45167ae",
   "metadata": {},
   "outputs": [],
   "source": [
    "#Eliminamos datos que son irrelevantes y que podrian alterar el comportamiento del algoritmo\n",
    "df_ini = df_ini.drop([\"id\"], axis=1)"
   ]
  },
  {
   "cell_type": "code",
   "execution_count": null,
   "id": "3cc488f2",
   "metadata": {},
   "outputs": [],
   "source": [
    "#Función para transformar las columnas categoricas a numericas\n",
    "df= pd.get_dummies(df_ini, columns=['gender','ever_married','work_type','Residence_type','smoking_status'])"
   ]
  },
  {
   "cell_type": "code",
   "execution_count": null,
   "id": "47ab304e",
   "metadata": {},
   "outputs": [],
   "source": [
    "#Validamos que los cambios se aplicarón correctamente \n",
    "df"
   ]
  },
  {
   "cell_type": "code",
   "execution_count": null,
   "id": "561a82c8",
   "metadata": {},
   "outputs": [],
   "source": [
    "# Representamos gráficamente las características\n",
    "features = df.drop(\"stroke\", axis=1)\n",
    "\n",
    "plt.figure(figsize=(12,32))\n",
    "gs = gridspec.GridSpec(8, 4)\n",
    "gs.update(hspace=0.8)\n",
    "\n",
    "for i, f in enumerate(features):\n",
    "    ax = plt.subplot(gs[i])\n",
    "    sns.distplot(df[f][df[\"stroke\"] == 1])\n",
    "    sns.distplot(df[f][df[\"stroke\"] == 0])\n",
    "    ax.set_xlabel('')\n",
    "    ax.set_title('feature: ' + str(f))\n",
    "\n",
    "plt.show()"
   ]
  },
  {
   "cell_type": "code",
   "execution_count": null,
   "id": "18172c6a",
   "metadata": {},
   "outputs": [],
   "source": [
    "# Representación gráfica de dos características\n",
    "plt.figure(figsize=(12, 6))\n",
    "plt.scatter(df[\"age\"][df['stroke'] == 0], df[\"avg_glucose_level\"][df['stroke'] == 0], c=\"y\", marker=\".\")\n",
    "plt.scatter(df[\"age\"][df['stroke'] == 1], df[\"avg_glucose_level\"][df['stroke'] == 1], c=\"r\", marker=\".\")\n",
    "plt.xlabel(\"age\", fontsize=14)\n",
    "plt.ylabel(\"avg_glucose_level\", fontsize=14)\n",
    "plt.show()"
   ]
  },
  {
   "cell_type": "markdown",
   "id": "723083f3",
   "metadata": {},
   "source": [
    "## DBSCAN con un conjunto de datos de dos dimensiones"
   ]
  },
  {
   "cell_type": "code",
   "execution_count": null,
   "id": "ddbf95d8",
   "metadata": {},
   "outputs": [],
   "source": [
    "X_2 = df[[\"age\", \"avg_glucose_level\"]].copy()\n",
    "y = df[\"stroke\"].copy()\n",
    "X_2"
   ]
  },
  {
   "cell_type": "code",
   "execution_count": null,
   "id": "8695ad19",
   "metadata": {},
   "outputs": [],
   "source": [
    "# Construcción de un pipeline para rellenar los valores nulos con la mediana y scalar los datos \n",
    "from sklearn.impute import SimpleImputer\n",
    "\n",
    "num_pipeline = Pipeline([\n",
    "        ('imputer', SimpleImputer(strategy=\"median\")),\n",
    "        ('rbst_scaler', RobustScaler()),\n",
    "    ])"
   ]
  },
  {
   "cell_type": "code",
   "execution_count": null,
   "id": "a8d02db1",
   "metadata": {},
   "outputs": [],
   "source": [
    "# Rellenamos los valores nulos\n",
    "X = num_pipeline.fit_transform(X_2)"
   ]
  },
  {
   "cell_type": "code",
   "execution_count": null,
   "id": "4702195f",
   "metadata": {},
   "outputs": [],
   "source": [
    "# Transformamos el resultado a un DataFrame de Pandas\n",
    "X = pd.DataFrame(X, columns=X_2.columns, index=y_df.index)"
   ]
  },
  {
   "cell_type": "code",
   "execution_count": null,
   "id": "3e657c4f",
   "metadata": {},
   "outputs": [],
   "source": [
    "#Validamos que los cambios se aplicaron correctamente \n",
    "X"
   ]
  },
  {
   "cell_type": "code",
   "execution_count": null,
   "id": "826facd6",
   "metadata": {},
   "outputs": [],
   "source": [
    "from sklearn.cluster import DBSCAN\n",
    "\n",
    "dbscan = DBSCAN(eps=0.15, min_samples=13)\n",
    "dbscan.fit(X)"
   ]
  },
  {
   "cell_type": "code",
   "execution_count": null,
   "id": "fecba53b",
   "metadata": {},
   "outputs": [],
   "source": [
    "def plot_dbscan(dbscan, X, size):\n",
    "    core_mask = np.zeros_like(dbscan.labels_, dtype=bool)\n",
    "    core_mask[dbscan.core_sample_indices_] = True\n",
    "    anomalies_mask = dbscan.labels_ == -1\n",
    "    non_core_mask = ~(core_mask | anomalies_mask)\n",
    "\n",
    "    cores = dbscan.components_\n",
    "    anomalies = X[anomalies_mask]\n",
    "    non_cores = X[non_core_mask]\n",
    "    \n",
    "    plt.scatter(cores[:, 0], cores[:, 1],\n",
    "                c=dbscan.labels_[core_mask], marker='o', s=size, cmap=\"Paired\")\n",
    "    plt.scatter(cores[:, 0], cores[:, 1], marker='*', s=20, c=dbscan.labels_[core_mask])\n",
    "    plt.scatter(anomalies[:, 0], anomalies[:, 1],\n",
    "                c=\"y\", marker=\"x\", s=100)\n",
    "    plt.scatter(non_cores[:, 0], non_cores[:, 1], c=dbscan.labels_[non_core_mask], marker=\"x\")\n",
    "    plt.title(\"eps={:.2f}, min_samples={}\".format(dbscan.eps, dbscan.min_samples), fontsize=14)"
   ]
  },
  {
   "cell_type": "code",
   "execution_count": null,
   "id": "34fea8ff",
   "metadata": {},
   "outputs": [],
   "source": [
    "plt.figure(figsize=(12, 6))\n",
    "plot_dbscan(dbscan, X.values, size=100)\n",
    "plt.xlabel(\"age\", fontsize=14)\n",
    "plt.ylabel(\"avg_glucose_level\", fontsize=14)\n",
    "plt.show()"
   ]
  },
  {
   "cell_type": "code",
   "execution_count": null,
   "id": "6e05df7e",
   "metadata": {},
   "outputs": [],
   "source": [
    "counter = Counter(dbscan.labels_.tolist())\n",
    "bad_counter = Counter(dbscan.labels_[y == 1].tolist())\n",
    "\n",
    "for key in sorted(counter.keys()):\n",
    "    print(\"Label {0} has {1} samples - {2} are stroke samples\".format(\n",
    "        key, counter[key], bad_counter[key]))"
   ]
  },
  {
   "cell_type": "markdown",
   "id": "22f9c51a",
   "metadata": {},
   "source": [
    "## Reducción del número de características"
   ]
  },
  {
   "cell_type": "markdown",
   "id": "fc4f4735",
   "metadata": {},
   "source": [
    "### Segunda preparación del conjunto de datos"
   ]
  },
  {
   "cell_type": "code",
   "execution_count": null,
   "id": "04ecb754",
   "metadata": {},
   "outputs": [],
   "source": [
    "X_df = df.drop(\"stroke\", axis=1)\n",
    "y_df = df[\"stroke\"].copy()"
   ]
  },
  {
   "cell_type": "code",
   "execution_count": null,
   "id": "575aaec6",
   "metadata": {},
   "outputs": [],
   "source": [
    "# Construcción de un pipeline para rellenar los valores nulos con la mediana y scalar los datos \n",
    "from sklearn.impute import SimpleImputer\n",
    "\n",
    "num_pipeline = Pipeline([\n",
    "        ('imputer', SimpleImputer(strategy=\"median\")),\n",
    "        ('rbst_scaler', RobustScaler()),\n",
    "    ])"
   ]
  },
  {
   "cell_type": "code",
   "execution_count": null,
   "id": "4c6dd535",
   "metadata": {},
   "outputs": [],
   "source": [
    "# Rellenamos los valores nulos\n",
    "X = num_pipeline.fit_transform(X_df)"
   ]
  },
  {
   "cell_type": "code",
   "execution_count": null,
   "id": "4d9f547e",
   "metadata": {},
   "outputs": [],
   "source": [
    "# Transformamos el resultado a un DataFrame de Pandas\n",
    "X = pd.DataFrame(X, columns=X_df.columns, index=y_df.index)"
   ]
  },
  {
   "cell_type": "code",
   "execution_count": null,
   "id": "91ca4071",
   "metadata": {},
   "outputs": [],
   "source": [
    "#Validamos que los cambios se aplicaron correctamente \n",
    "X"
   ]
  },
  {
   "cell_type": "markdown",
   "id": "04de4505",
   "metadata": {},
   "source": [
    "### Aplicamos selección de características con _Random Forest_"
   ]
  },
  {
   "cell_type": "code",
   "execution_count": null,
   "id": "f28f3477",
   "metadata": {},
   "outputs": [],
   "source": [
    "# Utilizamos Random Forest para realizar selección de características\n",
    "from sklearn.ensemble import RandomForestClassifier\n",
    "\n",
    "clf_rnd = RandomForestClassifier(n_estimators=50, random_state=42, n_jobs=-1)\n",
    "clf_rnd.fit(X, y_df)"
   ]
  },
  {
   "cell_type": "code",
   "execution_count": null,
   "id": "d3f9dec7",
   "metadata": {},
   "outputs": [],
   "source": [
    "# Seleccionamos las características más importantes\n",
    "feature_importances = {name: score for name, score in zip(list(X), clf_rnd.feature_importances_)}\n",
    "feature_importances_sorted = pd.Series(feature_importances).sort_values(ascending=False)"
   ]
  },
  {
   "cell_type": "code",
   "execution_count": null,
   "id": "63f4e320",
   "metadata": {},
   "outputs": [],
   "source": [
    "# Reducimos el conjunto de datos a las 7 características más importantes\n",
    "X_reduced = X[list(feature_importances_sorted.head(5).index)].copy()"
   ]
  },
  {
   "cell_type": "code",
   "execution_count": null,
   "id": "2cd43700",
   "metadata": {},
   "outputs": [],
   "source": [
    "X_reduced"
   ]
  },
  {
   "cell_type": "markdown",
   "id": "b0c73664",
   "metadata": {},
   "source": [
    "### Entrenamiento de DBSCAN con el conjunto de datos reducido"
   ]
  },
  {
   "cell_type": "code",
   "execution_count": null,
   "id": "b90ffecd",
   "metadata": {},
   "outputs": [],
   "source": [
    "from sklearn.cluster import DBSCAN\n",
    "\n",
    "dbscan = DBSCAN(eps=0.70, min_samples=25)\n",
    "dbscan.fit(X_reduced)"
   ]
  },
  {
   "cell_type": "code",
   "execution_count": null,
   "id": "3ed128fe",
   "metadata": {},
   "outputs": [],
   "source": [
    "counter = Counter(dbscan.labels_.tolist())\n",
    "bad_counter = Counter(dbscan.labels_[y == 1].tolist())\n",
    "\n",
    "for key in sorted(counter.keys()):\n",
    "    print(\"Label {0} has {1} samples - {2} are stroke samples\".format(\n",
    "        key, counter[key], bad_counter[key]))"
   ]
  },
  {
   "cell_type": "markdown",
   "id": "237355b0",
   "metadata": {},
   "source": [
    "## 6. Evaluación de los resultados"
   ]
  },
  {
   "cell_type": "code",
   "execution_count": null,
   "id": "990e9361",
   "metadata": {},
   "outputs": [],
   "source": [
    "# Obtenemos los clusters del objeto dbscan\n",
    "clusters = dbscan.labels_"
   ]
  },
  {
   "cell_type": "code",
   "execution_count": null,
   "id": "2944148d",
   "metadata": {},
   "outputs": [],
   "source": [
    "# Calculamos el purity score, es importante darse cuenta de que recibe las etiquetas\n",
    "print(\"Purity Score:\", purity_score(y, clusters))"
   ]
  },
  {
   "cell_type": "code",
   "execution_count": null,
   "id": "269555c8",
   "metadata": {},
   "outputs": [],
   "source": [
    "# Calculamos el coeficiente de Shiloutte, es importante darse cuenta de que no le pasamos las etiquetas\n",
    "print(\"Shiloutte: \", metrics.silhouette_score(X_reduced, clusters, sample_size=10000))"
   ]
  },
  {
   "cell_type": "code",
   "execution_count": null,
   "id": "43dde1f2",
   "metadata": {},
   "outputs": [],
   "source": [
    "# Calculamos el Calinski harabasz score, es importante darse cuenta de que no le pasamos las etiquetas\n",
    "print(\"Calinski harabasz: \", metrics.calinski_harabasz_score(X_reduced, clusters))"
   ]
  }
 ],
 "metadata": {
  "kernelspec": {
   "display_name": "Python 3",
   "language": "python",
   "name": "python3"
  },
  "language_info": {
   "codemirror_mode": {
    "name": "ipython",
    "version": 3
   },
   "file_extension": ".py",
   "mimetype": "text/x-python",
   "name": "python",
   "nbconvert_exporter": "python",
   "pygments_lexer": "ipython3",
   "version": "3.8.8"
  }
 },
 "nbformat": 4,
 "nbformat_minor": 5
}
