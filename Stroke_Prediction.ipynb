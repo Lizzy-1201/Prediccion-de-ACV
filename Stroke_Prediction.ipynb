{
 "cells": [
  {
   "cell_type": "code",
   "execution_count": 1,
   "id": "87fca3ca",
   "metadata": {},
   "outputs": [],
   "source": [
    "# importación de las librerias y bibliotecas que serán utilizadas para el análisis y preparación de los datos\n",
    "import pandas as pd\n",
    "import numpy as np\n",
    "import matplotlib.pyplot as plt\n",
    "import seaborn as sns\n",
    "from sklearn.preprocessing import RobustScaler\n",
    "from sklearn.pipeline import Pipeline"
   ]
  },
  {
   "cell_type": "code",
   "execution_count": 2,
   "id": "6bb87661",
   "metadata": {},
   "outputs": [],
   "source": [
    "#Lectura del dataset \n",
    "df = pd.read_csv('healthcare-dataset-stroke-data.csv')"
   ]
  },
  {
   "cell_type": "code",
   "execution_count": 3,
   "id": "a91b1990",
   "metadata": {},
   "outputs": [
    {
     "data": {
      "text/html": [
       "<div>\n",
       "<style scoped>\n",
       "    .dataframe tbody tr th:only-of-type {\n",
       "        vertical-align: middle;\n",
       "    }\n",
       "\n",
       "    .dataframe tbody tr th {\n",
       "        vertical-align: top;\n",
       "    }\n",
       "\n",
       "    .dataframe thead th {\n",
       "        text-align: right;\n",
       "    }\n",
       "</style>\n",
       "<table border=\"1\" class=\"dataframe\">\n",
       "  <thead>\n",
       "    <tr style=\"text-align: right;\">\n",
       "      <th></th>\n",
       "      <th>id</th>\n",
       "      <th>gender</th>\n",
       "      <th>age</th>\n",
       "      <th>hypertension</th>\n",
       "      <th>heart_disease</th>\n",
       "      <th>ever_married</th>\n",
       "      <th>work_type</th>\n",
       "      <th>Residence_type</th>\n",
       "      <th>avg_glucose_level</th>\n",
       "      <th>bmi</th>\n",
       "      <th>smoking_status</th>\n",
       "      <th>stroke</th>\n",
       "    </tr>\n",
       "  </thead>\n",
       "  <tbody>\n",
       "    <tr>\n",
       "      <th>0</th>\n",
       "      <td>9046</td>\n",
       "      <td>Male</td>\n",
       "      <td>67.0</td>\n",
       "      <td>0</td>\n",
       "      <td>1</td>\n",
       "      <td>Yes</td>\n",
       "      <td>Private</td>\n",
       "      <td>Urban</td>\n",
       "      <td>228.69</td>\n",
       "      <td>36.6</td>\n",
       "      <td>formerly smoked</td>\n",
       "      <td>1</td>\n",
       "    </tr>\n",
       "    <tr>\n",
       "      <th>1</th>\n",
       "      <td>51676</td>\n",
       "      <td>Female</td>\n",
       "      <td>61.0</td>\n",
       "      <td>0</td>\n",
       "      <td>0</td>\n",
       "      <td>Yes</td>\n",
       "      <td>Self-employed</td>\n",
       "      <td>Rural</td>\n",
       "      <td>202.21</td>\n",
       "      <td>NaN</td>\n",
       "      <td>never smoked</td>\n",
       "      <td>1</td>\n",
       "    </tr>\n",
       "    <tr>\n",
       "      <th>2</th>\n",
       "      <td>31112</td>\n",
       "      <td>Male</td>\n",
       "      <td>80.0</td>\n",
       "      <td>0</td>\n",
       "      <td>1</td>\n",
       "      <td>Yes</td>\n",
       "      <td>Private</td>\n",
       "      <td>Rural</td>\n",
       "      <td>105.92</td>\n",
       "      <td>32.5</td>\n",
       "      <td>never smoked</td>\n",
       "      <td>1</td>\n",
       "    </tr>\n",
       "    <tr>\n",
       "      <th>3</th>\n",
       "      <td>60182</td>\n",
       "      <td>Female</td>\n",
       "      <td>49.0</td>\n",
       "      <td>0</td>\n",
       "      <td>0</td>\n",
       "      <td>Yes</td>\n",
       "      <td>Private</td>\n",
       "      <td>Urban</td>\n",
       "      <td>171.23</td>\n",
       "      <td>34.4</td>\n",
       "      <td>smokes</td>\n",
       "      <td>1</td>\n",
       "    </tr>\n",
       "    <tr>\n",
       "      <th>4</th>\n",
       "      <td>1665</td>\n",
       "      <td>Female</td>\n",
       "      <td>79.0</td>\n",
       "      <td>1</td>\n",
       "      <td>0</td>\n",
       "      <td>Yes</td>\n",
       "      <td>Self-employed</td>\n",
       "      <td>Rural</td>\n",
       "      <td>174.12</td>\n",
       "      <td>24.0</td>\n",
       "      <td>never smoked</td>\n",
       "      <td>1</td>\n",
       "    </tr>\n",
       "    <tr>\n",
       "      <th>...</th>\n",
       "      <td>...</td>\n",
       "      <td>...</td>\n",
       "      <td>...</td>\n",
       "      <td>...</td>\n",
       "      <td>...</td>\n",
       "      <td>...</td>\n",
       "      <td>...</td>\n",
       "      <td>...</td>\n",
       "      <td>...</td>\n",
       "      <td>...</td>\n",
       "      <td>...</td>\n",
       "      <td>...</td>\n",
       "    </tr>\n",
       "    <tr>\n",
       "      <th>5105</th>\n",
       "      <td>18234</td>\n",
       "      <td>Female</td>\n",
       "      <td>80.0</td>\n",
       "      <td>1</td>\n",
       "      <td>0</td>\n",
       "      <td>Yes</td>\n",
       "      <td>Private</td>\n",
       "      <td>Urban</td>\n",
       "      <td>83.75</td>\n",
       "      <td>NaN</td>\n",
       "      <td>never smoked</td>\n",
       "      <td>0</td>\n",
       "    </tr>\n",
       "    <tr>\n",
       "      <th>5106</th>\n",
       "      <td>44873</td>\n",
       "      <td>Female</td>\n",
       "      <td>81.0</td>\n",
       "      <td>0</td>\n",
       "      <td>0</td>\n",
       "      <td>Yes</td>\n",
       "      <td>Self-employed</td>\n",
       "      <td>Urban</td>\n",
       "      <td>125.20</td>\n",
       "      <td>40.0</td>\n",
       "      <td>never smoked</td>\n",
       "      <td>0</td>\n",
       "    </tr>\n",
       "    <tr>\n",
       "      <th>5107</th>\n",
       "      <td>19723</td>\n",
       "      <td>Female</td>\n",
       "      <td>35.0</td>\n",
       "      <td>0</td>\n",
       "      <td>0</td>\n",
       "      <td>Yes</td>\n",
       "      <td>Self-employed</td>\n",
       "      <td>Rural</td>\n",
       "      <td>82.99</td>\n",
       "      <td>30.6</td>\n",
       "      <td>never smoked</td>\n",
       "      <td>0</td>\n",
       "    </tr>\n",
       "    <tr>\n",
       "      <th>5108</th>\n",
       "      <td>37544</td>\n",
       "      <td>Male</td>\n",
       "      <td>51.0</td>\n",
       "      <td>0</td>\n",
       "      <td>0</td>\n",
       "      <td>Yes</td>\n",
       "      <td>Private</td>\n",
       "      <td>Rural</td>\n",
       "      <td>166.29</td>\n",
       "      <td>25.6</td>\n",
       "      <td>formerly smoked</td>\n",
       "      <td>0</td>\n",
       "    </tr>\n",
       "    <tr>\n",
       "      <th>5109</th>\n",
       "      <td>44679</td>\n",
       "      <td>Female</td>\n",
       "      <td>44.0</td>\n",
       "      <td>0</td>\n",
       "      <td>0</td>\n",
       "      <td>Yes</td>\n",
       "      <td>Govt_job</td>\n",
       "      <td>Urban</td>\n",
       "      <td>85.28</td>\n",
       "      <td>26.2</td>\n",
       "      <td>Unknown</td>\n",
       "      <td>0</td>\n",
       "    </tr>\n",
       "  </tbody>\n",
       "</table>\n",
       "<p>5110 rows × 12 columns</p>\n",
       "</div>"
      ],
      "text/plain": [
       "         id  gender   age  hypertension  heart_disease ever_married  \\\n",
       "0      9046    Male  67.0             0              1          Yes   \n",
       "1     51676  Female  61.0             0              0          Yes   \n",
       "2     31112    Male  80.0             0              1          Yes   \n",
       "3     60182  Female  49.0             0              0          Yes   \n",
       "4      1665  Female  79.0             1              0          Yes   \n",
       "...     ...     ...   ...           ...            ...          ...   \n",
       "5105  18234  Female  80.0             1              0          Yes   \n",
       "5106  44873  Female  81.0             0              0          Yes   \n",
       "5107  19723  Female  35.0             0              0          Yes   \n",
       "5108  37544    Male  51.0             0              0          Yes   \n",
       "5109  44679  Female  44.0             0              0          Yes   \n",
       "\n",
       "          work_type Residence_type  avg_glucose_level   bmi   smoking_status  \\\n",
       "0           Private          Urban             228.69  36.6  formerly smoked   \n",
       "1     Self-employed          Rural             202.21   NaN     never smoked   \n",
       "2           Private          Rural             105.92  32.5     never smoked   \n",
       "3           Private          Urban             171.23  34.4           smokes   \n",
       "4     Self-employed          Rural             174.12  24.0     never smoked   \n",
       "...             ...            ...                ...   ...              ...   \n",
       "5105        Private          Urban              83.75   NaN     never smoked   \n",
       "5106  Self-employed          Urban             125.20  40.0     never smoked   \n",
       "5107  Self-employed          Rural              82.99  30.6     never smoked   \n",
       "5108        Private          Rural             166.29  25.6  formerly smoked   \n",
       "5109       Govt_job          Urban              85.28  26.2          Unknown   \n",
       "\n",
       "      stroke  \n",
       "0          1  \n",
       "1          1  \n",
       "2          1  \n",
       "3          1  \n",
       "4          1  \n",
       "...      ...  \n",
       "5105       0  \n",
       "5106       0  \n",
       "5107       0  \n",
       "5108       0  \n",
       "5109       0  \n",
       "\n",
       "[5110 rows x 12 columns]"
      ]
     },
     "execution_count": 3,
     "metadata": {},
     "output_type": "execute_result"
    }
   ],
   "source": [
    "#Visualización inicial del conjunto de datos\n",
    "df"
   ]
  },
  {
   "cell_type": "markdown",
   "id": "68820afc",
   "metadata": {},
   "source": [
    "# Evaluación de los datos"
   ]
  },
  {
   "cell_type": "code",
   "execution_count": 4,
   "id": "f69233c9",
   "metadata": {},
   "outputs": [
    {
     "name": "stdout",
     "output_type": "stream",
     "text": [
      "<class 'pandas.core.frame.DataFrame'>\n",
      "RangeIndex: 5110 entries, 0 to 5109\n",
      "Data columns (total 12 columns):\n",
      " #   Column             Non-Null Count  Dtype  \n",
      "---  ------             --------------  -----  \n",
      " 0   id                 5110 non-null   int64  \n",
      " 1   gender             5110 non-null   object \n",
      " 2   age                5110 non-null   float64\n",
      " 3   hypertension       5110 non-null   int64  \n",
      " 4   heart_disease      5110 non-null   int64  \n",
      " 5   ever_married       5110 non-null   object \n",
      " 6   work_type          5110 non-null   object \n",
      " 7   Residence_type     5110 non-null   object \n",
      " 8   avg_glucose_level  5110 non-null   float64\n",
      " 9   bmi                4909 non-null   float64\n",
      " 10  smoking_status     5110 non-null   object \n",
      " 11  stroke             5110 non-null   int64  \n",
      "dtypes: float64(3), int64(4), object(5)\n",
      "memory usage: 479.2+ KB\n"
     ]
    }
   ],
   "source": [
    "#Visualizamos la informacion básica del conjunto de datos\n",
    "df.info()"
   ]
  },
  {
   "cell_type": "code",
   "execution_count": 5,
   "id": "42272829",
   "metadata": {},
   "outputs": [
    {
     "data": {
      "text/html": [
       "<div>\n",
       "<style scoped>\n",
       "    .dataframe tbody tr th:only-of-type {\n",
       "        vertical-align: middle;\n",
       "    }\n",
       "\n",
       "    .dataframe tbody tr th {\n",
       "        vertical-align: top;\n",
       "    }\n",
       "\n",
       "    .dataframe thead th {\n",
       "        text-align: right;\n",
       "    }\n",
       "</style>\n",
       "<table border=\"1\" class=\"dataframe\">\n",
       "  <thead>\n",
       "    <tr style=\"text-align: right;\">\n",
       "      <th></th>\n",
       "      <th>id</th>\n",
       "      <th>age</th>\n",
       "      <th>hypertension</th>\n",
       "      <th>heart_disease</th>\n",
       "      <th>avg_glucose_level</th>\n",
       "      <th>bmi</th>\n",
       "      <th>stroke</th>\n",
       "    </tr>\n",
       "  </thead>\n",
       "  <tbody>\n",
       "    <tr>\n",
       "      <th>count</th>\n",
       "      <td>5110.000000</td>\n",
       "      <td>5110.000000</td>\n",
       "      <td>5110.000000</td>\n",
       "      <td>5110.000000</td>\n",
       "      <td>5110.000000</td>\n",
       "      <td>4909.000000</td>\n",
       "      <td>5110.000000</td>\n",
       "    </tr>\n",
       "    <tr>\n",
       "      <th>mean</th>\n",
       "      <td>36517.829354</td>\n",
       "      <td>43.226614</td>\n",
       "      <td>0.097456</td>\n",
       "      <td>0.054012</td>\n",
       "      <td>106.147677</td>\n",
       "      <td>28.893237</td>\n",
       "      <td>0.048728</td>\n",
       "    </tr>\n",
       "    <tr>\n",
       "      <th>std</th>\n",
       "      <td>21161.721625</td>\n",
       "      <td>22.612647</td>\n",
       "      <td>0.296607</td>\n",
       "      <td>0.226063</td>\n",
       "      <td>45.283560</td>\n",
       "      <td>7.854067</td>\n",
       "      <td>0.215320</td>\n",
       "    </tr>\n",
       "    <tr>\n",
       "      <th>min</th>\n",
       "      <td>67.000000</td>\n",
       "      <td>0.080000</td>\n",
       "      <td>0.000000</td>\n",
       "      <td>0.000000</td>\n",
       "      <td>55.120000</td>\n",
       "      <td>10.300000</td>\n",
       "      <td>0.000000</td>\n",
       "    </tr>\n",
       "    <tr>\n",
       "      <th>25%</th>\n",
       "      <td>17741.250000</td>\n",
       "      <td>25.000000</td>\n",
       "      <td>0.000000</td>\n",
       "      <td>0.000000</td>\n",
       "      <td>77.245000</td>\n",
       "      <td>23.500000</td>\n",
       "      <td>0.000000</td>\n",
       "    </tr>\n",
       "    <tr>\n",
       "      <th>50%</th>\n",
       "      <td>36932.000000</td>\n",
       "      <td>45.000000</td>\n",
       "      <td>0.000000</td>\n",
       "      <td>0.000000</td>\n",
       "      <td>91.885000</td>\n",
       "      <td>28.100000</td>\n",
       "      <td>0.000000</td>\n",
       "    </tr>\n",
       "    <tr>\n",
       "      <th>75%</th>\n",
       "      <td>54682.000000</td>\n",
       "      <td>61.000000</td>\n",
       "      <td>0.000000</td>\n",
       "      <td>0.000000</td>\n",
       "      <td>114.090000</td>\n",
       "      <td>33.100000</td>\n",
       "      <td>0.000000</td>\n",
       "    </tr>\n",
       "    <tr>\n",
       "      <th>max</th>\n",
       "      <td>72940.000000</td>\n",
       "      <td>82.000000</td>\n",
       "      <td>1.000000</td>\n",
       "      <td>1.000000</td>\n",
       "      <td>271.740000</td>\n",
       "      <td>97.600000</td>\n",
       "      <td>1.000000</td>\n",
       "    </tr>\n",
       "  </tbody>\n",
       "</table>\n",
       "</div>"
      ],
      "text/plain": [
       "                 id          age  hypertension  heart_disease  \\\n",
       "count   5110.000000  5110.000000   5110.000000    5110.000000   \n",
       "mean   36517.829354    43.226614      0.097456       0.054012   \n",
       "std    21161.721625    22.612647      0.296607       0.226063   \n",
       "min       67.000000     0.080000      0.000000       0.000000   \n",
       "25%    17741.250000    25.000000      0.000000       0.000000   \n",
       "50%    36932.000000    45.000000      0.000000       0.000000   \n",
       "75%    54682.000000    61.000000      0.000000       0.000000   \n",
       "max    72940.000000    82.000000      1.000000       1.000000   \n",
       "\n",
       "       avg_glucose_level          bmi       stroke  \n",
       "count        5110.000000  4909.000000  5110.000000  \n",
       "mean          106.147677    28.893237     0.048728  \n",
       "std            45.283560     7.854067     0.215320  \n",
       "min            55.120000    10.300000     0.000000  \n",
       "25%            77.245000    23.500000     0.000000  \n",
       "50%            91.885000    28.100000     0.000000  \n",
       "75%           114.090000    33.100000     0.000000  \n",
       "max           271.740000    97.600000     1.000000  "
      ]
     },
     "execution_count": 5,
     "metadata": {},
     "output_type": "execute_result"
    }
   ],
   "source": [
    "#Visualización de la información estadística del conjunto de datos\n",
    "df.describe()"
   ]
  },
  {
   "cell_type": "code",
   "execution_count": 6,
   "id": "ea82eacc",
   "metadata": {},
   "outputs": [
    {
     "data": {
      "text/plain": [
       "stroke               1.000000\n",
       "age                  0.245257\n",
       "heart_disease        0.134914\n",
       "avg_glucose_level    0.131945\n",
       "hypertension         0.127904\n",
       "bmi                  0.042374\n",
       "id                   0.006388\n",
       "Name: stroke, dtype: float64"
      ]
     },
     "execution_count": 6,
     "metadata": {},
     "output_type": "execute_result"
    }
   ],
   "source": [
    "# Validación de la correlación entre las variables de entrada con relación a la variable de salida.\n",
    "corr_matrix = df.corr()\n",
    "corr_matrix[\"stroke\"].sort_values(ascending=False)"
   ]
  },
  {
   "cell_type": "code",
   "execution_count": 7,
   "id": "fa564759",
   "metadata": {},
   "outputs": [
    {
     "data": {
      "text/plain": [
       "id                   False\n",
       "gender               False\n",
       "age                  False\n",
       "hypertension         False\n",
       "heart_disease        False\n",
       "ever_married         False\n",
       "work_type            False\n",
       "Residence_type       False\n",
       "avg_glucose_level    False\n",
       "bmi                   True\n",
       "smoking_status       False\n",
       "stroke               False\n",
       "dtype: bool"
      ]
     },
     "execution_count": 7,
     "metadata": {},
     "output_type": "execute_result"
    }
   ],
   "source": [
    "#Validación si hay algún valor nulo en el conjunto de datos.\n",
    "df.isna().any()"
   ]
  },
  {
   "cell_type": "code",
   "execution_count": 8,
   "id": "f714209c",
   "metadata": {},
   "outputs": [
    {
     "data": {
      "text/plain": [
       "0    4861\n",
       "1     249\n",
       "Name: stroke, dtype: int64"
      ]
     },
     "execution_count": 8,
     "metadata": {},
     "output_type": "execute_result"
    }
   ],
   "source": [
    "#Validación de la cantidad de ejemplos que posee el dataset segun la variable de salida.\n",
    "df[\"stroke\"].value_counts()"
   ]
  },
  {
   "cell_type": "code",
   "execution_count": 9,
   "id": "04ee44d3",
   "metadata": {},
   "outputs": [],
   "source": [
    "#Transformación de las columnas categoricas a numericas.\n",
    "df_new = pd.get_dummies(df, columns=['gender','ever_married','work_type','Residence_type','smoking_status'], drop_first=True)"
   ]
  },
  {
   "cell_type": "code",
   "execution_count": 10,
   "id": "fe776176",
   "metadata": {},
   "outputs": [],
   "source": [
    "#Eliminación de datos que son irrelevantes y que podrian afectar el resultado.\n",
    "df_new = df_new.drop(['id'], axis=1)"
   ]
  },
  {
   "cell_type": "code",
   "execution_count": 11,
   "id": "6c13d2c1",
   "metadata": {},
   "outputs": [
    {
     "data": {
      "text/html": [
       "<div>\n",
       "<style scoped>\n",
       "    .dataframe tbody tr th:only-of-type {\n",
       "        vertical-align: middle;\n",
       "    }\n",
       "\n",
       "    .dataframe tbody tr th {\n",
       "        vertical-align: top;\n",
       "    }\n",
       "\n",
       "    .dataframe thead th {\n",
       "        text-align: right;\n",
       "    }\n",
       "</style>\n",
       "<table border=\"1\" class=\"dataframe\">\n",
       "  <thead>\n",
       "    <tr style=\"text-align: right;\">\n",
       "      <th></th>\n",
       "      <th>age</th>\n",
       "      <th>hypertension</th>\n",
       "      <th>heart_disease</th>\n",
       "      <th>avg_glucose_level</th>\n",
       "      <th>bmi</th>\n",
       "      <th>stroke</th>\n",
       "      <th>gender_Male</th>\n",
       "      <th>gender_Other</th>\n",
       "      <th>ever_married_Yes</th>\n",
       "      <th>work_type_Never_worked</th>\n",
       "      <th>work_type_Private</th>\n",
       "      <th>work_type_Self-employed</th>\n",
       "      <th>work_type_children</th>\n",
       "      <th>Residence_type_Urban</th>\n",
       "      <th>smoking_status_formerly smoked</th>\n",
       "      <th>smoking_status_never smoked</th>\n",
       "      <th>smoking_status_smokes</th>\n",
       "    </tr>\n",
       "  </thead>\n",
       "  <tbody>\n",
       "    <tr>\n",
       "      <th>0</th>\n",
       "      <td>67.0</td>\n",
       "      <td>0</td>\n",
       "      <td>1</td>\n",
       "      <td>228.69</td>\n",
       "      <td>36.6</td>\n",
       "      <td>1</td>\n",
       "      <td>1</td>\n",
       "      <td>0</td>\n",
       "      <td>1</td>\n",
       "      <td>0</td>\n",
       "      <td>1</td>\n",
       "      <td>0</td>\n",
       "      <td>0</td>\n",
       "      <td>1</td>\n",
       "      <td>1</td>\n",
       "      <td>0</td>\n",
       "      <td>0</td>\n",
       "    </tr>\n",
       "    <tr>\n",
       "      <th>1</th>\n",
       "      <td>61.0</td>\n",
       "      <td>0</td>\n",
       "      <td>0</td>\n",
       "      <td>202.21</td>\n",
       "      <td>NaN</td>\n",
       "      <td>1</td>\n",
       "      <td>0</td>\n",
       "      <td>0</td>\n",
       "      <td>1</td>\n",
       "      <td>0</td>\n",
       "      <td>0</td>\n",
       "      <td>1</td>\n",
       "      <td>0</td>\n",
       "      <td>0</td>\n",
       "      <td>0</td>\n",
       "      <td>1</td>\n",
       "      <td>0</td>\n",
       "    </tr>\n",
       "    <tr>\n",
       "      <th>2</th>\n",
       "      <td>80.0</td>\n",
       "      <td>0</td>\n",
       "      <td>1</td>\n",
       "      <td>105.92</td>\n",
       "      <td>32.5</td>\n",
       "      <td>1</td>\n",
       "      <td>1</td>\n",
       "      <td>0</td>\n",
       "      <td>1</td>\n",
       "      <td>0</td>\n",
       "      <td>1</td>\n",
       "      <td>0</td>\n",
       "      <td>0</td>\n",
       "      <td>0</td>\n",
       "      <td>0</td>\n",
       "      <td>1</td>\n",
       "      <td>0</td>\n",
       "    </tr>\n",
       "    <tr>\n",
       "      <th>3</th>\n",
       "      <td>49.0</td>\n",
       "      <td>0</td>\n",
       "      <td>0</td>\n",
       "      <td>171.23</td>\n",
       "      <td>34.4</td>\n",
       "      <td>1</td>\n",
       "      <td>0</td>\n",
       "      <td>0</td>\n",
       "      <td>1</td>\n",
       "      <td>0</td>\n",
       "      <td>1</td>\n",
       "      <td>0</td>\n",
       "      <td>0</td>\n",
       "      <td>1</td>\n",
       "      <td>0</td>\n",
       "      <td>0</td>\n",
       "      <td>1</td>\n",
       "    </tr>\n",
       "    <tr>\n",
       "      <th>4</th>\n",
       "      <td>79.0</td>\n",
       "      <td>1</td>\n",
       "      <td>0</td>\n",
       "      <td>174.12</td>\n",
       "      <td>24.0</td>\n",
       "      <td>1</td>\n",
       "      <td>0</td>\n",
       "      <td>0</td>\n",
       "      <td>1</td>\n",
       "      <td>0</td>\n",
       "      <td>0</td>\n",
       "      <td>1</td>\n",
       "      <td>0</td>\n",
       "      <td>0</td>\n",
       "      <td>0</td>\n",
       "      <td>1</td>\n",
       "      <td>0</td>\n",
       "    </tr>\n",
       "    <tr>\n",
       "      <th>...</th>\n",
       "      <td>...</td>\n",
       "      <td>...</td>\n",
       "      <td>...</td>\n",
       "      <td>...</td>\n",
       "      <td>...</td>\n",
       "      <td>...</td>\n",
       "      <td>...</td>\n",
       "      <td>...</td>\n",
       "      <td>...</td>\n",
       "      <td>...</td>\n",
       "      <td>...</td>\n",
       "      <td>...</td>\n",
       "      <td>...</td>\n",
       "      <td>...</td>\n",
       "      <td>...</td>\n",
       "      <td>...</td>\n",
       "      <td>...</td>\n",
       "    </tr>\n",
       "    <tr>\n",
       "      <th>5105</th>\n",
       "      <td>80.0</td>\n",
       "      <td>1</td>\n",
       "      <td>0</td>\n",
       "      <td>83.75</td>\n",
       "      <td>NaN</td>\n",
       "      <td>0</td>\n",
       "      <td>0</td>\n",
       "      <td>0</td>\n",
       "      <td>1</td>\n",
       "      <td>0</td>\n",
       "      <td>1</td>\n",
       "      <td>0</td>\n",
       "      <td>0</td>\n",
       "      <td>1</td>\n",
       "      <td>0</td>\n",
       "      <td>1</td>\n",
       "      <td>0</td>\n",
       "    </tr>\n",
       "    <tr>\n",
       "      <th>5106</th>\n",
       "      <td>81.0</td>\n",
       "      <td>0</td>\n",
       "      <td>0</td>\n",
       "      <td>125.20</td>\n",
       "      <td>40.0</td>\n",
       "      <td>0</td>\n",
       "      <td>0</td>\n",
       "      <td>0</td>\n",
       "      <td>1</td>\n",
       "      <td>0</td>\n",
       "      <td>0</td>\n",
       "      <td>1</td>\n",
       "      <td>0</td>\n",
       "      <td>1</td>\n",
       "      <td>0</td>\n",
       "      <td>1</td>\n",
       "      <td>0</td>\n",
       "    </tr>\n",
       "    <tr>\n",
       "      <th>5107</th>\n",
       "      <td>35.0</td>\n",
       "      <td>0</td>\n",
       "      <td>0</td>\n",
       "      <td>82.99</td>\n",
       "      <td>30.6</td>\n",
       "      <td>0</td>\n",
       "      <td>0</td>\n",
       "      <td>0</td>\n",
       "      <td>1</td>\n",
       "      <td>0</td>\n",
       "      <td>0</td>\n",
       "      <td>1</td>\n",
       "      <td>0</td>\n",
       "      <td>0</td>\n",
       "      <td>0</td>\n",
       "      <td>1</td>\n",
       "      <td>0</td>\n",
       "    </tr>\n",
       "    <tr>\n",
       "      <th>5108</th>\n",
       "      <td>51.0</td>\n",
       "      <td>0</td>\n",
       "      <td>0</td>\n",
       "      <td>166.29</td>\n",
       "      <td>25.6</td>\n",
       "      <td>0</td>\n",
       "      <td>1</td>\n",
       "      <td>0</td>\n",
       "      <td>1</td>\n",
       "      <td>0</td>\n",
       "      <td>1</td>\n",
       "      <td>0</td>\n",
       "      <td>0</td>\n",
       "      <td>0</td>\n",
       "      <td>1</td>\n",
       "      <td>0</td>\n",
       "      <td>0</td>\n",
       "    </tr>\n",
       "    <tr>\n",
       "      <th>5109</th>\n",
       "      <td>44.0</td>\n",
       "      <td>0</td>\n",
       "      <td>0</td>\n",
       "      <td>85.28</td>\n",
       "      <td>26.2</td>\n",
       "      <td>0</td>\n",
       "      <td>0</td>\n",
       "      <td>0</td>\n",
       "      <td>1</td>\n",
       "      <td>0</td>\n",
       "      <td>0</td>\n",
       "      <td>0</td>\n",
       "      <td>0</td>\n",
       "      <td>1</td>\n",
       "      <td>0</td>\n",
       "      <td>0</td>\n",
       "      <td>0</td>\n",
       "    </tr>\n",
       "  </tbody>\n",
       "</table>\n",
       "<p>5110 rows × 17 columns</p>\n",
       "</div>"
      ],
      "text/plain": [
       "       age  hypertension  heart_disease  avg_glucose_level   bmi  stroke  \\\n",
       "0     67.0             0              1             228.69  36.6       1   \n",
       "1     61.0             0              0             202.21   NaN       1   \n",
       "2     80.0             0              1             105.92  32.5       1   \n",
       "3     49.0             0              0             171.23  34.4       1   \n",
       "4     79.0             1              0             174.12  24.0       1   \n",
       "...    ...           ...            ...                ...   ...     ...   \n",
       "5105  80.0             1              0              83.75   NaN       0   \n",
       "5106  81.0             0              0             125.20  40.0       0   \n",
       "5107  35.0             0              0              82.99  30.6       0   \n",
       "5108  51.0             0              0             166.29  25.6       0   \n",
       "5109  44.0             0              0              85.28  26.2       0   \n",
       "\n",
       "      gender_Male  gender_Other  ever_married_Yes  work_type_Never_worked  \\\n",
       "0               1             0                 1                       0   \n",
       "1               0             0                 1                       0   \n",
       "2               1             0                 1                       0   \n",
       "3               0             0                 1                       0   \n",
       "4               0             0                 1                       0   \n",
       "...           ...           ...               ...                     ...   \n",
       "5105            0             0                 1                       0   \n",
       "5106            0             0                 1                       0   \n",
       "5107            0             0                 1                       0   \n",
       "5108            1             0                 1                       0   \n",
       "5109            0             0                 1                       0   \n",
       "\n",
       "      work_type_Private  work_type_Self-employed  work_type_children  \\\n",
       "0                     1                        0                   0   \n",
       "1                     0                        1                   0   \n",
       "2                     1                        0                   0   \n",
       "3                     1                        0                   0   \n",
       "4                     0                        1                   0   \n",
       "...                 ...                      ...                 ...   \n",
       "5105                  1                        0                   0   \n",
       "5106                  0                        1                   0   \n",
       "5107                  0                        1                   0   \n",
       "5108                  1                        0                   0   \n",
       "5109                  0                        0                   0   \n",
       "\n",
       "      Residence_type_Urban  smoking_status_formerly smoked  \\\n",
       "0                        1                               1   \n",
       "1                        0                               0   \n",
       "2                        0                               0   \n",
       "3                        1                               0   \n",
       "4                        0                               0   \n",
       "...                    ...                             ...   \n",
       "5105                     1                               0   \n",
       "5106                     1                               0   \n",
       "5107                     0                               0   \n",
       "5108                     0                               1   \n",
       "5109                     1                               0   \n",
       "\n",
       "      smoking_status_never smoked  smoking_status_smokes  \n",
       "0                               0                      0  \n",
       "1                               1                      0  \n",
       "2                               1                      0  \n",
       "3                               0                      1  \n",
       "4                               1                      0  \n",
       "...                           ...                    ...  \n",
       "5105                            1                      0  \n",
       "5106                            1                      0  \n",
       "5107                            1                      0  \n",
       "5108                            0                      0  \n",
       "5109                            0                      0  \n",
       "\n",
       "[5110 rows x 17 columns]"
      ]
     },
     "execution_count": 11,
     "metadata": {},
     "output_type": "execute_result"
    }
   ],
   "source": [
    "#Vizualición de los cambios aplicados\n",
    "df_new"
   ]
  },
  {
   "cell_type": "code",
   "execution_count": 12,
   "id": "d7bc32c5",
   "metadata": {},
   "outputs": [
    {
     "data": {
      "image/png": "[encoded data removed]",
      "text/plain": [
       "<Figure size 1440x1080 with 20 Axes>"
      ]
     },
     "metadata": {
      "needs_background": "light"
     },
     "output_type": "display_data"
    }
   ],
   "source": [
    "# Representación gráfica de la distribución de los atributos\n",
    "df_new.hist(bins=50, figsize=(20,15))\n",
    "plt.show()"
   ]
  },
  {
   "cell_type": "code",
   "execution_count": 13,
   "id": "4139fad3",
   "metadata": {},
   "outputs": [],
   "source": [
    "edad_grupo = pd.cut(x=df_new['age'],\n",
    "                    bins=[0,10,20,30,40,50,60,70,80,85,float('inf')], \n",
    "                    labels=[\"0-10\",\"10-20\",\"20-30\",\"30-40\",\"40-50\",\"50-60\",\"60-70\",\"70-80\",\"80-85\",\"85+\"])\n",
    "edad_total = edad_grupo.value_counts().sort_index()\n",
    "\n",
    "edad_indexes = edad_total.index.values\n",
    "edad_valores = edad_total.values"
   ]
  },
  {
   "cell_type": "code",
   "execution_count": 14,
   "id": "eca3af87",
   "metadata": {},
   "outputs": [
    {
     "data": {
      "image/png": "[encoded data removed]",
      "text/plain": [
       "<Figure size 864x576 with 1 Axes>"
      ]
     },
     "metadata": {
      "needs_background": "light"
     },
     "output_type": "display_data"
    }
   ],
   "source": [
    "plt.figure(figsize = (12, 8))\n",
    " \n",
    "# Creación de una gráfica bar plot para representar la distribución de la edad\n",
    "edad_bar = plt.bar(edad_indexes, edad_valores, color ='Skyblue', width = 0.4)\n",
    "for i, rectangle in enumerate(edad_bar):\n",
    "    height = rectangle.get_height()\n",
    "    plt.text(rectangle.get_x() + rectangle.get_width()/2, height+2,\n",
    "             edad_valores[i], horizontalalignment='center', weight='bold', fontsize=12)\n",
    " \n",
    "plt.xlabel(\"Edad\", fontsize=13)\n",
    "plt.ylabel(\"Recuento del rango de edad\", fontsize=13)\n",
    "plt.title(\"Distribución de los datos por edad\", weight='bold', fontsize=18)\n",
    "plt.show()"
   ]
  },
  {
   "cell_type": "code",
   "execution_count": 15,
   "id": "54b8b280",
   "metadata": {},
   "outputs": [],
   "source": [
    "glucose_grupo = pd.cut(x=df_new['avg_glucose_level'],\n",
    "                    bins=[50,100,150,200,250,275,float('inf')], \n",
    "                    labels=[\"50-100\",\"100-150\",\"150-200\",\"200-250\",\"250-275\",\"275+\"])\n",
    "glucose_total = glucose_grupo.value_counts().sort_index()\n",
    "\n",
    "glucose_indexes = glucose_total.index.values\n",
    "glucose_valores = glucose_total.values"
   ]
  },
  {
   "cell_type": "code",
   "execution_count": 16,
   "id": "a4a66d53",
   "metadata": {},
   "outputs": [
    {
     "data": {
      "image/png": "[encoded data removed]",
      "text/plain": [
       "<Figure size 864x576 with 1 Axes>"
      ]
     },
     "metadata": {
      "needs_background": "light"
     },
     "output_type": "display_data"
    }
   ],
   "source": [
    "plt.figure(figsize = (12,8))\n",
    " \n",
    "# Creación de una gráfica bar plot para representar la distribución de los datos segun el nivel de glucosa\n",
    "glucose_bar = plt.bar(glucose_indexes, glucose_valores, color ='Skyblue', width = 0.6)\n",
    "for i, rectangle in enumerate(glucose_bar):\n",
    "    height = rectangle.get_height()\n",
    "    plt.text(rectangle.get_x() + rectangle.get_width()/2, height+2,\n",
    "             glucose_valores[i], horizontalalignment='center', weight='bold', fontsize=12)\n",
    " \n",
    "plt.xlabel(\"Nivel de Glucosa\", fontsize=13)\n",
    "plt.ylabel(\"Recuento según el nivel de glucosa\", fontsize=13)\n",
    "plt.title(\"Distribución de los datos por nivel de glucosa\", weight='bold', fontsize=18)\n",
    "plt.show()"
   ]
  },
  {
   "cell_type": "code",
   "execution_count": 17,
   "id": "fe5e3721",
   "metadata": {},
   "outputs": [],
   "source": [
    "bmi_grupo = pd.cut(x=df_new['bmi'],\n",
    "                    bins=[10,20,30,40,50,60,70,80,90,97,float('inf')], \n",
    "                    labels=[\"10-20\",\"20-30\",\"30-40\",\"40-50\",\"50-60\",\"60-70\",\"70-80\",\"80-90\",\"90-97\",\"97+\"])\n",
    "bmi_total = bmi_grupo.value_counts().sort_index()\n",
    "\n",
    "bmi_indexes = bmi_total.index.values\n",
    "bmi_valores = bmi_total.values"
   ]
  },
  {
   "cell_type": "code",
   "execution_count": 18,
   "id": "2cf69b89",
   "metadata": {},
   "outputs": [
    {
     "data": {
      "image/png": "[encoded data removed]",
      "text/plain": [
       "<Figure size 864x576 with 1 Axes>"
      ]
     },
     "metadata": {
      "needs_background": "light"
     },
     "output_type": "display_data"
    }
   ],
   "source": [
    "plt.figure(figsize = (12,8))\n",
    " \n",
    "# Creación de una gráfica bar plot para representar la distribución de los datos segun el valor de bmi\n",
    "bmi_bar = plt.bar(bmi_indexes, bmi_valores, color ='Skyblue', width = 0.6)\n",
    "for i, rectangle in enumerate(bmi_bar):\n",
    "    height = rectangle.get_height()\n",
    "    plt.text(rectangle.get_x() + rectangle.get_width()/2, height+2,\n",
    "             bmi_valores[i], horizontalalignment='center', weight='bold', fontsize=12)\n",
    " \n",
    "plt.xlabel(\"Edad\", fontsize=13)\n",
    "plt.ylabel(\"Recuento del rango de edad\", fontsize=13)\n",
    "plt.title(\"Distribución de los datos por bmi\", weight='bold', fontsize=18)\n",
    "plt.show()"
   ]
  },
  {
   "cell_type": "code",
   "execution_count": 19,
   "id": "76353682",
   "metadata": {},
   "outputs": [
    {
     "data": {
      "text/plain": [
       "Text(0.5, 1.0, 'Gráfica de la cantidad por género que sufrieron un accidente cerebrovascular')"
      ]
     },
     "execution_count": 19,
     "metadata": {},
     "output_type": "execute_result"
    },
    {
     "data": {
      "image/png": "[encoded data removed]",
      "text/plain": [
       "<Figure size 1080x576 with 1 Axes>"
      ]
     },
     "metadata": {
      "needs_background": "light"
     },
     "output_type": "display_data"
    }
   ],
   "source": [
    "# Creación de una gráfica por género de las personas que sufrieron o no un ACV\n",
    "plt.figure(figsize=[15,8])\n",
    "sns.countplot(x = 'gender', hue = 'stroke', data = df)\n",
    "plt.title('Gráfica de la cantidad por género que sufrieron un accidente cerebrovascular', weight='bold', fontsize=18)"
   ]
  },
  {
   "cell_type": "code",
   "execution_count": 20,
   "id": "078efbf8",
   "metadata": {},
   "outputs": [
    {
     "data": {
      "text/plain": [
       "Text(0.5, 1.0, 'Gráfica de la cantidad  de personas que sufrieron un ACV y que poseen o no enfermedades del corazón')"
      ]
     },
     "execution_count": 20,
     "metadata": {},
     "output_type": "execute_result"
    },
    {
     "data": {
      "image/png": "[encoded data removed]",
      "text/plain": [
       "<Figure size 1080x576 with 1 Axes>"
      ]
     },
     "metadata": {
      "needs_background": "light"
     },
     "output_type": "display_data"
    }
   ],
   "source": [
    "# Creación de una gráfica de las personas que posee enfermedades del corazón y sufrieron o no un ACV\n",
    "plt.figure(figsize=[15,8])\n",
    "sns.countplot(x = 'heart_disease', hue = 'stroke', data = df)\n",
    "plt.title('Gráfica de la cantidad  de personas que sufrieron un ACV y que poseen o no enfermedades del corazón', weight='bold', fontsize=18)"
   ]
  },
  {
   "cell_type": "code",
   "execution_count": 21,
   "id": "cc02af4f",
   "metadata": {},
   "outputs": [
    {
     "data": {
      "text/plain": [
       "Text(0.5, 1.0, 'Gráfica de la cantidad  de personas que sufrieron un ACV y que padecen o no de hipertención')"
      ]
     },
     "execution_count": 21,
     "metadata": {},
     "output_type": "execute_result"
    },
    {
     "data": {
      "image/png": "[encoded data removed]",
      "text/plain": [
       "<Figure size 1080x576 with 1 Axes>"
      ]
     },
     "metadata": {
      "needs_background": "light"
     },
     "output_type": "display_data"
    }
   ],
   "source": [
    "# Creación de una gráfica de la cantidad  de personas que sufrieron un ACV y que padecen o no de hipertención\n",
    "plt.figure(figsize=[15,8])\n",
    "sns.countplot(x = 'hypertension', hue = 'stroke', data = df)\n",
    "plt.title('Gráfica de la cantidad  de personas que sufrieron un ACV y que padecen o no de hipertención', weight='bold', fontsize=18)"
   ]
  },
  {
   "cell_type": "code",
   "execution_count": 22,
   "id": "1da114e6",
   "metadata": {},
   "outputs": [
    {
     "data": {
      "image/png": "[encoded data removed]",
      "text/plain": [
       "<Figure size 576x432 with 1 Axes>"
      ]
     },
     "metadata": {},
     "output_type": "display_data"
    }
   ],
   "source": [
    "#Creación de una gráfica para representar el porcentaje de las personas que padecen de enfermades del corazón\n",
    "Gender = df['heart_disease'].value_counts()\n",
    "\n",
    "fig, ax = plt.subplots(figsize =(8, 6))\n",
    "_, _, autotexts = ax.pie(x=Gender, labels=Gender.index, autopct=\"%.2f%%\", radius=1.2,\n",
    "                         colors=sns.color_palette(\"YlOrBr_r\"), explode=None, textprops=dict(fontsize=13))\n",
    "\n",
    "ax.set_title('Distribución de los datos por personas que tiene enfermedades del corazón', y=1.1, weight='bold', fontsize=14)\n",
    "\n",
    "for autotext in autotexts:\n",
    "    autotext.set_color('white')\n",
    "    autotext.set_weight('bold')"
   ]
  },
  {
   "cell_type": "code",
   "execution_count": 23,
   "id": "27a7e6d1",
   "metadata": {},
   "outputs": [
    {
     "data": {
      "image/png": "[encoded data removed]",
      "text/plain": [
       "<Figure size 576x432 with 1 Axes>"
      ]
     },
     "metadata": {},
     "output_type": "display_data"
    }
   ],
   "source": [
    "#Creación de una gráfica para representar el porcentaje de las personas que padecen de Hipertención\n",
    "Gender = df['hypertension'].value_counts()\n",
    "\n",
    "fig, ax = plt.subplots(figsize =(8, 6))\n",
    "_, _, autotexts = ax.pie(x=Gender, labels=Gender.index, autopct=\"%.2f%%\", radius=1.2,\n",
    "                         colors=sns.color_palette(\"YlOrBr_r\"), explode=None, textprops=dict(fontsize=13))\n",
    "\n",
    "ax.set_title('Distribución de las personas que padecen de Hipertención', y=1.1, weight='bold', fontsize=14)\n",
    "\n",
    "for autotext in autotexts:\n",
    "    autotext.set_color('white')\n",
    "    autotext.set_weight('bold')"
   ]
  },
  {
   "cell_type": "code",
   "execution_count": 24,
   "id": "f068cf12",
   "metadata": {},
   "outputs": [
    {
     "data": {
      "image/png": "[encoded data removed]",
      "text/plain": [
       "<Figure size 576x432 with 1 Axes>"
      ]
     },
     "metadata": {},
     "output_type": "display_data"
    }
   ],
   "source": [
    "#Creación de una gráfica para representar el porcentaje por género\n",
    "Gender = df['gender'].value_counts()\n",
    "\n",
    "fig, ax = plt.subplots(figsize =(8, 6))\n",
    "_, _, autotexts = ax.pie(x=Gender, labels=Gender.index, autopct=\"%.2f%%\", radius=1.2,\n",
    "                         colors=sns.color_palette(\"YlOrBr_r\"), explode=None, textprops=dict(fontsize=13))\n",
    "\n",
    "ax.set_title('Distribución de los datos por Género', y=1.1, weight='bold', fontsize=14)\n",
    "\n",
    "for autotext in autotexts:\n",
    "    autotext.set_color('white')\n",
    "    autotext.set_weight('bold')"
   ]
  },
  {
   "cell_type": "code",
   "execution_count": 25,
   "id": "8c20f10c",
   "metadata": {},
   "outputs": [
    {
     "data": {
      "image/png": "[encoded data removed]",
      "text/plain": [
       "<Figure size 576x432 with 1 Axes>"
      ]
     },
     "metadata": {},
     "output_type": "display_data"
    }
   ],
   "source": [
    "#Creación de una gráfica para representar el porcentaje de las peronas que sufrieron o no un ACV\n",
    "Gender = df['stroke'].value_counts()\n",
    "\n",
    "fig, ax = plt.subplots(figsize =(8, 6))\n",
    "_, _, autotexts = ax.pie(x=Gender, labels=Gender.index, autopct=\"%.2f%%\", radius=1.2,\n",
    "                         colors=sns.color_palette(\"YlOrBr_r\"), explode=None, textprops=dict(fontsize=13))\n",
    "\n",
    "ax.set_title('Porcentaje de personas que han sufrido un ACV', y=1.1, weight='bold', fontsize=14)\n",
    "ax.legend(labels=['No tuvo un ACV', 'Si tuvo un ACV'], fontsize=14)\n",
    "\n",
    "for autotext in autotexts:\n",
    "    autotext.set_color('white')\n",
    "    autotext.set_weight('bold')"
   ]
  },
  {
   "cell_type": "markdown",
   "id": "31c5edcb",
   "metadata": {},
   "source": [
    "## Relleno de valores nulos y escalado de los datos"
   ]
  },
  {
   "cell_type": "code",
   "execution_count": 26,
   "id": "e20809db",
   "metadata": {},
   "outputs": [],
   "source": [
    "# Conjunto de datos general\n",
    "X_df = df_new.drop(\"stroke\", axis=1)\n",
    "y_df = df_new[\"stroke\"].copy()"
   ]
  },
  {
   "cell_type": "code",
   "execution_count": 27,
   "id": "c5075c44",
   "metadata": {},
   "outputs": [],
   "source": [
    "# Construcción de un pipeline para rellenar los valores nulos con la mediana y scalar los datos \n",
    "from sklearn.impute import SimpleImputer\n",
    "\n",
    "num_pipeline = Pipeline([\n",
    "        ('imputer', SimpleImputer(strategy=\"median\")),\n",
    "        ('rbst_scaler', RobustScaler()),\n",
    "    ])"
   ]
  },
  {
   "cell_type": "code",
   "execution_count": 28,
   "id": "951189e9",
   "metadata": {},
   "outputs": [],
   "source": [
    "# Rellenamos los valores nulos con la mediana y scalamos los datos\n",
    "X_prep = num_pipeline.fit_transform(X_df)"
   ]
  },
  {
   "cell_type": "code",
   "execution_count": 29,
   "id": "ea562796",
   "metadata": {},
   "outputs": [],
   "source": [
    "# Transformamos el resultado a un DataFrame de Pandas\n",
    "X_prep = pd.DataFrame(X_prep, columns=X_df.columns, index=y_df.index)"
   ]
  },
  {
   "cell_type": "code",
   "execution_count": 30,
   "id": "04f9c841",
   "metadata": {},
   "outputs": [
    {
     "data": {
      "text/html": [
       "<div>\n",
       "<style scoped>\n",
       "    .dataframe tbody tr th:only-of-type {\n",
       "        vertical-align: middle;\n",
       "    }\n",
       "\n",
       "    .dataframe tbody tr th {\n",
       "        vertical-align: top;\n",
       "    }\n",
       "\n",
       "    .dataframe thead th {\n",
       "        text-align: right;\n",
       "    }\n",
       "</style>\n",
       "<table border=\"1\" class=\"dataframe\">\n",
       "  <thead>\n",
       "    <tr style=\"text-align: right;\">\n",
       "      <th></th>\n",
       "      <th>age</th>\n",
       "      <th>hypertension</th>\n",
       "      <th>heart_disease</th>\n",
       "      <th>avg_glucose_level</th>\n",
       "      <th>bmi</th>\n",
       "      <th>gender_Male</th>\n",
       "      <th>gender_Other</th>\n",
       "      <th>ever_married_Yes</th>\n",
       "      <th>work_type_Never_worked</th>\n",
       "      <th>work_type_Private</th>\n",
       "      <th>work_type_Self-employed</th>\n",
       "      <th>work_type_children</th>\n",
       "      <th>Residence_type_Urban</th>\n",
       "      <th>smoking_status_formerly smoked</th>\n",
       "      <th>smoking_status_never smoked</th>\n",
       "      <th>smoking_status_smokes</th>\n",
       "    </tr>\n",
       "  </thead>\n",
       "  <tbody>\n",
       "    <tr>\n",
       "      <th>0</th>\n",
       "      <td>0.611111</td>\n",
       "      <td>0.0</td>\n",
       "      <td>1.0</td>\n",
       "      <td>3.712987</td>\n",
       "      <td>0.944444</td>\n",
       "      <td>1.0</td>\n",
       "      <td>0.0</td>\n",
       "      <td>0.0</td>\n",
       "      <td>0.0</td>\n",
       "      <td>0.0</td>\n",
       "      <td>0.0</td>\n",
       "      <td>0.0</td>\n",
       "      <td>0.0</td>\n",
       "      <td>1.0</td>\n",
       "      <td>0.0</td>\n",
       "      <td>0.0</td>\n",
       "    </tr>\n",
       "    <tr>\n",
       "      <th>1</th>\n",
       "      <td>0.444444</td>\n",
       "      <td>0.0</td>\n",
       "      <td>0.0</td>\n",
       "      <td>2.994300</td>\n",
       "      <td>0.000000</td>\n",
       "      <td>0.0</td>\n",
       "      <td>0.0</td>\n",
       "      <td>0.0</td>\n",
       "      <td>0.0</td>\n",
       "      <td>-1.0</td>\n",
       "      <td>1.0</td>\n",
       "      <td>0.0</td>\n",
       "      <td>-1.0</td>\n",
       "      <td>0.0</td>\n",
       "      <td>1.0</td>\n",
       "      <td>0.0</td>\n",
       "    </tr>\n",
       "    <tr>\n",
       "      <th>2</th>\n",
       "      <td>0.972222</td>\n",
       "      <td>0.0</td>\n",
       "      <td>1.0</td>\n",
       "      <td>0.380920</td>\n",
       "      <td>0.488889</td>\n",
       "      <td>1.0</td>\n",
       "      <td>0.0</td>\n",
       "      <td>0.0</td>\n",
       "      <td>0.0</td>\n",
       "      <td>0.0</td>\n",
       "      <td>0.0</td>\n",
       "      <td>0.0</td>\n",
       "      <td>-1.0</td>\n",
       "      <td>0.0</td>\n",
       "      <td>1.0</td>\n",
       "      <td>0.0</td>\n",
       "    </tr>\n",
       "    <tr>\n",
       "      <th>3</th>\n",
       "      <td>0.111111</td>\n",
       "      <td>0.0</td>\n",
       "      <td>0.0</td>\n",
       "      <td>2.153481</td>\n",
       "      <td>0.700000</td>\n",
       "      <td>0.0</td>\n",
       "      <td>0.0</td>\n",
       "      <td>0.0</td>\n",
       "      <td>0.0</td>\n",
       "      <td>0.0</td>\n",
       "      <td>0.0</td>\n",
       "      <td>0.0</td>\n",
       "      <td>0.0</td>\n",
       "      <td>0.0</td>\n",
       "      <td>0.0</td>\n",
       "      <td>1.0</td>\n",
       "    </tr>\n",
       "    <tr>\n",
       "      <th>4</th>\n",
       "      <td>0.944444</td>\n",
       "      <td>1.0</td>\n",
       "      <td>0.0</td>\n",
       "      <td>2.231917</td>\n",
       "      <td>-0.455556</td>\n",
       "      <td>0.0</td>\n",
       "      <td>0.0</td>\n",
       "      <td>0.0</td>\n",
       "      <td>0.0</td>\n",
       "      <td>-1.0</td>\n",
       "      <td>1.0</td>\n",
       "      <td>0.0</td>\n",
       "      <td>-1.0</td>\n",
       "      <td>0.0</td>\n",
       "      <td>1.0</td>\n",
       "      <td>0.0</td>\n",
       "    </tr>\n",
       "    <tr>\n",
       "      <th>...</th>\n",
       "      <td>...</td>\n",
       "      <td>...</td>\n",
       "      <td>...</td>\n",
       "      <td>...</td>\n",
       "      <td>...</td>\n",
       "      <td>...</td>\n",
       "      <td>...</td>\n",
       "      <td>...</td>\n",
       "      <td>...</td>\n",
       "      <td>...</td>\n",
       "      <td>...</td>\n",
       "      <td>...</td>\n",
       "      <td>...</td>\n",
       "      <td>...</td>\n",
       "      <td>...</td>\n",
       "      <td>...</td>\n",
       "    </tr>\n",
       "    <tr>\n",
       "      <th>5105</th>\n",
       "      <td>0.972222</td>\n",
       "      <td>1.0</td>\n",
       "      <td>0.0</td>\n",
       "      <td>-0.220790</td>\n",
       "      <td>0.000000</td>\n",
       "      <td>0.0</td>\n",
       "      <td>0.0</td>\n",
       "      <td>0.0</td>\n",
       "      <td>0.0</td>\n",
       "      <td>0.0</td>\n",
       "      <td>0.0</td>\n",
       "      <td>0.0</td>\n",
       "      <td>0.0</td>\n",
       "      <td>0.0</td>\n",
       "      <td>1.0</td>\n",
       "      <td>0.0</td>\n",
       "    </tr>\n",
       "    <tr>\n",
       "      <th>5106</th>\n",
       "      <td>1.000000</td>\n",
       "      <td>0.0</td>\n",
       "      <td>0.0</td>\n",
       "      <td>0.904193</td>\n",
       "      <td>1.322222</td>\n",
       "      <td>0.0</td>\n",
       "      <td>0.0</td>\n",
       "      <td>0.0</td>\n",
       "      <td>0.0</td>\n",
       "      <td>-1.0</td>\n",
       "      <td>1.0</td>\n",
       "      <td>0.0</td>\n",
       "      <td>0.0</td>\n",
       "      <td>0.0</td>\n",
       "      <td>1.0</td>\n",
       "      <td>0.0</td>\n",
       "    </tr>\n",
       "    <tr>\n",
       "      <th>5107</th>\n",
       "      <td>-0.277778</td>\n",
       "      <td>0.0</td>\n",
       "      <td>0.0</td>\n",
       "      <td>-0.241417</td>\n",
       "      <td>0.277778</td>\n",
       "      <td>0.0</td>\n",
       "      <td>0.0</td>\n",
       "      <td>0.0</td>\n",
       "      <td>0.0</td>\n",
       "      <td>-1.0</td>\n",
       "      <td>1.0</td>\n",
       "      <td>0.0</td>\n",
       "      <td>-1.0</td>\n",
       "      <td>0.0</td>\n",
       "      <td>1.0</td>\n",
       "      <td>0.0</td>\n",
       "    </tr>\n",
       "    <tr>\n",
       "      <th>5108</th>\n",
       "      <td>0.166667</td>\n",
       "      <td>0.0</td>\n",
       "      <td>0.0</td>\n",
       "      <td>2.019406</td>\n",
       "      <td>-0.277778</td>\n",
       "      <td>1.0</td>\n",
       "      <td>0.0</td>\n",
       "      <td>0.0</td>\n",
       "      <td>0.0</td>\n",
       "      <td>0.0</td>\n",
       "      <td>0.0</td>\n",
       "      <td>0.0</td>\n",
       "      <td>-1.0</td>\n",
       "      <td>1.0</td>\n",
       "      <td>0.0</td>\n",
       "      <td>0.0</td>\n",
       "    </tr>\n",
       "    <tr>\n",
       "      <th>5109</th>\n",
       "      <td>-0.027778</td>\n",
       "      <td>0.0</td>\n",
       "      <td>0.0</td>\n",
       "      <td>-0.179264</td>\n",
       "      <td>-0.211111</td>\n",
       "      <td>0.0</td>\n",
       "      <td>0.0</td>\n",
       "      <td>0.0</td>\n",
       "      <td>0.0</td>\n",
       "      <td>-1.0</td>\n",
       "      <td>0.0</td>\n",
       "      <td>0.0</td>\n",
       "      <td>0.0</td>\n",
       "      <td>0.0</td>\n",
       "      <td>0.0</td>\n",
       "      <td>0.0</td>\n",
       "    </tr>\n",
       "  </tbody>\n",
       "</table>\n",
       "<p>5110 rows × 16 columns</p>\n",
       "</div>"
      ],
      "text/plain": [
       "           age  hypertension  heart_disease  avg_glucose_level       bmi  \\\n",
       "0     0.611111           0.0            1.0           3.712987  0.944444   \n",
       "1     0.444444           0.0            0.0           2.994300  0.000000   \n",
       "2     0.972222           0.0            1.0           0.380920  0.488889   \n",
       "3     0.111111           0.0            0.0           2.153481  0.700000   \n",
       "4     0.944444           1.0            0.0           2.231917 -0.455556   \n",
       "...        ...           ...            ...                ...       ...   \n",
       "5105  0.972222           1.0            0.0          -0.220790  0.000000   \n",
       "5106  1.000000           0.0            0.0           0.904193  1.322222   \n",
       "5107 -0.277778           0.0            0.0          -0.241417  0.277778   \n",
       "5108  0.166667           0.0            0.0           2.019406 -0.277778   \n",
       "5109 -0.027778           0.0            0.0          -0.179264 -0.211111   \n",
       "\n",
       "      gender_Male  gender_Other  ever_married_Yes  work_type_Never_worked  \\\n",
       "0             1.0           0.0               0.0                     0.0   \n",
       "1             0.0           0.0               0.0                     0.0   \n",
       "2             1.0           0.0               0.0                     0.0   \n",
       "3             0.0           0.0               0.0                     0.0   \n",
       "4             0.0           0.0               0.0                     0.0   \n",
       "...           ...           ...               ...                     ...   \n",
       "5105          0.0           0.0               0.0                     0.0   \n",
       "5106          0.0           0.0               0.0                     0.0   \n",
       "5107          0.0           0.0               0.0                     0.0   \n",
       "5108          1.0           0.0               0.0                     0.0   \n",
       "5109          0.0           0.0               0.0                     0.0   \n",
       "\n",
       "      work_type_Private  work_type_Self-employed  work_type_children  \\\n",
       "0                   0.0                      0.0                 0.0   \n",
       "1                  -1.0                      1.0                 0.0   \n",
       "2                   0.0                      0.0                 0.0   \n",
       "3                   0.0                      0.0                 0.0   \n",
       "4                  -1.0                      1.0                 0.0   \n",
       "...                 ...                      ...                 ...   \n",
       "5105                0.0                      0.0                 0.0   \n",
       "5106               -1.0                      1.0                 0.0   \n",
       "5107               -1.0                      1.0                 0.0   \n",
       "5108                0.0                      0.0                 0.0   \n",
       "5109               -1.0                      0.0                 0.0   \n",
       "\n",
       "      Residence_type_Urban  smoking_status_formerly smoked  \\\n",
       "0                      0.0                             1.0   \n",
       "1                     -1.0                             0.0   \n",
       "2                     -1.0                             0.0   \n",
       "3                      0.0                             0.0   \n",
       "4                     -1.0                             0.0   \n",
       "...                    ...                             ...   \n",
       "5105                   0.0                             0.0   \n",
       "5106                   0.0                             0.0   \n",
       "5107                  -1.0                             0.0   \n",
       "5108                  -1.0                             1.0   \n",
       "5109                   0.0                             0.0   \n",
       "\n",
       "      smoking_status_never smoked  smoking_status_smokes  \n",
       "0                             0.0                    0.0  \n",
       "1                             1.0                    0.0  \n",
       "2                             1.0                    0.0  \n",
       "3                             0.0                    1.0  \n",
       "4                             1.0                    0.0  \n",
       "...                           ...                    ...  \n",
       "5105                          1.0                    0.0  \n",
       "5106                          1.0                    0.0  \n",
       "5107                          1.0                    0.0  \n",
       "5108                          0.0                    0.0  \n",
       "5109                          0.0                    0.0  \n",
       "\n",
       "[5110 rows x 16 columns]"
      ]
     },
     "execution_count": 30,
     "metadata": {},
     "output_type": "execute_result"
    }
   ],
   "source": [
    "X_prep"
   ]
  },
  {
   "cell_type": "markdown",
   "id": "8802ee5e",
   "metadata": {},
   "source": [
    "## Aplicamos selección de características con Random Forest"
   ]
  },
  {
   "cell_type": "code",
   "execution_count": 31,
   "id": "525c218c",
   "metadata": {},
   "outputs": [
    {
     "data": {
      "text/plain": [
       "RandomForestClassifier(n_estimators=50, n_jobs=-1, random_state=42)"
      ]
     },
     "execution_count": 31,
     "metadata": {},
     "output_type": "execute_result"
    }
   ],
   "source": [
    "# Utilizamos Random Forest para realizar selección de características\n",
    "from sklearn.ensemble import RandomForestClassifier\n",
    "\n",
    "clf_rnd = RandomForestClassifier(n_estimators=50, random_state=42, n_jobs=-1)\n",
    "clf_rnd.fit(X_prep, y_df)"
   ]
  },
  {
   "cell_type": "code",
   "execution_count": 32,
   "id": "bde79358",
   "metadata": {},
   "outputs": [
    {
     "data": {
      "text/plain": [
       "avg_glucose_level                 0.278373\n",
       "age                               0.245129\n",
       "bmi                               0.238853\n",
       "gender_Male                       0.031299\n",
       "Residence_type_Urban              0.031287\n",
       "hypertension                      0.023972\n",
       "smoking_status_formerly smoked    0.023918\n",
       "work_type_Private                 0.023355\n",
       "smoking_status_never smoked       0.023317\n",
       "heart_disease                     0.023304\n",
       "dtype: float64"
      ]
     },
     "execution_count": 32,
     "metadata": {},
     "output_type": "execute_result"
    }
   ],
   "source": [
    "# Seleccionamos las características más importantes\n",
    "feature_importances = {name: score for name, score in zip(list(X_prep), clf_rnd.feature_importances_)}\n",
    "feature_importances_sorted = pd.Series(feature_importances).sort_values(ascending=False)\n",
    "feature_importances_sorted.head(10)"
   ]
  },
  {
   "cell_type": "code",
   "execution_count": 33,
   "id": "78a8c7b4",
   "metadata": {},
   "outputs": [],
   "source": [
    "# Reducimos el conjunto de datos a las 10 características más importantes\n",
    "features = list(feature_importances_sorted.head(20).index)\n",
    "X_select = X_prep[features].copy()"
   ]
  },
  {
   "cell_type": "code",
   "execution_count": 34,
   "id": "dba18a4e",
   "metadata": {},
   "outputs": [
    {
     "data": {
      "text/html": [
       "<div>\n",
       "<style scoped>\n",
       "    .dataframe tbody tr th:only-of-type {\n",
       "        vertical-align: middle;\n",
       "    }\n",
       "\n",
       "    .dataframe tbody tr th {\n",
       "        vertical-align: top;\n",
       "    }\n",
       "\n",
       "    .dataframe thead th {\n",
       "        text-align: right;\n",
       "    }\n",
       "</style>\n",
       "<table border=\"1\" class=\"dataframe\">\n",
       "  <thead>\n",
       "    <tr style=\"text-align: right;\">\n",
       "      <th></th>\n",
       "      <th>avg_glucose_level</th>\n",
       "      <th>age</th>\n",
       "      <th>bmi</th>\n",
       "      <th>gender_Male</th>\n",
       "      <th>Residence_type_Urban</th>\n",
       "      <th>hypertension</th>\n",
       "      <th>smoking_status_formerly smoked</th>\n",
       "      <th>work_type_Private</th>\n",
       "      <th>smoking_status_never smoked</th>\n",
       "      <th>heart_disease</th>\n",
       "      <th>work_type_Self-employed</th>\n",
       "      <th>ever_married_Yes</th>\n",
       "      <th>smoking_status_smokes</th>\n",
       "      <th>work_type_children</th>\n",
       "      <th>work_type_Never_worked</th>\n",
       "      <th>gender_Other</th>\n",
       "    </tr>\n",
       "  </thead>\n",
       "  <tbody>\n",
       "    <tr>\n",
       "      <th>0</th>\n",
       "      <td>3.712987</td>\n",
       "      <td>0.611111</td>\n",
       "      <td>0.944444</td>\n",
       "      <td>1.0</td>\n",
       "      <td>0.0</td>\n",
       "      <td>0.0</td>\n",
       "      <td>1.0</td>\n",
       "      <td>0.0</td>\n",
       "      <td>0.0</td>\n",
       "      <td>1.0</td>\n",
       "      <td>0.0</td>\n",
       "      <td>0.0</td>\n",
       "      <td>0.0</td>\n",
       "      <td>0.0</td>\n",
       "      <td>0.0</td>\n",
       "      <td>0.0</td>\n",
       "    </tr>\n",
       "    <tr>\n",
       "      <th>1</th>\n",
       "      <td>2.994300</td>\n",
       "      <td>0.444444</td>\n",
       "      <td>0.000000</td>\n",
       "      <td>0.0</td>\n",
       "      <td>-1.0</td>\n",
       "      <td>0.0</td>\n",
       "      <td>0.0</td>\n",
       "      <td>-1.0</td>\n",
       "      <td>1.0</td>\n",
       "      <td>0.0</td>\n",
       "      <td>1.0</td>\n",
       "      <td>0.0</td>\n",
       "      <td>0.0</td>\n",
       "      <td>0.0</td>\n",
       "      <td>0.0</td>\n",
       "      <td>0.0</td>\n",
       "    </tr>\n",
       "    <tr>\n",
       "      <th>2</th>\n",
       "      <td>0.380920</td>\n",
       "      <td>0.972222</td>\n",
       "      <td>0.488889</td>\n",
       "      <td>1.0</td>\n",
       "      <td>-1.0</td>\n",
       "      <td>0.0</td>\n",
       "      <td>0.0</td>\n",
       "      <td>0.0</td>\n",
       "      <td>1.0</td>\n",
       "      <td>1.0</td>\n",
       "      <td>0.0</td>\n",
       "      <td>0.0</td>\n",
       "      <td>0.0</td>\n",
       "      <td>0.0</td>\n",
       "      <td>0.0</td>\n",
       "      <td>0.0</td>\n",
       "    </tr>\n",
       "    <tr>\n",
       "      <th>3</th>\n",
       "      <td>2.153481</td>\n",
       "      <td>0.111111</td>\n",
       "      <td>0.700000</td>\n",
       "      <td>0.0</td>\n",
       "      <td>0.0</td>\n",
       "      <td>0.0</td>\n",
       "      <td>0.0</td>\n",
       "      <td>0.0</td>\n",
       "      <td>0.0</td>\n",
       "      <td>0.0</td>\n",
       "      <td>0.0</td>\n",
       "      <td>0.0</td>\n",
       "      <td>1.0</td>\n",
       "      <td>0.0</td>\n",
       "      <td>0.0</td>\n",
       "      <td>0.0</td>\n",
       "    </tr>\n",
       "    <tr>\n",
       "      <th>4</th>\n",
       "      <td>2.231917</td>\n",
       "      <td>0.944444</td>\n",
       "      <td>-0.455556</td>\n",
       "      <td>0.0</td>\n",
       "      <td>-1.0</td>\n",
       "      <td>1.0</td>\n",
       "      <td>0.0</td>\n",
       "      <td>-1.0</td>\n",
       "      <td>1.0</td>\n",
       "      <td>0.0</td>\n",
       "      <td>1.0</td>\n",
       "      <td>0.0</td>\n",
       "      <td>0.0</td>\n",
       "      <td>0.0</td>\n",
       "      <td>0.0</td>\n",
       "      <td>0.0</td>\n",
       "    </tr>\n",
       "    <tr>\n",
       "      <th>...</th>\n",
       "      <td>...</td>\n",
       "      <td>...</td>\n",
       "      <td>...</td>\n",
       "      <td>...</td>\n",
       "      <td>...</td>\n",
       "      <td>...</td>\n",
       "      <td>...</td>\n",
       "      <td>...</td>\n",
       "      <td>...</td>\n",
       "      <td>...</td>\n",
       "      <td>...</td>\n",
       "      <td>...</td>\n",
       "      <td>...</td>\n",
       "      <td>...</td>\n",
       "      <td>...</td>\n",
       "      <td>...</td>\n",
       "    </tr>\n",
       "    <tr>\n",
       "      <th>5105</th>\n",
       "      <td>-0.220790</td>\n",
       "      <td>0.972222</td>\n",
       "      <td>0.000000</td>\n",
       "      <td>0.0</td>\n",
       "      <td>0.0</td>\n",
       "      <td>1.0</td>\n",
       "      <td>0.0</td>\n",
       "      <td>0.0</td>\n",
       "      <td>1.0</td>\n",
       "      <td>0.0</td>\n",
       "      <td>0.0</td>\n",
       "      <td>0.0</td>\n",
       "      <td>0.0</td>\n",
       "      <td>0.0</td>\n",
       "      <td>0.0</td>\n",
       "      <td>0.0</td>\n",
       "    </tr>\n",
       "    <tr>\n",
       "      <th>5106</th>\n",
       "      <td>0.904193</td>\n",
       "      <td>1.000000</td>\n",
       "      <td>1.322222</td>\n",
       "      <td>0.0</td>\n",
       "      <td>0.0</td>\n",
       "      <td>0.0</td>\n",
       "      <td>0.0</td>\n",
       "      <td>-1.0</td>\n",
       "      <td>1.0</td>\n",
       "      <td>0.0</td>\n",
       "      <td>1.0</td>\n",
       "      <td>0.0</td>\n",
       "      <td>0.0</td>\n",
       "      <td>0.0</td>\n",
       "      <td>0.0</td>\n",
       "      <td>0.0</td>\n",
       "    </tr>\n",
       "    <tr>\n",
       "      <th>5107</th>\n",
       "      <td>-0.241417</td>\n",
       "      <td>-0.277778</td>\n",
       "      <td>0.277778</td>\n",
       "      <td>0.0</td>\n",
       "      <td>-1.0</td>\n",
       "      <td>0.0</td>\n",
       "      <td>0.0</td>\n",
       "      <td>-1.0</td>\n",
       "      <td>1.0</td>\n",
       "      <td>0.0</td>\n",
       "      <td>1.0</td>\n",
       "      <td>0.0</td>\n",
       "      <td>0.0</td>\n",
       "      <td>0.0</td>\n",
       "      <td>0.0</td>\n",
       "      <td>0.0</td>\n",
       "    </tr>\n",
       "    <tr>\n",
       "      <th>5108</th>\n",
       "      <td>2.019406</td>\n",
       "      <td>0.166667</td>\n",
       "      <td>-0.277778</td>\n",
       "      <td>1.0</td>\n",
       "      <td>-1.0</td>\n",
       "      <td>0.0</td>\n",
       "      <td>1.0</td>\n",
       "      <td>0.0</td>\n",
       "      <td>0.0</td>\n",
       "      <td>0.0</td>\n",
       "      <td>0.0</td>\n",
       "      <td>0.0</td>\n",
       "      <td>0.0</td>\n",
       "      <td>0.0</td>\n",
       "      <td>0.0</td>\n",
       "      <td>0.0</td>\n",
       "    </tr>\n",
       "    <tr>\n",
       "      <th>5109</th>\n",
       "      <td>-0.179264</td>\n",
       "      <td>-0.027778</td>\n",
       "      <td>-0.211111</td>\n",
       "      <td>0.0</td>\n",
       "      <td>0.0</td>\n",
       "      <td>0.0</td>\n",
       "      <td>0.0</td>\n",
       "      <td>-1.0</td>\n",
       "      <td>0.0</td>\n",
       "      <td>0.0</td>\n",
       "      <td>0.0</td>\n",
       "      <td>0.0</td>\n",
       "      <td>0.0</td>\n",
       "      <td>0.0</td>\n",
       "      <td>0.0</td>\n",
       "      <td>0.0</td>\n",
       "    </tr>\n",
       "  </tbody>\n",
       "</table>\n",
       "<p>5110 rows × 16 columns</p>\n",
       "</div>"
      ],
      "text/plain": [
       "      avg_glucose_level       age       bmi  gender_Male  \\\n",
       "0              3.712987  0.611111  0.944444          1.0   \n",
       "1              2.994300  0.444444  0.000000          0.0   \n",
       "2              0.380920  0.972222  0.488889          1.0   \n",
       "3              2.153481  0.111111  0.700000          0.0   \n",
       "4              2.231917  0.944444 -0.455556          0.0   \n",
       "...                 ...       ...       ...          ...   \n",
       "5105          -0.220790  0.972222  0.000000          0.0   \n",
       "5106           0.904193  1.000000  1.322222          0.0   \n",
       "5107          -0.241417 -0.277778  0.277778          0.0   \n",
       "5108           2.019406  0.166667 -0.277778          1.0   \n",
       "5109          -0.179264 -0.027778 -0.211111          0.0   \n",
       "\n",
       "      Residence_type_Urban  hypertension  smoking_status_formerly smoked  \\\n",
       "0                      0.0           0.0                             1.0   \n",
       "1                     -1.0           0.0                             0.0   \n",
       "2                     -1.0           0.0                             0.0   \n",
       "3                      0.0           0.0                             0.0   \n",
       "4                     -1.0           1.0                             0.0   \n",
       "...                    ...           ...                             ...   \n",
       "5105                   0.0           1.0                             0.0   \n",
       "5106                   0.0           0.0                             0.0   \n",
       "5107                  -1.0           0.0                             0.0   \n",
       "5108                  -1.0           0.0                             1.0   \n",
       "5109                   0.0           0.0                             0.0   \n",
       "\n",
       "      work_type_Private  smoking_status_never smoked  heart_disease  \\\n",
       "0                   0.0                          0.0            1.0   \n",
       "1                  -1.0                          1.0            0.0   \n",
       "2                   0.0                          1.0            1.0   \n",
       "3                   0.0                          0.0            0.0   \n",
       "4                  -1.0                          1.0            0.0   \n",
       "...                 ...                          ...            ...   \n",
       "5105                0.0                          1.0            0.0   \n",
       "5106               -1.0                          1.0            0.0   \n",
       "5107               -1.0                          1.0            0.0   \n",
       "5108                0.0                          0.0            0.0   \n",
       "5109               -1.0                          0.0            0.0   \n",
       "\n",
       "      work_type_Self-employed  ever_married_Yes  smoking_status_smokes  \\\n",
       "0                         0.0               0.0                    0.0   \n",
       "1                         1.0               0.0                    0.0   \n",
       "2                         0.0               0.0                    0.0   \n",
       "3                         0.0               0.0                    1.0   \n",
       "4                         1.0               0.0                    0.0   \n",
       "...                       ...               ...                    ...   \n",
       "5105                      0.0               0.0                    0.0   \n",
       "5106                      1.0               0.0                    0.0   \n",
       "5107                      1.0               0.0                    0.0   \n",
       "5108                      0.0               0.0                    0.0   \n",
       "5109                      0.0               0.0                    0.0   \n",
       "\n",
       "      work_type_children  work_type_Never_worked  gender_Other  \n",
       "0                    0.0                     0.0           0.0  \n",
       "1                    0.0                     0.0           0.0  \n",
       "2                    0.0                     0.0           0.0  \n",
       "3                    0.0                     0.0           0.0  \n",
       "4                    0.0                     0.0           0.0  \n",
       "...                  ...                     ...           ...  \n",
       "5105                 0.0                     0.0           0.0  \n",
       "5106                 0.0                     0.0           0.0  \n",
       "5107                 0.0                     0.0           0.0  \n",
       "5108                 0.0                     0.0           0.0  \n",
       "5109                 0.0                     0.0           0.0  \n",
       "\n",
       "[5110 rows x 16 columns]"
      ]
     },
     "execution_count": 34,
     "metadata": {},
     "output_type": "execute_result"
    }
   ],
   "source": [
    "X_select"
   ]
  },
  {
   "cell_type": "markdown",
   "id": "f572e5df",
   "metadata": {},
   "source": [
    "## Balanceo del dataset"
   ]
  },
  {
   "cell_type": "markdown",
   "id": "2da5e176",
   "metadata": {},
   "source": [
    "Según el análisis realizado, el conjunto de datos posee un desbalance con 4861 personas que no tuvieron un ACV y 249 personas que si tuvieron un ACV, al entrenar los diferentes algoritmos generaria una matriz de confusión desbalanceda, por lo que se hara uso de la combinación de las tecnicas de sobremuestreo y submuestreo para equuilibrar la cantidad de datos."
   ]
  },
  {
   "cell_type": "markdown",
   "id": "d6c54e56",
   "metadata": {},
   "source": [
    "## Sobremuestreo + Submuestreo"
   ]
  },
  {
   "cell_type": "code",
   "execution_count": 35,
   "id": "d6f8762b",
   "metadata": {},
   "outputs": [
    {
     "name": "stdout",
     "output_type": "stream",
     "text": [
      "Personas que no tuvieron un ACV: 4861 Personas que si tuvieron un ACV: 249\n"
     ]
    }
   ],
   "source": [
    "no = y_df.sum()\n",
    "si = y_df.shape[0]- no\n",
    "print('Personas que no tuvieron un ACV:',si,'Personas que si tuvieron un ACV:', no)"
   ]
  },
  {
   "cell_type": "code",
   "execution_count": 36,
   "id": "fc39776f",
   "metadata": {},
   "outputs": [],
   "source": [
    "#Importamos los paquetes\n",
    "from imblearn.combine import SMOTETomek\n",
    "\n",
    "#Inicialización del método combinado\n",
    "#SMOTE Tomek\n",
    "smoteT = SMOTETomek()"
   ]
  },
  {
   "cell_type": "code",
   "execution_count": 37,
   "id": "8f02dbf5",
   "metadata": {},
   "outputs": [
    {
     "name": "stdout",
     "output_type": "stream",
     "text": [
      "Personas que no tuvieron un ACV: 4840 Personas que si tuvieron un ACV: 4840\n"
     ]
    },
    {
     "data": {
      "text/html": [
       "<div>\n",
       "<style scoped>\n",
       "    .dataframe tbody tr th:only-of-type {\n",
       "        vertical-align: middle;\n",
       "    }\n",
       "\n",
       "    .dataframe tbody tr th {\n",
       "        vertical-align: top;\n",
       "    }\n",
       "\n",
       "    .dataframe thead th {\n",
       "        text-align: right;\n",
       "    }\n",
       "</style>\n",
       "<table border=\"1\" class=\"dataframe\">\n",
       "  <thead>\n",
       "    <tr style=\"text-align: right;\">\n",
       "      <th></th>\n",
       "      <th>avg_glucose_level</th>\n",
       "      <th>age</th>\n",
       "      <th>bmi</th>\n",
       "      <th>gender_Male</th>\n",
       "      <th>Residence_type_Urban</th>\n",
       "      <th>hypertension</th>\n",
       "      <th>smoking_status_formerly smoked</th>\n",
       "      <th>work_type_Private</th>\n",
       "      <th>smoking_status_never smoked</th>\n",
       "      <th>heart_disease</th>\n",
       "      <th>work_type_Self-employed</th>\n",
       "      <th>ever_married_Yes</th>\n",
       "      <th>smoking_status_smokes</th>\n",
       "      <th>work_type_children</th>\n",
       "      <th>work_type_Never_worked</th>\n",
       "      <th>gender_Other</th>\n",
       "    </tr>\n",
       "  </thead>\n",
       "  <tbody>\n",
       "    <tr>\n",
       "      <th>0</th>\n",
       "      <td>3.712987</td>\n",
       "      <td>0.611111</td>\n",
       "      <td>0.944444</td>\n",
       "      <td>1.000000</td>\n",
       "      <td>0.0</td>\n",
       "      <td>0.0</td>\n",
       "      <td>1.000000</td>\n",
       "      <td>0.0</td>\n",
       "      <td>0.000000</td>\n",
       "      <td>1.0</td>\n",
       "      <td>0.0</td>\n",
       "      <td>0.000000</td>\n",
       "      <td>0.000000</td>\n",
       "      <td>0.0</td>\n",
       "      <td>0.0</td>\n",
       "      <td>0.0</td>\n",
       "    </tr>\n",
       "    <tr>\n",
       "      <th>1</th>\n",
       "      <td>2.994300</td>\n",
       "      <td>0.444444</td>\n",
       "      <td>0.000000</td>\n",
       "      <td>0.000000</td>\n",
       "      <td>-1.0</td>\n",
       "      <td>0.0</td>\n",
       "      <td>0.000000</td>\n",
       "      <td>-1.0</td>\n",
       "      <td>1.000000</td>\n",
       "      <td>0.0</td>\n",
       "      <td>1.0</td>\n",
       "      <td>0.000000</td>\n",
       "      <td>0.000000</td>\n",
       "      <td>0.0</td>\n",
       "      <td>0.0</td>\n",
       "      <td>0.0</td>\n",
       "    </tr>\n",
       "    <tr>\n",
       "      <th>2</th>\n",
       "      <td>0.380920</td>\n",
       "      <td>0.972222</td>\n",
       "      <td>0.488889</td>\n",
       "      <td>1.000000</td>\n",
       "      <td>-1.0</td>\n",
       "      <td>0.0</td>\n",
       "      <td>0.000000</td>\n",
       "      <td>0.0</td>\n",
       "      <td>1.000000</td>\n",
       "      <td>1.0</td>\n",
       "      <td>0.0</td>\n",
       "      <td>0.000000</td>\n",
       "      <td>0.000000</td>\n",
       "      <td>0.0</td>\n",
       "      <td>0.0</td>\n",
       "      <td>0.0</td>\n",
       "    </tr>\n",
       "    <tr>\n",
       "      <th>3</th>\n",
       "      <td>2.153481</td>\n",
       "      <td>0.111111</td>\n",
       "      <td>0.700000</td>\n",
       "      <td>0.000000</td>\n",
       "      <td>0.0</td>\n",
       "      <td>0.0</td>\n",
       "      <td>0.000000</td>\n",
       "      <td>0.0</td>\n",
       "      <td>0.000000</td>\n",
       "      <td>0.0</td>\n",
       "      <td>0.0</td>\n",
       "      <td>0.000000</td>\n",
       "      <td>1.000000</td>\n",
       "      <td>0.0</td>\n",
       "      <td>0.0</td>\n",
       "      <td>0.0</td>\n",
       "    </tr>\n",
       "    <tr>\n",
       "      <th>4</th>\n",
       "      <td>2.231917</td>\n",
       "      <td>0.944444</td>\n",
       "      <td>-0.455556</td>\n",
       "      <td>0.000000</td>\n",
       "      <td>-1.0</td>\n",
       "      <td>1.0</td>\n",
       "      <td>0.000000</td>\n",
       "      <td>-1.0</td>\n",
       "      <td>1.000000</td>\n",
       "      <td>0.0</td>\n",
       "      <td>1.0</td>\n",
       "      <td>0.000000</td>\n",
       "      <td>0.000000</td>\n",
       "      <td>0.0</td>\n",
       "      <td>0.0</td>\n",
       "      <td>0.0</td>\n",
       "    </tr>\n",
       "    <tr>\n",
       "      <th>...</th>\n",
       "      <td>...</td>\n",
       "      <td>...</td>\n",
       "      <td>...</td>\n",
       "      <td>...</td>\n",
       "      <td>...</td>\n",
       "      <td>...</td>\n",
       "      <td>...</td>\n",
       "      <td>...</td>\n",
       "      <td>...</td>\n",
       "      <td>...</td>\n",
       "      <td>...</td>\n",
       "      <td>...</td>\n",
       "      <td>...</td>\n",
       "      <td>...</td>\n",
       "      <td>...</td>\n",
       "      <td>...</td>\n",
       "    </tr>\n",
       "    <tr>\n",
       "      <th>9675</th>\n",
       "      <td>0.071332</td>\n",
       "      <td>0.525884</td>\n",
       "      <td>0.012353</td>\n",
       "      <td>0.000000</td>\n",
       "      <td>0.0</td>\n",
       "      <td>0.0</td>\n",
       "      <td>0.000000</td>\n",
       "      <td>-1.0</td>\n",
       "      <td>0.577653</td>\n",
       "      <td>0.0</td>\n",
       "      <td>0.0</td>\n",
       "      <td>0.000000</td>\n",
       "      <td>0.000000</td>\n",
       "      <td>0.0</td>\n",
       "      <td>0.0</td>\n",
       "      <td>0.0</td>\n",
       "    </tr>\n",
       "    <tr>\n",
       "      <th>9676</th>\n",
       "      <td>0.787883</td>\n",
       "      <td>0.694983</td>\n",
       "      <td>-0.350562</td>\n",
       "      <td>1.000000</td>\n",
       "      <td>-1.0</td>\n",
       "      <td>0.0</td>\n",
       "      <td>0.501076</td>\n",
       "      <td>0.0</td>\n",
       "      <td>0.000000</td>\n",
       "      <td>1.0</td>\n",
       "      <td>0.0</td>\n",
       "      <td>0.000000</td>\n",
       "      <td>0.498924</td>\n",
       "      <td>0.0</td>\n",
       "      <td>0.0</td>\n",
       "      <td>0.0</td>\n",
       "    </tr>\n",
       "    <tr>\n",
       "      <th>9677</th>\n",
       "      <td>0.722231</td>\n",
       "      <td>0.886183</td>\n",
       "      <td>-0.225646</td>\n",
       "      <td>0.451292</td>\n",
       "      <td>0.0</td>\n",
       "      <td>0.0</td>\n",
       "      <td>1.000000</td>\n",
       "      <td>-1.0</td>\n",
       "      <td>0.000000</td>\n",
       "      <td>0.0</td>\n",
       "      <td>1.0</td>\n",
       "      <td>0.000000</td>\n",
       "      <td>0.000000</td>\n",
       "      <td>0.0</td>\n",
       "      <td>0.0</td>\n",
       "      <td>0.0</td>\n",
       "    </tr>\n",
       "    <tr>\n",
       "      <th>9678</th>\n",
       "      <td>-0.459860</td>\n",
       "      <td>0.857959</td>\n",
       "      <td>-0.198739</td>\n",
       "      <td>0.000000</td>\n",
       "      <td>0.0</td>\n",
       "      <td>0.0</td>\n",
       "      <td>0.000000</td>\n",
       "      <td>-1.0</td>\n",
       "      <td>0.000000</td>\n",
       "      <td>0.0</td>\n",
       "      <td>0.0</td>\n",
       "      <td>-1.000000</td>\n",
       "      <td>0.606655</td>\n",
       "      <td>0.0</td>\n",
       "      <td>0.0</td>\n",
       "      <td>0.0</td>\n",
       "    </tr>\n",
       "    <tr>\n",
       "      <th>9679</th>\n",
       "      <td>-0.020917</td>\n",
       "      <td>0.944444</td>\n",
       "      <td>-0.501033</td>\n",
       "      <td>0.000000</td>\n",
       "      <td>-1.0</td>\n",
       "      <td>0.0</td>\n",
       "      <td>0.000000</td>\n",
       "      <td>0.0</td>\n",
       "      <td>1.000000</td>\n",
       "      <td>0.0</td>\n",
       "      <td>0.0</td>\n",
       "      <td>-0.468689</td>\n",
       "      <td>0.000000</td>\n",
       "      <td>0.0</td>\n",
       "      <td>0.0</td>\n",
       "      <td>0.0</td>\n",
       "    </tr>\n",
       "  </tbody>\n",
       "</table>\n",
       "<p>9680 rows × 16 columns</p>\n",
       "</div>"
      ],
      "text/plain": [
       "      avg_glucose_level       age       bmi  gender_Male  \\\n",
       "0              3.712987  0.611111  0.944444     1.000000   \n",
       "1              2.994300  0.444444  0.000000     0.000000   \n",
       "2              0.380920  0.972222  0.488889     1.000000   \n",
       "3              2.153481  0.111111  0.700000     0.000000   \n",
       "4              2.231917  0.944444 -0.455556     0.000000   \n",
       "...                 ...       ...       ...          ...   \n",
       "9675           0.071332  0.525884  0.012353     0.000000   \n",
       "9676           0.787883  0.694983 -0.350562     1.000000   \n",
       "9677           0.722231  0.886183 -0.225646     0.451292   \n",
       "9678          -0.459860  0.857959 -0.198739     0.000000   \n",
       "9679          -0.020917  0.944444 -0.501033     0.000000   \n",
       "\n",
       "      Residence_type_Urban  hypertension  smoking_status_formerly smoked  \\\n",
       "0                      0.0           0.0                        1.000000   \n",
       "1                     -1.0           0.0                        0.000000   \n",
       "2                     -1.0           0.0                        0.000000   \n",
       "3                      0.0           0.0                        0.000000   \n",
       "4                     -1.0           1.0                        0.000000   \n",
       "...                    ...           ...                             ...   \n",
       "9675                   0.0           0.0                        0.000000   \n",
       "9676                  -1.0           0.0                        0.501076   \n",
       "9677                   0.0           0.0                        1.000000   \n",
       "9678                   0.0           0.0                        0.000000   \n",
       "9679                  -1.0           0.0                        0.000000   \n",
       "\n",
       "      work_type_Private  smoking_status_never smoked  heart_disease  \\\n",
       "0                   0.0                     0.000000            1.0   \n",
       "1                  -1.0                     1.000000            0.0   \n",
       "2                   0.0                     1.000000            1.0   \n",
       "3                   0.0                     0.000000            0.0   \n",
       "4                  -1.0                     1.000000            0.0   \n",
       "...                 ...                          ...            ...   \n",
       "9675               -1.0                     0.577653            0.0   \n",
       "9676                0.0                     0.000000            1.0   \n",
       "9677               -1.0                     0.000000            0.0   \n",
       "9678               -1.0                     0.000000            0.0   \n",
       "9679                0.0                     1.000000            0.0   \n",
       "\n",
       "      work_type_Self-employed  ever_married_Yes  smoking_status_smokes  \\\n",
       "0                         0.0          0.000000               0.000000   \n",
       "1                         1.0          0.000000               0.000000   \n",
       "2                         0.0          0.000000               0.000000   \n",
       "3                         0.0          0.000000               1.000000   \n",
       "4                         1.0          0.000000               0.000000   \n",
       "...                       ...               ...                    ...   \n",
       "9675                      0.0          0.000000               0.000000   \n",
       "9676                      0.0          0.000000               0.498924   \n",
       "9677                      1.0          0.000000               0.000000   \n",
       "9678                      0.0         -1.000000               0.606655   \n",
       "9679                      0.0         -0.468689               0.000000   \n",
       "\n",
       "      work_type_children  work_type_Never_worked  gender_Other  \n",
       "0                    0.0                     0.0           0.0  \n",
       "1                    0.0                     0.0           0.0  \n",
       "2                    0.0                     0.0           0.0  \n",
       "3                    0.0                     0.0           0.0  \n",
       "4                    0.0                     0.0           0.0  \n",
       "...                  ...                     ...           ...  \n",
       "9675                 0.0                     0.0           0.0  \n",
       "9676                 0.0                     0.0           0.0  \n",
       "9677                 0.0                     0.0           0.0  \n",
       "9678                 0.0                     0.0           0.0  \n",
       "9679                 0.0                     0.0           0.0  \n",
       "\n",
       "[9680 rows x 16 columns]"
      ]
     },
     "execution_count": 37,
     "metadata": {},
     "output_type": "execute_result"
    }
   ],
   "source": [
    "#Sobremuestreo con Smote seguido de un submuestreo con Uniones de Tomek\n",
    "X_smoteT, y_smoteT = smoteT.fit_resample(X_select, y_df)\n",
    "no_smoteT = y_smoteT.sum()\n",
    "si_smoteT = y_smoteT.shape[0]- no_smoteT\n",
    "print('Personas que no tuvieron un ACV:',no_smoteT ,'Personas que si tuvieron un ACV:', si_smoteT)\n",
    "X_smoteT"
   ]
  },
  {
   "cell_type": "markdown",
   "id": "377f6f44",
   "metadata": {},
   "source": [
    "## Entrenar y evaluar utilizando regresión logística"
   ]
  },
  {
   "cell_type": "code",
   "execution_count": 38,
   "id": "75f63080",
   "metadata": {},
   "outputs": [],
   "source": [
    "#División del dataset en conjunto de entramiento y prueba\n",
    "from sklearn.model_selection import train_test_split\n",
    "X_train, X_val, y_train, y_val = train_test_split(X_smoteT, y_smoteT, test_size = 0.25, random_state=0)"
   ]
  },
  {
   "cell_type": "code",
   "execution_count": 39,
   "id": "13427ea3",
   "metadata": {},
   "outputs": [],
   "source": [
    "# Entrenamos un algoritmo basado en regresión logística\n",
    "from sklearn.linear_model import LogisticRegression\n",
    "\n",
    "#Creación del modelo\n",
    "clf = LogisticRegression(random_state =0).fit(X_train, y_train)"
   ]
  },
  {
   "cell_type": "code",
   "execution_count": 40,
   "id": "6e03b6f9",
   "metadata": {},
   "outputs": [],
   "source": [
    "#Prediccion con el conjunto de pruebas\n",
    "y_pred = clf.predict(X_val)"
   ]
  },
  {
   "cell_type": "code",
   "execution_count": 41,
   "id": "f013fdf4",
   "metadata": {},
   "outputs": [
    {
     "name": "stdout",
     "output_type": "stream",
     "text": [
      "Accuracy: 0.787\n"
     ]
    }
   ],
   "source": [
    "#Validación del accuracy\n",
    "from sklearn.metrics import accuracy_score\n",
    "print('Accuracy: {:.3f}'.format(accuracy_score(y_val, y_pred)))"
   ]
  },
  {
   "cell_type": "code",
   "execution_count": 42,
   "id": "02457dcb",
   "metadata": {},
   "outputs": [
    {
     "data": {
      "text/plain": [
       "array([[ 900,  294],\n",
       "       [ 222, 1004]], dtype=int64)"
      ]
     },
     "execution_count": 42,
     "metadata": {},
     "output_type": "execute_result"
    }
   ],
   "source": [
    "#Validación de la matriz de confusión\n",
    "from sklearn.metrics import confusion_matrix\n",
    "confusion_matrix(y_val, y_pred)"
   ]
  },
  {
   "cell_type": "code",
   "execution_count": 43,
   "id": "179185a1",
   "metadata": {},
   "outputs": [
    {
     "name": "stderr",
     "output_type": "stream",
     "text": [
      "C:\\Users\\eliza\\AppData\\Roaming\\Python\\Python38\\site-packages\\sklearn\\utils\\deprecation.py:87: FutureWarning: Function plot_confusion_matrix is deprecated; Function `plot_confusion_matrix` is deprecated in 1.0 and will be removed in 1.2. Use one of the class methods: ConfusionMatrixDisplay.from_predictions or ConfusionMatrixDisplay.from_estimator.\n",
      "  warnings.warn(msg, category=FutureWarning)\n"
     ]
    },
    {
     "data": {
      "text/plain": [
       "<sklearn.metrics._plot.confusion_matrix.ConfusionMatrixDisplay at 0x1ece2ade580>"
      ]
     },
     "execution_count": 43,
     "metadata": {},
     "output_type": "execute_result"
    },
    {
     "data": {
      "image/png": "[encoded data removed]",
      "text/plain": [
       "<Figure size 432x288 with 2 Axes>"
      ]
     },
     "metadata": {
      "needs_background": "light"
     },
     "output_type": "display_data"
    }
   ],
   "source": [
    "#Representación gráfica de los resultados de la matriz de confusión con el conjunto de pruebas\n",
    "from sklearn.metrics import plot_confusion_matrix\n",
    "\n",
    "plot_confusion_matrix(clf, X_val, y_val, values_format='3g')"
   ]
  },
  {
   "cell_type": "code",
   "execution_count": 44,
   "id": "6cf6cd46",
   "metadata": {},
   "outputs": [
    {
     "name": "stdout",
     "output_type": "stream",
     "text": [
      "[[ 900  294]\n",
      " [ 222 1004]]\n",
      "              precision    recall  f1-score   support\n",
      "\n",
      "           0       0.80      0.75      0.78      1194\n",
      "           1       0.77      0.82      0.80      1226\n",
      "\n",
      "    accuracy                           0.79      2420\n",
      "   macro avg       0.79      0.79      0.79      2420\n",
      "weighted avg       0.79      0.79      0.79      2420\n",
      "\n"
     ]
    }
   ],
   "source": [
    "#Descripción de los resultados de diferentes métricas de medición sobre el modelo entrenado y probado\n",
    "from sklearn.metrics import confusion_matrix,classification_report,plot_confusion_matrix\n",
    "print(confusion_matrix(y_val, y_pred))\n",
    "print(classification_report(y_val, y_pred))"
   ]
  },
  {
   "cell_type": "markdown",
   "id": "c3e2093e",
   "metadata": {},
   "source": [
    "## Entrenar y evaluar utilizando bosques aleatorios"
   ]
  },
  {
   "cell_type": "code",
   "execution_count": 45,
   "id": "59d36c90",
   "metadata": {},
   "outputs": [],
   "source": [
    "#División del dataset en conjunto de entramiento y prueba\n",
    "from sklearn.model_selection import train_test_split\n",
    "X_train, X_val, y_train, y_val = train_test_split(X_smoteT, y_smoteT, test_size = 0.25, random_state=0)"
   ]
  },
  {
   "cell_type": "code",
   "execution_count": 46,
   "id": "bcec58de",
   "metadata": {},
   "outputs": [
    {
     "data": {
      "text/plain": [
       "RandomForestClassifier()"
      ]
     },
     "execution_count": 46,
     "metadata": {},
     "output_type": "execute_result"
    }
   ],
   "source": [
    "# Importación de la librería \n",
    "from sklearn.ensemble import RandomForestClassifier\n",
    "\n",
    "#Creación del modelo\n",
    "ranforest = RandomForestClassifier()\n",
    "ranforest.fit(X_train, y_train)"
   ]
  },
  {
   "cell_type": "code",
   "execution_count": 47,
   "id": "5097ef96",
   "metadata": {},
   "outputs": [],
   "source": [
    "#Prediccion con el conjunto de pruebas\n",
    "y_pred = ranforest.predict(X_val)"
   ]
  },
  {
   "cell_type": "code",
   "execution_count": 48,
   "id": "2833e9d4",
   "metadata": {},
   "outputs": [
    {
     "name": "stdout",
     "output_type": "stream",
     "text": [
      "Accuracy: 0.960\n"
     ]
    }
   ],
   "source": [
    "#Validación del accuracy\n",
    "from sklearn.metrics import accuracy_score\n",
    "print('Accuracy: {:.3f}'.format(accuracy_score(y_val, y_pred)))"
   ]
  },
  {
   "cell_type": "code",
   "execution_count": 49,
   "id": "d7c28e5a",
   "metadata": {},
   "outputs": [
    {
     "data": {
      "text/plain": [
       "array([[1127,   67],\n",
       "       [  29, 1197]], dtype=int64)"
      ]
     },
     "execution_count": 49,
     "metadata": {},
     "output_type": "execute_result"
    }
   ],
   "source": [
    "#Validación de la matriz de confusión\n",
    "from sklearn.metrics import confusion_matrix\n",
    "confusion_matrix(y_val, y_pred)"
   ]
  },
  {
   "cell_type": "code",
   "execution_count": 51,
   "id": "865569fe",
   "metadata": {},
   "outputs": [
    {
     "name": "stderr",
     "output_type": "stream",
     "text": [
      "C:\\Users\\eliza\\AppData\\Roaming\\Python\\Python38\\site-packages\\sklearn\\utils\\deprecation.py:87: FutureWarning: Function plot_confusion_matrix is deprecated; Function `plot_confusion_matrix` is deprecated in 1.0 and will be removed in 1.2. Use one of the class methods: ConfusionMatrixDisplay.from_predictions or ConfusionMatrixDisplay.from_estimator.\n",
      "  warnings.warn(msg, category=FutureWarning)\n"
     ]
    },
    {
     "data": {
      "text/plain": [
       "<sklearn.metrics._plot.confusion_matrix.ConfusionMatrixDisplay at 0x1ece21ce730>"
      ]
     },
     "execution_count": 51,
     "metadata": {},
     "output_type": "execute_result"
    },
    {
     "data": {
      "image/png": "[encoded data removed]",
      "text/plain": [
       "<Figure size 432x288 with 2 Axes>"
      ]
     },
     "metadata": {
      "needs_background": "light"
     },
     "output_type": "display_data"
    }
   ],
   "source": [
    "#Representación gráfica de los resultados de la matriz de confusión con el conjunto de pruebas\n",
    "from sklearn.metrics import plot_confusion_matrix\n",
    "\n",
    "plot_confusion_matrix(ranforest, X_val, y_val, values_format='3g')"
   ]
  },
  {
   "cell_type": "code",
   "execution_count": 52,
   "id": "ff19dd8c",
   "metadata": {},
   "outputs": [
    {
     "name": "stdout",
     "output_type": "stream",
     "text": [
      "[[1127   67]\n",
      " [  29 1197]]\n",
      "              precision    recall  f1-score   support\n",
      "\n",
      "           0       0.97      0.94      0.96      1194\n",
      "           1       0.95      0.98      0.96      1226\n",
      "\n",
      "    accuracy                           0.96      2420\n",
      "   macro avg       0.96      0.96      0.96      2420\n",
      "weighted avg       0.96      0.96      0.96      2420\n",
      "\n"
     ]
    }
   ],
   "source": [
    "#Descripción de los resultados de diferentes métricas de medición sobre el modelo entrenado y probado\n",
    "from sklearn.metrics import confusion_matrix,classification_report,plot_confusion_matrix\n",
    "print(confusion_matrix(y_val, y_pred))\n",
    "print(classification_report(y_val, y_pred))"
   ]
  },
  {
   "cell_type": "markdown",
   "id": "00c69364",
   "metadata": {},
   "source": [
    "## Entrenar y evaluar utilizando redes neuronales"
   ]
  },
  {
   "cell_type": "code",
   "execution_count": 53,
   "id": "00721dcd",
   "metadata": {},
   "outputs": [],
   "source": [
    "#División del dataset en conjunto de entramiento y prueba\n",
    "from sklearn.model_selection import train_test_split\n",
    "X_train, X_val, y_train, y_val = train_test_split(X_smoteT, y_smoteT, test_size = 0.25, random_state=0)"
   ]
  },
  {
   "cell_type": "code",
   "execution_count": 54,
   "id": "04c19778",
   "metadata": {},
   "outputs": [],
   "source": [
    "# Entrenamiento del algoritmo\n",
    "from keras import models\n",
    "from keras import layers\n",
    "from tensorflow.python import tf2\n",
    "import keras_metrics as km\n",
    "\n",
    "\n",
    "model = models.Sequential()\n",
    "model = models.Sequential()\n",
    "model.add(layers.Dense(64, activation='relu', input_shape=(X_train.shape[1],)))\n",
    "model.add(layers.Dense(32, activation='relu'))\n",
    "model.add(layers.Dense(16, activation='relu'))\n",
    "model.add(layers.Dense(1, activation='sigmoid'))\n",
    "\n",
    "model.compile(optimizer='rmsprop',\n",
    "             loss='binary_crossentropy',\n",
    "             metrics=[km.f1_score()])"
   ]
  },
  {
   "cell_type": "code",
   "execution_count": 55,
   "id": "498a69e3",
   "metadata": {},
   "outputs": [
    {
     "name": "stdout",
     "output_type": "stream",
     "text": [
      "Epoch 1/40\n",
      "WARNING:tensorflow:`add_update` `inputs` kwarg has been deprecated. You no longer need to pass a value to `inputs` as it is being automatically inferred.\n",
      "WARNING:tensorflow:`add_update` `inputs` kwarg has been deprecated. You no longer need to pass a value to `inputs` as it is being automatically inferred.\n",
      "WARNING:tensorflow:`add_update` `inputs` kwarg has been deprecated. You no longer need to pass a value to `inputs` as it is being automatically inferred.\n",
      "WARNING:tensorflow:`add_update` `inputs` kwarg has been deprecated. You no longer need to pass a value to `inputs` as it is being automatically inferred.\n"
     ]
    },
    {
     "name": "stderr",
     "output_type": "stream",
     "text": [
      "C:\\Users\\eliza\\AppData\\Roaming\\Python\\Python38\\site-packages\\keras\\engine\\base_layer.py:1348: UserWarning: `layer.updates` will be removed in a future version. This property should not be used in TensorFlow 2.0, as `updates` are applied automatically.\n",
      "  warnings.warn('`layer.updates` will be removed in a future version. '\n"
     ]
    },
    {
     "name": "stdout",
     "output_type": "stream",
     "text": [
      "WARNING:tensorflow:`add_update` `inputs` kwarg has been deprecated. You no longer need to pass a value to `inputs` as it is being automatically inferred.\n",
      "WARNING:tensorflow:`add_update` `inputs` kwarg has been deprecated. You no longer need to pass a value to `inputs` as it is being automatically inferred.\n",
      "WARNING:tensorflow:`add_update` `inputs` kwarg has been deprecated. You no longer need to pass a value to `inputs` as it is being automatically inferred.\n",
      "WARNING:tensorflow:`add_update` `inputs` kwarg has been deprecated. You no longer need to pass a value to `inputs` as it is being automatically inferred.\n",
      "15/15 [==============================] - 1s 1ms/step - loss: 0.6635 - f1_score: 0.6704\n",
      "Epoch 2/40\n",
      "15/15 [==============================] - 0s 1ms/step - loss: 0.6128 - f1_score: 0.7024\n",
      "Epoch 3/40\n",
      "15/15 [==============================] - 0s 2ms/step - loss: 0.5618 - f1_score: 0.7251\n",
      "Epoch 4/40\n",
      "15/15 [==============================] - 0s 2ms/step - loss: 0.5155 - f1_score: 0.7395\n",
      "Epoch 5/40\n",
      "15/15 [==============================] - 0s 2ms/step - loss: 0.4822 - f1_score: 0.7491\n",
      "Epoch 6/40\n",
      "15/15 [==============================] - 0s 1ms/step - loss: 0.4607 - f1_score: 0.7567\n",
      "Epoch 7/40\n",
      "15/15 [==============================] - 0s 2ms/step - loss: 0.4475 - f1_score: 0.7628\n",
      "Epoch 8/40\n",
      "15/15 [==============================] - 0s 2ms/step - loss: 0.4399 - f1_score: 0.7682\n",
      "Epoch 9/40\n",
      "15/15 [==============================] - 0s 2ms/step - loss: 0.4341 - f1_score: 0.7725\n",
      "Epoch 10/40\n",
      "15/15 [==============================] - 0s 2ms/step - loss: 0.4272 - f1_score: 0.7764\n",
      "Epoch 11/40\n",
      "15/15 [==============================] - 0s 2ms/step - loss: 0.4220 - f1_score: 0.7797\n",
      "Epoch 12/40\n",
      "15/15 [==============================] - 0s 2ms/step - loss: 0.4176 - f1_score: 0.7827\n",
      "Epoch 13/40\n",
      "15/15 [==============================] - 0s 2ms/step - loss: 0.4129 - f1_score: 0.7855\n",
      "Epoch 14/40\n",
      "15/15 [==============================] - 0s 2ms/step - loss: 0.4085 - f1_score: 0.7878\n",
      "Epoch 15/40\n",
      "15/15 [==============================] - 0s 2ms/step - loss: 0.4034 - f1_score: 0.7901\n",
      "Epoch 16/40\n",
      "15/15 [==============================] - 0s 2ms/step - loss: 0.3980 - f1_score: 0.7922\n",
      "Epoch 17/40\n",
      "15/15 [==============================] - 0s 2ms/step - loss: 0.3924 - f1_score: 0.7947\n",
      "Epoch 18/40\n",
      "15/15 [==============================] - 0s 2ms/step - loss: 0.3876 - f1_score: 0.7968\n",
      "Epoch 19/40\n",
      "15/15 [==============================] - 0s 2ms/step - loss: 0.3836 - f1_score: 0.7991\n",
      "Epoch 20/40\n",
      "15/15 [==============================] - 0s 2ms/step - loss: 0.3809 - f1_score: 0.8011\n",
      "Epoch 21/40\n",
      "15/15 [==============================] - 0s 2ms/step - loss: 0.3761 - f1_score: 0.8030\n",
      "Epoch 22/40\n",
      "15/15 [==============================] - 0s 2ms/step - loss: 0.3691 - f1_score: 0.8051\n",
      "Epoch 23/40\n",
      "15/15 [==============================] - 0s 2ms/step - loss: 0.3664 - f1_score: 0.8071\n",
      "Epoch 24/40\n",
      "15/15 [==============================] - 0s 2ms/step - loss: 0.3618 - f1_score: 0.8091\n",
      "Epoch 25/40\n",
      "15/15 [==============================] - 0s 1ms/step - loss: 0.3548 - f1_score: 0.8110\n",
      "Epoch 26/40\n",
      "15/15 [==============================] - 0s 2ms/step - loss: 0.3517 - f1_score: 0.8129\n",
      "Epoch 27/40\n",
      "15/15 [==============================] - 0s 2ms/step - loss: 0.3466 - f1_score: 0.8148\n",
      "Epoch 28/40\n",
      "15/15 [==============================] - 0s 2ms/step - loss: 0.3421 - f1_score: 0.8167\n",
      "Epoch 29/40\n",
      "15/15 [==============================] - 0s 2ms/step - loss: 0.3373 - f1_score: 0.8183\n",
      "Epoch 30/40\n",
      "15/15 [==============================] - 0s 2ms/step - loss: 0.3341 - f1_score: 0.8201\n",
      "Epoch 31/40\n",
      "15/15 [==============================] - 0s 2ms/step - loss: 0.3302 - f1_score: 0.8218\n",
      "Epoch 32/40\n",
      "15/15 [==============================] - 0s 1ms/step - loss: 0.3239 - f1_score: 0.8233\n",
      "Epoch 33/40\n",
      "15/15 [==============================] - 0s 2ms/step - loss: 0.3199 - f1_score: 0.8248\n",
      "Epoch 34/40\n",
      "15/15 [==============================] - 0s 1ms/step - loss: 0.3176 - f1_score: 0.8264\n",
      "Epoch 35/40\n",
      "15/15 [==============================] - 0s 2ms/step - loss: 0.3152 - f1_score: 0.8278\n",
      "Epoch 36/40\n",
      "15/15 [==============================] - 0s 2ms/step - loss: 0.3092 - f1_score: 0.8293\n",
      "Epoch 37/40\n",
      "15/15 [==============================] - 0s 2ms/step - loss: 0.3081 - f1_score: 0.8308\n",
      "Epoch 38/40\n",
      "15/15 [==============================] - 0s 2ms/step - loss: 0.3009 - f1_score: 0.8323\n",
      "Epoch 39/40\n",
      "15/15 [==============================] - 0s 2ms/step - loss: 0.2994 - f1_score: 0.8337\n",
      "Epoch 40/40\n",
      "15/15 [==============================] - 0s 1ms/step - loss: 0.2944 - f1_score: 0.8350\n"
     ]
    }
   ],
   "source": [
    "# Entrenamos el algoritmo\n",
    "history = model.fit(X_train,\n",
    "                   y_train,\n",
    "                   epochs=40,\n",
    "                   batch_size=512)"
   ]
  },
  {
   "cell_type": "code",
   "execution_count": 56,
   "id": "1c744a88",
   "metadata": {},
   "outputs": [],
   "source": [
    "#Prediccion con el conjunto de pruebas\n",
    "y_pred  = model.predict(X_val)\n",
    "y_pred = (y_pred>0.5)"
   ]
  },
  {
   "cell_type": "code",
   "execution_count": 57,
   "id": "3d6ae189",
   "metadata": {},
   "outputs": [
    {
     "name": "stdout",
     "output_type": "stream",
     "text": [
      "Accuracy: 0.857\n"
     ]
    }
   ],
   "source": [
    "#Validación del accuracy\n",
    "from sklearn.metrics import accuracy_score\n",
    "print('Accuracy: {:.3f}'.format(accuracy_score(y_val, y_pred)))"
   ]
  },
  {
   "cell_type": "code",
   "execution_count": 58,
   "id": "9997ab37",
   "metadata": {},
   "outputs": [
    {
     "data": {
      "text/plain": [
       "array([[1032,  162],\n",
       "       [ 185, 1041]], dtype=int64)"
      ]
     },
     "execution_count": 58,
     "metadata": {},
     "output_type": "execute_result"
    }
   ],
   "source": [
    "#Validación de la matriz de confusión\n",
    "from sklearn.metrics import confusion_matrix\n",
    "confusion_matrix(y_val, y_pred)"
   ]
  },
  {
   "cell_type": "code",
   "execution_count": 59,
   "id": "facee4e8",
   "metadata": {},
   "outputs": [
    {
     "data": {
      "text/plain": [
       "<AxesSubplot:>"
      ]
     },
     "execution_count": 59,
     "metadata": {},
     "output_type": "execute_result"
    },
    {
     "data": {
      "image/png": "[encoded data removed]",
      "text/plain": [
       "<Figure size 432x288 with 2 Axes>"
      ]
     },
     "metadata": {
      "needs_background": "light"
     },
     "output_type": "display_data"
    }
   ],
   "source": [
    "#Representación gráfica de los resultados de la matriz de confusión con el conjunto de pruebas\n",
    "cm = confusion_matrix(y_val, y_pred)\n",
    "sns.heatmap(cm, annot=True)"
   ]
  },
  {
   "cell_type": "code",
   "execution_count": 60,
   "id": "524a2c1e",
   "metadata": {},
   "outputs": [
    {
     "name": "stdout",
     "output_type": "stream",
     "text": [
      "[[1032  162]\n",
      " [ 185 1041]]\n",
      "              precision    recall  f1-score   support\n",
      "\n",
      "           0       0.85      0.86      0.86      1194\n",
      "           1       0.87      0.85      0.86      1226\n",
      "\n",
      "    accuracy                           0.86      2420\n",
      "   macro avg       0.86      0.86      0.86      2420\n",
      "weighted avg       0.86      0.86      0.86      2420\n",
      "\n"
     ]
    }
   ],
   "source": [
    "#Descripción de los resultados de diferentes métricas de medición sobre el modelo entrenado y probado\n",
    "from sklearn.metrics import confusion_matrix,classification_report,plot_confusion_matrix\n",
    "print(confusion_matrix(y_val, y_pred))\n",
    "print(classification_report(y_val, y_pred))"
   ]
  },
  {
   "cell_type": "markdown",
   "id": "3d4d0ac9",
   "metadata": {},
   "source": [
    "## Entrenar y evaluar utilizando K-Nearest Neighbors"
   ]
  },
  {
   "cell_type": "code",
   "execution_count": 61,
   "id": "4c54e4a7",
   "metadata": {},
   "outputs": [],
   "source": [
    "#División del dataset en conjunto de entramiento y prueba\n",
    "from sklearn.model_selection import train_test_split\n",
    "X_train, X_val, y_train, y_val = train_test_split(X_smoteT, y_smoteT, test_size = 0.25, random_state=0)"
   ]
  },
  {
   "cell_type": "code",
   "execution_count": 62,
   "id": "4ae472e1",
   "metadata": {},
   "outputs": [
    {
     "data": {
      "text/plain": [
       "KNeighborsClassifier()"
      ]
     },
     "execution_count": 62,
     "metadata": {},
     "output_type": "execute_result"
    }
   ],
   "source": [
    "# Ajustar el clasificador en el Conjunto de Entrenamiento\n",
    "from sklearn.neighbors import KNeighborsClassifier\n",
    "classifier = KNeighborsClassifier(n_neighbors = 5, metric = \"minkowski\", p = 2)\n",
    "classifier.fit(X_train, y_train)"
   ]
  },
  {
   "cell_type": "code",
   "execution_count": 63,
   "id": "769e25d4",
   "metadata": {},
   "outputs": [],
   "source": [
    "# Predicción de los resultados con el Conjunto de Testing\n",
    "y_pred  = classifier.predict(X_val)"
   ]
  },
  {
   "cell_type": "code",
   "execution_count": 64,
   "id": "f7af8d48",
   "metadata": {},
   "outputs": [
    {
     "name": "stdout",
     "output_type": "stream",
     "text": [
      "Accuracy: 0.906\n"
     ]
    }
   ],
   "source": [
    "#Validación del accuracy\n",
    "from sklearn.metrics import accuracy_score\n",
    "print('Accuracy: {:.3f}'.format(accuracy_score(y_val, y_pred)))"
   ]
  },
  {
   "cell_type": "code",
   "execution_count": 65,
   "id": "ba1c3418",
   "metadata": {},
   "outputs": [
    {
     "data": {
      "text/plain": [
       "array([[ 975,  219],\n",
       "       [   8, 1218]], dtype=int64)"
      ]
     },
     "execution_count": 65,
     "metadata": {},
     "output_type": "execute_result"
    }
   ],
   "source": [
    "#Validación de la matriz de confusión\n",
    "from sklearn.metrics import confusion_matrix\n",
    "confusion_matrix(y_val, y_pred)"
   ]
  },
  {
   "cell_type": "code",
   "execution_count": 66,
   "id": "a7b40f51",
   "metadata": {},
   "outputs": [
    {
     "name": "stderr",
     "output_type": "stream",
     "text": [
      "C:\\Users\\eliza\\AppData\\Roaming\\Python\\Python38\\site-packages\\sklearn\\utils\\deprecation.py:87: FutureWarning: Function plot_confusion_matrix is deprecated; Function `plot_confusion_matrix` is deprecated in 1.0 and will be removed in 1.2. Use one of the class methods: ConfusionMatrixDisplay.from_predictions or ConfusionMatrixDisplay.from_estimator.\n",
      "  warnings.warn(msg, category=FutureWarning)\n"
     ]
    },
    {
     "data": {
      "text/plain": [
       "<sklearn.metrics._plot.confusion_matrix.ConfusionMatrixDisplay at 0x1ecf35676a0>"
      ]
     },
     "execution_count": 66,
     "metadata": {},
     "output_type": "execute_result"
    },
    {
     "data": {
      "image/png": "[encoded data removed]",
      "text/plain": [
       "<Figure size 432x288 with 2 Axes>"
      ]
     },
     "metadata": {
      "needs_background": "light"
     },
     "output_type": "display_data"
    }
   ],
   "source": [
    "#Representación gráfica de los resultados de la matriz de confusión con el conjunto de pruebas\n",
    "from sklearn.metrics import plot_confusion_matrix\n",
    "plot_confusion_matrix(classifier, X_val, y_val, values_format='3g')"
   ]
  },
  {
   "cell_type": "code",
   "execution_count": 67,
   "id": "800c8874",
   "metadata": {},
   "outputs": [
    {
     "name": "stdout",
     "output_type": "stream",
     "text": [
      "[[ 975  219]\n",
      " [   8 1218]]\n",
      "              precision    recall  f1-score   support\n",
      "\n",
      "           0       0.99      0.82      0.90      1194\n",
      "           1       0.85      0.99      0.91      1226\n",
      "\n",
      "    accuracy                           0.91      2420\n",
      "   macro avg       0.92      0.91      0.91      2420\n",
      "weighted avg       0.92      0.91      0.91      2420\n",
      "\n"
     ]
    }
   ],
   "source": [
    "#Descripción de los resultados de diferentes métricas de medición sobre el modelo entrenado y probado\n",
    "from sklearn.metrics import confusion_matrix,classification_report,plot_confusion_matrix\n",
    "print(confusion_matrix(y_val, y_pred))\n",
    "print(classification_report(y_val, y_pred))"
   ]
  },
  {
   "cell_type": "markdown",
   "id": "3410949f",
   "metadata": {},
   "source": [
    "## Entrenar y evaluar utilizando Support Vector Machine"
   ]
  },
  {
   "cell_type": "code",
   "execution_count": 68,
   "id": "d1c152c4",
   "metadata": {},
   "outputs": [],
   "source": [
    "#División del dataset en conjunto de entramiento y prueba\n",
    "from sklearn.model_selection import train_test_split\n",
    "X_train, X_val, y_train, y_val = train_test_split(X_smoteT, y_smoteT, test_size = 0.25, random_state=0)"
   ]
  },
  {
   "cell_type": "code",
   "execution_count": 69,
   "id": "5f85abb7",
   "metadata": {},
   "outputs": [
    {
     "data": {
      "text/plain": [
       "SVC(kernel='linear', random_state=0)"
      ]
     },
     "execution_count": 69,
     "metadata": {},
     "output_type": "execute_result"
    }
   ],
   "source": [
    "# Ajustar el SVM en el Conjunto de Entrenamiento\n",
    "from sklearn.svm import SVC\n",
    "classifier = SVC(kernel = \"linear\", random_state = 0)\n",
    "classifier.fit(X_train, y_train)"
   ]
  },
  {
   "cell_type": "code",
   "execution_count": 70,
   "id": "d9a6a269",
   "metadata": {},
   "outputs": [],
   "source": [
    "# Predicción de los resultados con el Conjunto de Testing\n",
    "y_pred  = classifier.predict(X_val)"
   ]
  },
  {
   "cell_type": "code",
   "execution_count": 71,
   "id": "09b69bb4",
   "metadata": {},
   "outputs": [
    {
     "name": "stdout",
     "output_type": "stream",
     "text": [
      "Accuracy: 0.786\n"
     ]
    }
   ],
   "source": [
    "#Validación del accuracy\n",
    "from sklearn.metrics import accuracy_score\n",
    "print('Accuracy: {:.3f}'.format(accuracy_score(y_val, y_pred)))"
   ]
  },
  {
   "cell_type": "code",
   "execution_count": 72,
   "id": "770db999",
   "metadata": {},
   "outputs": [
    {
     "data": {
      "text/plain": [
       "array([[ 876,  318],\n",
       "       [ 200, 1026]], dtype=int64)"
      ]
     },
     "execution_count": 72,
     "metadata": {},
     "output_type": "execute_result"
    }
   ],
   "source": [
    "#Validación de la matriz de confusión\n",
    "from sklearn.metrics import confusion_matrix\n",
    "confusion_matrix(y_val, y_pred)"
   ]
  },
  {
   "cell_type": "code",
   "execution_count": 73,
   "id": "aeb0e006",
   "metadata": {},
   "outputs": [
    {
     "name": "stderr",
     "output_type": "stream",
     "text": [
      "C:\\Users\\eliza\\AppData\\Roaming\\Python\\Python38\\site-packages\\sklearn\\utils\\deprecation.py:87: FutureWarning: Function plot_confusion_matrix is deprecated; Function `plot_confusion_matrix` is deprecated in 1.0 and will be removed in 1.2. Use one of the class methods: ConfusionMatrixDisplay.from_predictions or ConfusionMatrixDisplay.from_estimator.\n",
      "  warnings.warn(msg, category=FutureWarning)\n"
     ]
    },
    {
     "data": {
      "text/plain": [
       "<sklearn.metrics._plot.confusion_matrix.ConfusionMatrixDisplay at 0x1ecf466ab20>"
      ]
     },
     "execution_count": 73,
     "metadata": {},
     "output_type": "execute_result"
    },
    {
     "data": {
      "image/png": "[encoded data removed]",
      "text/plain": [
       "<Figure size 432x288 with 2 Axes>"
      ]
     },
     "metadata": {
      "needs_background": "light"
     },
     "output_type": "display_data"
    }
   ],
   "source": [
    "#Representación gráfica de los resultados de la matriz de confusión con el conjunto de pruebas\n",
    "from sklearn.metrics import plot_confusion_matrix\n",
    "plot_confusion_matrix(classifier, X_val, y_val, values_format='3g')"
   ]
  },
  {
   "cell_type": "code",
   "execution_count": 74,
   "id": "1031f931",
   "metadata": {},
   "outputs": [
    {
     "name": "stdout",
     "output_type": "stream",
     "text": [
      "[[ 876  318]\n",
      " [ 200 1026]]\n",
      "              precision    recall  f1-score   support\n",
      "\n",
      "           0       0.81      0.73      0.77      1194\n",
      "           1       0.76      0.84      0.80      1226\n",
      "\n",
      "    accuracy                           0.79      2420\n",
      "   macro avg       0.79      0.79      0.79      2420\n",
      "weighted avg       0.79      0.79      0.79      2420\n",
      "\n"
     ]
    }
   ],
   "source": [
    "#Descripción de los resultados de diferentes métricas de medición sobre el modelo entrenado y probado\n",
    "from sklearn.metrics import confusion_matrix,classification_report,plot_confusion_matrix\n",
    "print(confusion_matrix(y_val, y_pred))\n",
    "print(classification_report(y_val, y_pred))"
   ]
  },
  {
   "cell_type": "markdown",
   "id": "c5f83f07",
   "metadata": {},
   "source": [
    "## Entrenar y evaluar utilizando Kernel Support Vector Machine"
   ]
  },
  {
   "cell_type": "code",
   "execution_count": 75,
   "id": "7c423ff4",
   "metadata": {},
   "outputs": [],
   "source": [
    "#División del dataset en conjunto de entramiento y prueba\n",
    "from sklearn.model_selection import train_test_split\n",
    "X_train, X_val, y_train, y_val = train_test_split(X_smoteT, y_smoteT, test_size = 0.25, random_state=0)"
   ]
  },
  {
   "cell_type": "code",
   "execution_count": 76,
   "id": "426d3bde",
   "metadata": {},
   "outputs": [
    {
     "data": {
      "text/plain": [
       "SVC(random_state=0)"
      ]
     },
     "execution_count": 76,
     "metadata": {},
     "output_type": "execute_result"
    }
   ],
   "source": [
    "# Ajustar el clasificador en el Conjunto de Entrenamiento\n",
    "from sklearn.svm import SVC\n",
    "classifier = SVC(kernel = \"rbf\", random_state = 0)\n",
    "classifier.fit(X_train, y_train)"
   ]
  },
  {
   "cell_type": "code",
   "execution_count": 77,
   "id": "2f6a91d4",
   "metadata": {},
   "outputs": [],
   "source": [
    "# Predicción de los resultados con el Conjunto de Testing\n",
    "y_pred  = classifier.predict(X_val)"
   ]
  },
  {
   "cell_type": "code",
   "execution_count": 78,
   "id": "911695c7",
   "metadata": {},
   "outputs": [
    {
     "name": "stdout",
     "output_type": "stream",
     "text": [
      "Accuracy: 0.860\n"
     ]
    }
   ],
   "source": [
    "#Validación del accuracy\n",
    "from sklearn.metrics import accuracy_score\n",
    "print('Accuracy: {:.3f}'.format(accuracy_score(y_val, y_pred)))"
   ]
  },
  {
   "cell_type": "code",
   "execution_count": 79,
   "id": "43df70fc",
   "metadata": {},
   "outputs": [
    {
     "data": {
      "text/plain": [
       "array([[ 946,  248],\n",
       "       [  90, 1136]], dtype=int64)"
      ]
     },
     "execution_count": 79,
     "metadata": {},
     "output_type": "execute_result"
    }
   ],
   "source": [
    "#Validación de la matriz de confusión\n",
    "from sklearn.metrics import confusion_matrix\n",
    "confusion_matrix(y_val, y_pred)"
   ]
  },
  {
   "cell_type": "code",
   "execution_count": 80,
   "id": "7d0b46c3",
   "metadata": {},
   "outputs": [
    {
     "name": "stderr",
     "output_type": "stream",
     "text": [
      "C:\\Users\\eliza\\AppData\\Roaming\\Python\\Python38\\site-packages\\sklearn\\utils\\deprecation.py:87: FutureWarning: Function plot_confusion_matrix is deprecated; Function `plot_confusion_matrix` is deprecated in 1.0 and will be removed in 1.2. Use one of the class methods: ConfusionMatrixDisplay.from_predictions or ConfusionMatrixDisplay.from_estimator.\n",
      "  warnings.warn(msg, category=FutureWarning)\n"
     ]
    },
    {
     "data": {
      "text/plain": [
       "<sklearn.metrics._plot.confusion_matrix.ConfusionMatrixDisplay at 0x1ecf3568ca0>"
      ]
     },
     "execution_count": 80,
     "metadata": {},
     "output_type": "execute_result"
    },
    {
     "data": {
      "image/png": "[encoded data removed]",
      "text/plain": [
       "<Figure size 432x288 with 2 Axes>"
      ]
     },
     "metadata": {
      "needs_background": "light"
     },
     "output_type": "display_data"
    }
   ],
   "source": [
    "#Representación gráfica de los resultados de la matriz de confusión con el conjunto de pruebas\n",
    "from sklearn.metrics import plot_confusion_matrix\n",
    "plot_confusion_matrix(classifier, X_val, y_val, values_format='3g')"
   ]
  },
  {
   "cell_type": "code",
   "execution_count": 81,
   "id": "a7c79ead",
   "metadata": {},
   "outputs": [
    {
     "name": "stdout",
     "output_type": "stream",
     "text": [
      "[[ 946  248]\n",
      " [  90 1136]]\n",
      "              precision    recall  f1-score   support\n",
      "\n",
      "           0       0.91      0.79      0.85      1194\n",
      "           1       0.82      0.93      0.87      1226\n",
      "\n",
      "    accuracy                           0.86      2420\n",
      "   macro avg       0.87      0.86      0.86      2420\n",
      "weighted avg       0.87      0.86      0.86      2420\n",
      "\n"
     ]
    }
   ],
   "source": [
    "#Descripción de los resultados de diferentes métricas de medición sobre el modelo entrenado y probado\n",
    "from sklearn.metrics import confusion_matrix,classification_report,plot_confusion_matrix\n",
    "print(confusion_matrix(y_val, y_pred))\n",
    "print(classification_report(y_val, y_pred))"
   ]
  },
  {
   "cell_type": "markdown",
   "id": "07bf5d27",
   "metadata": {},
   "source": [
    "## Entrenar y evaluar utilizando Naive Bayes"
   ]
  },
  {
   "cell_type": "code",
   "execution_count": 82,
   "id": "83460ed5",
   "metadata": {},
   "outputs": [],
   "source": [
    "#División del dataset en conjunto de entramiento y prueba\n",
    "from sklearn.model_selection import train_test_split\n",
    "X_train, X_val, y_train, y_val = train_test_split(X_smoteT, y_smoteT, test_size = 0.25, random_state=0)"
   ]
  },
  {
   "cell_type": "code",
   "execution_count": 83,
   "id": "b3c4172f",
   "metadata": {},
   "outputs": [
    {
     "data": {
      "text/plain": [
       "BernoulliNB(alpha=1e-10)"
      ]
     },
     "execution_count": 83,
     "metadata": {},
     "output_type": "execute_result"
    }
   ],
   "source": [
    "from sklearn.naive_bayes import BernoulliNB\n",
    "\n",
    "nb_clf = BernoulliNB(alpha=1.0e-10)\n",
    "nb_clf.fit(X_train, y_train)"
   ]
  },
  {
   "cell_type": "code",
   "execution_count": 84,
   "id": "a4b93549",
   "metadata": {},
   "outputs": [],
   "source": [
    "# Predicción de los resultados con el Conjunto de Testing\n",
    "y_pred  = nb_clf.predict(X_val)"
   ]
  },
  {
   "cell_type": "code",
   "execution_count": 85,
   "id": "c4a25eb5",
   "metadata": {},
   "outputs": [
    {
     "name": "stdout",
     "output_type": "stream",
     "text": [
      "Accuracy: 0.742\n"
     ]
    }
   ],
   "source": [
    "#Validación del accuracy\n",
    "from sklearn.metrics import accuracy_score\n",
    "print('Accuracy: {:.3f}'.format(accuracy_score(y_val, y_pred)))"
   ]
  },
  {
   "cell_type": "code",
   "execution_count": 86,
   "id": "e379e19d",
   "metadata": {},
   "outputs": [
    {
     "data": {
      "text/plain": [
       "array([[ 786,  408],\n",
       "       [ 216, 1010]], dtype=int64)"
      ]
     },
     "execution_count": 86,
     "metadata": {},
     "output_type": "execute_result"
    }
   ],
   "source": [
    "#Validación de la matriz de confusión\n",
    "from sklearn.metrics import confusion_matrix\n",
    "confusion_matrix(y_val, y_pred)"
   ]
  },
  {
   "cell_type": "code",
   "execution_count": 87,
   "id": "37c0cc06",
   "metadata": {},
   "outputs": [
    {
     "name": "stderr",
     "output_type": "stream",
     "text": [
      "C:\\Users\\eliza\\AppData\\Roaming\\Python\\Python38\\site-packages\\sklearn\\utils\\deprecation.py:87: FutureWarning: Function plot_confusion_matrix is deprecated; Function `plot_confusion_matrix` is deprecated in 1.0 and will be removed in 1.2. Use one of the class methods: ConfusionMatrixDisplay.from_predictions or ConfusionMatrixDisplay.from_estimator.\n",
      "  warnings.warn(msg, category=FutureWarning)\n"
     ]
    },
    {
     "data": {
      "text/plain": [
       "<sklearn.metrics._plot.confusion_matrix.ConfusionMatrixDisplay at 0x1ecf45d2fa0>"
      ]
     },
     "execution_count": 87,
     "metadata": {},
     "output_type": "execute_result"
    },
    {
     "data": {
      "image/png": "[encoded data removed]",
      "text/plain": [
       "<Figure size 432x288 with 2 Axes>"
      ]
     },
     "metadata": {
      "needs_background": "light"
     },
     "output_type": "display_data"
    }
   ],
   "source": [
    "#Representación gráfica de los resultados de la matriz de confusión con el conjunto de pruebas\n",
    "from sklearn.metrics import plot_confusion_matrix\n",
    "plot_confusion_matrix(nb_clf, X_val, y_val, values_format='3g')"
   ]
  },
  {
   "cell_type": "code",
   "execution_count": 88,
   "id": "20f5fc3c",
   "metadata": {},
   "outputs": [
    {
     "name": "stdout",
     "output_type": "stream",
     "text": [
      "[[ 786  408]\n",
      " [ 216 1010]]\n",
      "              precision    recall  f1-score   support\n",
      "\n",
      "           0       0.78      0.66      0.72      1194\n",
      "           1       0.71      0.82      0.76      1226\n",
      "\n",
      "    accuracy                           0.74      2420\n",
      "   macro avg       0.75      0.74      0.74      2420\n",
      "weighted avg       0.75      0.74      0.74      2420\n",
      "\n"
     ]
    }
   ],
   "source": [
    "#Descripción de los resultados de diferentes métricas de medición sobre el modelo entrenado y probado\n",
    "from sklearn.metrics import confusion_matrix,classification_report,plot_confusion_matrix\n",
    "print(confusion_matrix(y_val, y_pred))\n",
    "print(classification_report(y_val, y_pred))"
   ]
  },
  {
   "cell_type": "markdown",
   "id": "de351dd4",
   "metadata": {},
   "source": [
    "## Entrenar y evaluar utilizando árboles de decisión"
   ]
  },
  {
   "cell_type": "code",
   "execution_count": 89,
   "id": "82a68d41",
   "metadata": {},
   "outputs": [],
   "source": [
    "#División del dataset en conjunto de entramiento y prueba\n",
    "from sklearn.model_selection import train_test_split\n",
    "X_train, X_val, y_train, y_val = train_test_split(X_smoteT, y_smoteT, test_size = 0.25, random_state=0)"
   ]
  },
  {
   "cell_type": "code",
   "execution_count": 90,
   "id": "2fd48fc7",
   "metadata": {},
   "outputs": [
    {
     "data": {
      "text/plain": [
       "DecisionTreeClassifier(criterion='entropy', random_state=0)"
      ]
     },
     "execution_count": 90,
     "metadata": {},
     "output_type": "execute_result"
    }
   ],
   "source": [
    "# Ajustar el clasificador de Árbol de Decisión en el Conjunto de Entrenamiento\n",
    "from sklearn.tree import DecisionTreeClassifier\n",
    "classifier = DecisionTreeClassifier(criterion = \"entropy\", random_state = 0)\n",
    "classifier.fit(X_train, y_train)"
   ]
  },
  {
   "cell_type": "code",
   "execution_count": 91,
   "id": "da1b47e5",
   "metadata": {},
   "outputs": [],
   "source": [
    "# Predicción de los resultados con el Conjunto de Testing\n",
    "y_pred  = classifier.predict(X_val)"
   ]
  },
  {
   "cell_type": "code",
   "execution_count": 92,
   "id": "9eb95833",
   "metadata": {},
   "outputs": [
    {
     "name": "stdout",
     "output_type": "stream",
     "text": [
      "Accuracy: 0.914\n"
     ]
    }
   ],
   "source": [
    "#Validación del accuracy\n",
    "from sklearn.metrics import accuracy_score\n",
    "print('Accuracy: {:.3f}'.format(accuracy_score(y_val, y_pred)))"
   ]
  },
  {
   "cell_type": "code",
   "execution_count": 93,
   "id": "8d7300b7",
   "metadata": {},
   "outputs": [
    {
     "data": {
      "text/plain": [
       "array([[1088,  106],\n",
       "       [ 102, 1124]], dtype=int64)"
      ]
     },
     "execution_count": 93,
     "metadata": {},
     "output_type": "execute_result"
    }
   ],
   "source": [
    "#Validación de la matriz de confusión\n",
    "from sklearn.metrics import confusion_matrix\n",
    "confusion_matrix(y_val, y_pred)"
   ]
  },
  {
   "cell_type": "code",
   "execution_count": 94,
   "id": "6fe71fe9",
   "metadata": {},
   "outputs": [
    {
     "name": "stderr",
     "output_type": "stream",
     "text": [
      "C:\\Users\\eliza\\AppData\\Roaming\\Python\\Python38\\site-packages\\sklearn\\utils\\deprecation.py:87: FutureWarning: Function plot_confusion_matrix is deprecated; Function `plot_confusion_matrix` is deprecated in 1.0 and will be removed in 1.2. Use one of the class methods: ConfusionMatrixDisplay.from_predictions or ConfusionMatrixDisplay.from_estimator.\n",
      "  warnings.warn(msg, category=FutureWarning)\n"
     ]
    },
    {
     "data": {
      "text/plain": [
       "<sklearn.metrics._plot.confusion_matrix.ConfusionMatrixDisplay at 0x1ecf76823a0>"
      ]
     },
     "execution_count": 94,
     "metadata": {},
     "output_type": "execute_result"
    },
    {
     "data": {
      "image/png": "[encoded data removed]",
      "text/plain": [
       "<Figure size 432x288 with 2 Axes>"
      ]
     },
     "metadata": {
      "needs_background": "light"
     },
     "output_type": "display_data"
    }
   ],
   "source": [
    "#Representación gráfica de los resultados de la matriz de confusión con el conjunto de pruebas\n",
    "from sklearn.metrics import plot_confusion_matrix\n",
    "plot_confusion_matrix(classifier, X_val, y_val, values_format='3g')"
   ]
  },
  {
   "cell_type": "code",
   "execution_count": 95,
   "id": "dec321e3",
   "metadata": {},
   "outputs": [
    {
     "name": "stdout",
     "output_type": "stream",
     "text": [
      "[[1088  106]\n",
      " [ 102 1124]]\n",
      "              precision    recall  f1-score   support\n",
      "\n",
      "           0       0.91      0.91      0.91      1194\n",
      "           1       0.91      0.92      0.92      1226\n",
      "\n",
      "    accuracy                           0.91      2420\n",
      "   macro avg       0.91      0.91      0.91      2420\n",
      "weighted avg       0.91      0.91      0.91      2420\n",
      "\n"
     ]
    }
   ],
   "source": [
    "#Descripción de los resultados de diferentes métricas de medición sobre el modelo entrenado y probado\n",
    "from sklearn.metrics import confusion_matrix,classification_report,plot_confusion_matrix\n",
    "print(confusion_matrix(y_val, y_pred))\n",
    "print(classification_report(y_val, y_pred))"
   ]
  },
  {
   "cell_type": "code",
   "execution_count": null,
   "id": "decb4ff8",
   "metadata": {},
   "outputs": [],
   "source": []
  }
 ],
 "metadata": {
  "kernelspec": {
   "display_name": "Python 3",
   "language": "python",
   "name": "python3"
  },
  "language_info": {
   "codemirror_mode": {
    "name": "ipython",
    "version": 3
   },
   "file_extension": ".py",
   "mimetype": "text/x-python",
   "name": "python",
   "nbconvert_exporter": "python",
   "pygments_lexer": "ipython3",
   "version": "3.8.8"
  }
 },
 "nbformat": 4,
 "nbformat_minor": 5
}
