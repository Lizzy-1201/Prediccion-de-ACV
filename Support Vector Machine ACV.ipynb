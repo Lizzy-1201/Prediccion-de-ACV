{
 "cells": [
  {
   "cell_type": "markdown",
   "id": "f392b8c3",
   "metadata": {},
   "source": [
    "# Algoritmo support vector machine"
   ]
  },
  {
   "cell_type": "markdown",
   "id": "081a95d0",
   "metadata": {},
   "source": [
    "## Imports"
   ]
  },
  {
   "cell_type": "code",
   "execution_count": 1,
   "id": "39260a06",
   "metadata": {},
   "outputs": [],
   "source": [
    "# importamos las librerias y bibliotecas que utilizaremos para el algoritmo de support vector machine\n",
    "%matplotlib inline\n",
    "import matplotlib.pyplot as plt\n",
    "import pandas as pd\n",
    "import numpy as np\n",
    "from sklearn.metrics import f1_score\n",
    "from sklearn.model_selection import train_test_split\n",
    "from sklearn.preprocessing import StandardScaler, RobustScaler\n",
    "from sklearn.compose import ColumnTransformer\n",
    "from sklearn.preprocessing import OneHotEncoder\n",
    "from sklearn.pipeline import Pipeline\n",
    "from sklearn.preprocessing import RobustScaler\n",
    "from sklearn.impute import SimpleImputer\n",
    "from sklearn.base import BaseEstimator, TransformerMixin"
   ]
  },
  {
   "cell_type": "markdown",
   "id": "8d3274a4",
   "metadata": {},
   "source": [
    "## Funciones auxiliares"
   ]
  },
  {
   "cell_type": "code",
   "execution_count": 2,
   "id": "f3e80ac4",
   "metadata": {},
   "outputs": [],
   "source": [
    "# Construcción de una función que realice el particionado completo\n",
    "def train_val_test_split(df, rstate=42, shuffle=True, stratify=None):\n",
    "    strat = df[stratify] if stratify else None\n",
    "    train_set, test_set = train_test_split(\n",
    "        df, test_size=0.4, random_state=rstate, shuffle=shuffle, stratify=strat)\n",
    "    strat = test_set[stratify] if stratify else None\n",
    "    val_set, test_set = train_test_split(\n",
    "        test_set, test_size=0.5, random_state=rstate, shuffle=shuffle, stratify=strat)\n",
    "    return (train_set, val_set, test_set)"
   ]
  },
  {
   "cell_type": "code",
   "execution_count": 3,
   "id": "3cf6a241",
   "metadata": {},
   "outputs": [],
   "source": [
    "# Representación gráfica del límite de decisión\n",
    "def plot_svc_decision_boundary(svm_clf, xmin, xmax):\n",
    "    w = svm_clf.coef_[0]\n",
    "    b = svm_clf.intercept_[0]\n",
    "\n",
    "    # At the decision boundary, w0*x0 + w1*x1 + b = 0\n",
    "    # => x1 = -w0/w1 * x0 - b/w1\n",
    "    x0 = np.linspace(xmin, xmax, 200)\n",
    "    decision_boundary = -w[0]/w[1] * x0 - b/w[1]\n",
    "\n",
    "    margin = 1/w[1]\n",
    "    gutter_up = decision_boundary + margin\n",
    "    gutter_down = decision_boundary - margin\n",
    "\n",
    "    svs = svm_clf.support_vectors_\n",
    "    plt.scatter(svs[:, 0], svs[:, 1], s=180, facecolors='#FFAAAA')\n",
    "    plt.plot(x0, decision_boundary, \"k-\", linewidth=2)\n",
    "    plt.plot(x0, gutter_up, \"k--\", linewidth=2)\n",
    "    plt.plot(x0, gutter_down, \"k--\", linewidth=2)"
   ]
  },
  {
   "cell_type": "markdown",
   "id": "b6221e1f",
   "metadata": {},
   "source": [
    "## Lectura del conjunto de datos"
   ]
  },
  {
   "cell_type": "code",
   "execution_count": 4,
   "id": "382c9772",
   "metadata": {},
   "outputs": [],
   "source": [
    "#Lectura del dataset \n",
    "df = pd.read_csv('dataset-equilibrado-3.csv')"
   ]
  },
  {
   "cell_type": "markdown",
   "id": "598020d0",
   "metadata": {},
   "source": [
    "## Visualización preliminar de la información"
   ]
  },
  {
   "cell_type": "code",
   "execution_count": 5,
   "id": "341f1165",
   "metadata": {},
   "outputs": [
    {
     "data": {
      "text/html": [
       "<div>\n",
       "<style scoped>\n",
       "    .dataframe tbody tr th:only-of-type {\n",
       "        vertical-align: middle;\n",
       "    }\n",
       "\n",
       "    .dataframe tbody tr th {\n",
       "        vertical-align: top;\n",
       "    }\n",
       "\n",
       "    .dataframe thead th {\n",
       "        text-align: right;\n",
       "    }\n",
       "</style>\n",
       "<table border=\"1\" class=\"dataframe\">\n",
       "  <thead>\n",
       "    <tr style=\"text-align: right;\">\n",
       "      <th></th>\n",
       "      <th>id</th>\n",
       "      <th>gender</th>\n",
       "      <th>age</th>\n",
       "      <th>hypertension</th>\n",
       "      <th>heart_disease</th>\n",
       "      <th>ever_married</th>\n",
       "      <th>work_type</th>\n",
       "      <th>Residence_type</th>\n",
       "      <th>avg_glucose_level</th>\n",
       "      <th>bmi</th>\n",
       "      <th>smoking_status</th>\n",
       "      <th>stroke</th>\n",
       "    </tr>\n",
       "  </thead>\n",
       "  <tbody>\n",
       "    <tr>\n",
       "      <th>0</th>\n",
       "      <td>72918</td>\n",
       "      <td>Female</td>\n",
       "      <td>53.0</td>\n",
       "      <td>1</td>\n",
       "      <td>0</td>\n",
       "      <td>Yes</td>\n",
       "      <td>Private</td>\n",
       "      <td>Urban</td>\n",
       "      <td>62.55</td>\n",
       "      <td>30.3</td>\n",
       "      <td>Unknown</td>\n",
       "      <td>1</td>\n",
       "    </tr>\n",
       "    <tr>\n",
       "      <th>1</th>\n",
       "      <td>72911</td>\n",
       "      <td>Female</td>\n",
       "      <td>57.0</td>\n",
       "      <td>1</td>\n",
       "      <td>0</td>\n",
       "      <td>Yes</td>\n",
       "      <td>Private</td>\n",
       "      <td>Rural</td>\n",
       "      <td>129.54</td>\n",
       "      <td>60.9</td>\n",
       "      <td>smokes</td>\n",
       "      <td>0</td>\n",
       "    </tr>\n",
       "    <tr>\n",
       "      <th>2</th>\n",
       "      <td>72898</td>\n",
       "      <td>Female</td>\n",
       "      <td>67.0</td>\n",
       "      <td>1</td>\n",
       "      <td>1</td>\n",
       "      <td>Yes</td>\n",
       "      <td>Private</td>\n",
       "      <td>Rural</td>\n",
       "      <td>199.24</td>\n",
       "      <td>33.9</td>\n",
       "      <td>never smoked</td>\n",
       "      <td>1</td>\n",
       "    </tr>\n",
       "    <tr>\n",
       "      <th>3</th>\n",
       "      <td>72882</td>\n",
       "      <td>Male</td>\n",
       "      <td>47.0</td>\n",
       "      <td>0</td>\n",
       "      <td>0</td>\n",
       "      <td>Yes</td>\n",
       "      <td>Private</td>\n",
       "      <td>Rural</td>\n",
       "      <td>75.30</td>\n",
       "      <td>25.0</td>\n",
       "      <td>formerly smoked</td>\n",
       "      <td>0</td>\n",
       "    </tr>\n",
       "    <tr>\n",
       "      <th>4</th>\n",
       "      <td>72861</td>\n",
       "      <td>Female</td>\n",
       "      <td>52.0</td>\n",
       "      <td>0</td>\n",
       "      <td>0</td>\n",
       "      <td>Yes</td>\n",
       "      <td>Private</td>\n",
       "      <td>Urban</td>\n",
       "      <td>69.30</td>\n",
       "      <td>20.1</td>\n",
       "      <td>never smoked</td>\n",
       "      <td>0</td>\n",
       "    </tr>\n",
       "  </tbody>\n",
       "</table>\n",
       "</div>"
      ],
      "text/plain": [
       "      id  gender   age  hypertension  heart_disease ever_married work_type  \\\n",
       "0  72918  Female  53.0             1              0          Yes   Private   \n",
       "1  72911  Female  57.0             1              0          Yes   Private   \n",
       "2  72898  Female  67.0             1              1          Yes   Private   \n",
       "3  72882    Male  47.0             0              0          Yes   Private   \n",
       "4  72861  Female  52.0             0              0          Yes   Private   \n",
       "\n",
       "  Residence_type  avg_glucose_level   bmi   smoking_status  stroke  \n",
       "0          Urban              62.55  30.3          Unknown       1  \n",
       "1          Rural             129.54  60.9           smokes       0  \n",
       "2          Rural             199.24  33.9     never smoked       1  \n",
       "3          Rural              75.30  25.0  formerly smoked       0  \n",
       "4          Urban              69.30  20.1     never smoked       0  "
      ]
     },
     "execution_count": 5,
     "metadata": {},
     "output_type": "execute_result"
    }
   ],
   "source": [
    "# Vista de los datos cargados\n",
    "df.head(5)"
   ]
  },
  {
   "cell_type": "code",
   "execution_count": 6,
   "id": "e9d15f86",
   "metadata": {},
   "outputs": [
    {
     "data": {
      "text/plain": [
       "0    1600\n",
       "1     783\n",
       "Name: stroke, dtype: int64"
      ]
     },
     "execution_count": 6,
     "metadata": {},
     "output_type": "execute_result"
    }
   ],
   "source": [
    "#Validamos la cantidad de ejemplos que posee el dataset\n",
    "df[\"stroke\"].value_counts()"
   ]
  },
  {
   "cell_type": "markdown",
   "id": "8c26170e",
   "metadata": {},
   "source": [
    "## Primera preparación del conjunto de datos"
   ]
  },
  {
   "cell_type": "code",
   "execution_count": 7,
   "id": "5f802ec4",
   "metadata": {},
   "outputs": [],
   "source": [
    "#Función para transformar las columnas categoricas a numericas\n",
    "df_new = pd.get_dummies(df, columns=['gender','ever_married','work_type','Residence_type','smoking_status'])"
   ]
  },
  {
   "cell_type": "code",
   "execution_count": 8,
   "id": "9cce40a6",
   "metadata": {},
   "outputs": [
    {
     "data": {
      "text/html": [
       "<div>\n",
       "<style scoped>\n",
       "    .dataframe tbody tr th:only-of-type {\n",
       "        vertical-align: middle;\n",
       "    }\n",
       "\n",
       "    .dataframe tbody tr th {\n",
       "        vertical-align: top;\n",
       "    }\n",
       "\n",
       "    .dataframe thead th {\n",
       "        text-align: right;\n",
       "    }\n",
       "</style>\n",
       "<table border=\"1\" class=\"dataframe\">\n",
       "  <thead>\n",
       "    <tr style=\"text-align: right;\">\n",
       "      <th></th>\n",
       "      <th>id</th>\n",
       "      <th>age</th>\n",
       "      <th>hypertension</th>\n",
       "      <th>heart_disease</th>\n",
       "      <th>avg_glucose_level</th>\n",
       "      <th>bmi</th>\n",
       "      <th>stroke</th>\n",
       "      <th>gender_Female</th>\n",
       "      <th>gender_Male</th>\n",
       "      <th>ever_married_No</th>\n",
       "      <th>...</th>\n",
       "      <th>work_type_Never_worked</th>\n",
       "      <th>work_type_Private</th>\n",
       "      <th>work_type_Self-employed</th>\n",
       "      <th>work_type_children</th>\n",
       "      <th>Residence_type_Rural</th>\n",
       "      <th>Residence_type_Urban</th>\n",
       "      <th>smoking_status_Unknown</th>\n",
       "      <th>smoking_status_formerly smoked</th>\n",
       "      <th>smoking_status_never smoked</th>\n",
       "      <th>smoking_status_smokes</th>\n",
       "    </tr>\n",
       "  </thead>\n",
       "  <tbody>\n",
       "    <tr>\n",
       "      <th>0</th>\n",
       "      <td>72918</td>\n",
       "      <td>53.0</td>\n",
       "      <td>1</td>\n",
       "      <td>0</td>\n",
       "      <td>62.55</td>\n",
       "      <td>30.3</td>\n",
       "      <td>1</td>\n",
       "      <td>1</td>\n",
       "      <td>0</td>\n",
       "      <td>0</td>\n",
       "      <td>...</td>\n",
       "      <td>0</td>\n",
       "      <td>1</td>\n",
       "      <td>0</td>\n",
       "      <td>0</td>\n",
       "      <td>0</td>\n",
       "      <td>1</td>\n",
       "      <td>1</td>\n",
       "      <td>0</td>\n",
       "      <td>0</td>\n",
       "      <td>0</td>\n",
       "    </tr>\n",
       "    <tr>\n",
       "      <th>1</th>\n",
       "      <td>72911</td>\n",
       "      <td>57.0</td>\n",
       "      <td>1</td>\n",
       "      <td>0</td>\n",
       "      <td>129.54</td>\n",
       "      <td>60.9</td>\n",
       "      <td>0</td>\n",
       "      <td>1</td>\n",
       "      <td>0</td>\n",
       "      <td>0</td>\n",
       "      <td>...</td>\n",
       "      <td>0</td>\n",
       "      <td>1</td>\n",
       "      <td>0</td>\n",
       "      <td>0</td>\n",
       "      <td>1</td>\n",
       "      <td>0</td>\n",
       "      <td>0</td>\n",
       "      <td>0</td>\n",
       "      <td>0</td>\n",
       "      <td>1</td>\n",
       "    </tr>\n",
       "    <tr>\n",
       "      <th>2</th>\n",
       "      <td>72898</td>\n",
       "      <td>67.0</td>\n",
       "      <td>1</td>\n",
       "      <td>1</td>\n",
       "      <td>199.24</td>\n",
       "      <td>33.9</td>\n",
       "      <td>1</td>\n",
       "      <td>1</td>\n",
       "      <td>0</td>\n",
       "      <td>0</td>\n",
       "      <td>...</td>\n",
       "      <td>0</td>\n",
       "      <td>1</td>\n",
       "      <td>0</td>\n",
       "      <td>0</td>\n",
       "      <td>1</td>\n",
       "      <td>0</td>\n",
       "      <td>0</td>\n",
       "      <td>0</td>\n",
       "      <td>1</td>\n",
       "      <td>0</td>\n",
       "    </tr>\n",
       "    <tr>\n",
       "      <th>3</th>\n",
       "      <td>72882</td>\n",
       "      <td>47.0</td>\n",
       "      <td>0</td>\n",
       "      <td>0</td>\n",
       "      <td>75.30</td>\n",
       "      <td>25.0</td>\n",
       "      <td>0</td>\n",
       "      <td>0</td>\n",
       "      <td>1</td>\n",
       "      <td>0</td>\n",
       "      <td>...</td>\n",
       "      <td>0</td>\n",
       "      <td>1</td>\n",
       "      <td>0</td>\n",
       "      <td>0</td>\n",
       "      <td>1</td>\n",
       "      <td>0</td>\n",
       "      <td>0</td>\n",
       "      <td>1</td>\n",
       "      <td>0</td>\n",
       "      <td>0</td>\n",
       "    </tr>\n",
       "    <tr>\n",
       "      <th>4</th>\n",
       "      <td>72861</td>\n",
       "      <td>52.0</td>\n",
       "      <td>0</td>\n",
       "      <td>0</td>\n",
       "      <td>69.30</td>\n",
       "      <td>20.1</td>\n",
       "      <td>0</td>\n",
       "      <td>1</td>\n",
       "      <td>0</td>\n",
       "      <td>0</td>\n",
       "      <td>...</td>\n",
       "      <td>0</td>\n",
       "      <td>1</td>\n",
       "      <td>0</td>\n",
       "      <td>0</td>\n",
       "      <td>0</td>\n",
       "      <td>1</td>\n",
       "      <td>0</td>\n",
       "      <td>0</td>\n",
       "      <td>1</td>\n",
       "      <td>0</td>\n",
       "    </tr>\n",
       "    <tr>\n",
       "      <th>...</th>\n",
       "      <td>...</td>\n",
       "      <td>...</td>\n",
       "      <td>...</td>\n",
       "      <td>...</td>\n",
       "      <td>...</td>\n",
       "      <td>...</td>\n",
       "      <td>...</td>\n",
       "      <td>...</td>\n",
       "      <td>...</td>\n",
       "      <td>...</td>\n",
       "      <td>...</td>\n",
       "      <td>...</td>\n",
       "      <td>...</td>\n",
       "      <td>...</td>\n",
       "      <td>...</td>\n",
       "      <td>...</td>\n",
       "      <td>...</td>\n",
       "      <td>...</td>\n",
       "      <td>...</td>\n",
       "      <td>...</td>\n",
       "      <td>...</td>\n",
       "    </tr>\n",
       "    <tr>\n",
       "      <th>2378</th>\n",
       "      <td>132</td>\n",
       "      <td>80.0</td>\n",
       "      <td>0</td>\n",
       "      <td>0</td>\n",
       "      <td>84.86</td>\n",
       "      <td>NaN</td>\n",
       "      <td>0</td>\n",
       "      <td>1</td>\n",
       "      <td>0</td>\n",
       "      <td>0</td>\n",
       "      <td>...</td>\n",
       "      <td>0</td>\n",
       "      <td>0</td>\n",
       "      <td>0</td>\n",
       "      <td>0</td>\n",
       "      <td>0</td>\n",
       "      <td>1</td>\n",
       "      <td>1</td>\n",
       "      <td>0</td>\n",
       "      <td>0</td>\n",
       "      <td>0</td>\n",
       "    </tr>\n",
       "    <tr>\n",
       "      <th>2379</th>\n",
       "      <td>129</td>\n",
       "      <td>24.0</td>\n",
       "      <td>0</td>\n",
       "      <td>0</td>\n",
       "      <td>97.55</td>\n",
       "      <td>26.2</td>\n",
       "      <td>0</td>\n",
       "      <td>1</td>\n",
       "      <td>0</td>\n",
       "      <td>1</td>\n",
       "      <td>...</td>\n",
       "      <td>0</td>\n",
       "      <td>1</td>\n",
       "      <td>0</td>\n",
       "      <td>0</td>\n",
       "      <td>0</td>\n",
       "      <td>1</td>\n",
       "      <td>0</td>\n",
       "      <td>0</td>\n",
       "      <td>1</td>\n",
       "      <td>0</td>\n",
       "    </tr>\n",
       "    <tr>\n",
       "      <th>2380</th>\n",
       "      <td>99</td>\n",
       "      <td>31.0</td>\n",
       "      <td>0</td>\n",
       "      <td>0</td>\n",
       "      <td>108.89</td>\n",
       "      <td>52.3</td>\n",
       "      <td>0</td>\n",
       "      <td>1</td>\n",
       "      <td>0</td>\n",
       "      <td>1</td>\n",
       "      <td>...</td>\n",
       "      <td>0</td>\n",
       "      <td>1</td>\n",
       "      <td>0</td>\n",
       "      <td>0</td>\n",
       "      <td>0</td>\n",
       "      <td>1</td>\n",
       "      <td>1</td>\n",
       "      <td>0</td>\n",
       "      <td>0</td>\n",
       "      <td>0</td>\n",
       "    </tr>\n",
       "    <tr>\n",
       "      <th>2381</th>\n",
       "      <td>84</td>\n",
       "      <td>55.0</td>\n",
       "      <td>0</td>\n",
       "      <td>0</td>\n",
       "      <td>89.17</td>\n",
       "      <td>31.5</td>\n",
       "      <td>0</td>\n",
       "      <td>0</td>\n",
       "      <td>1</td>\n",
       "      <td>0</td>\n",
       "      <td>...</td>\n",
       "      <td>0</td>\n",
       "      <td>1</td>\n",
       "      <td>0</td>\n",
       "      <td>0</td>\n",
       "      <td>0</td>\n",
       "      <td>1</td>\n",
       "      <td>0</td>\n",
       "      <td>0</td>\n",
       "      <td>1</td>\n",
       "      <td>0</td>\n",
       "    </tr>\n",
       "    <tr>\n",
       "      <th>2382</th>\n",
       "      <td>80</td>\n",
       "      <td>79.0</td>\n",
       "      <td>0</td>\n",
       "      <td>0</td>\n",
       "      <td>87.06</td>\n",
       "      <td>24.3</td>\n",
       "      <td>1</td>\n",
       "      <td>0</td>\n",
       "      <td>1</td>\n",
       "      <td>0</td>\n",
       "      <td>...</td>\n",
       "      <td>0</td>\n",
       "      <td>0</td>\n",
       "      <td>1</td>\n",
       "      <td>0</td>\n",
       "      <td>0</td>\n",
       "      <td>1</td>\n",
       "      <td>0</td>\n",
       "      <td>1</td>\n",
       "      <td>0</td>\n",
       "      <td>0</td>\n",
       "    </tr>\n",
       "  </tbody>\n",
       "</table>\n",
       "<p>2383 rows × 22 columns</p>\n",
       "</div>"
      ],
      "text/plain": [
       "         id   age  hypertension  heart_disease  avg_glucose_level   bmi  \\\n",
       "0     72918  53.0             1              0              62.55  30.3   \n",
       "1     72911  57.0             1              0             129.54  60.9   \n",
       "2     72898  67.0             1              1             199.24  33.9   \n",
       "3     72882  47.0             0              0              75.30  25.0   \n",
       "4     72861  52.0             0              0              69.30  20.1   \n",
       "...     ...   ...           ...            ...                ...   ...   \n",
       "2378    132  80.0             0              0              84.86   NaN   \n",
       "2379    129  24.0             0              0              97.55  26.2   \n",
       "2380     99  31.0             0              0             108.89  52.3   \n",
       "2381     84  55.0             0              0              89.17  31.5   \n",
       "2382     80  79.0             0              0              87.06  24.3   \n",
       "\n",
       "      stroke  gender_Female  gender_Male  ever_married_No  ...  \\\n",
       "0          1              1            0                0  ...   \n",
       "1          0              1            0                0  ...   \n",
       "2          1              1            0                0  ...   \n",
       "3          0              0            1                0  ...   \n",
       "4          0              1            0                0  ...   \n",
       "...      ...            ...          ...              ...  ...   \n",
       "2378       0              1            0                0  ...   \n",
       "2379       0              1            0                1  ...   \n",
       "2380       0              1            0                1  ...   \n",
       "2381       0              0            1                0  ...   \n",
       "2382       1              0            1                0  ...   \n",
       "\n",
       "      work_type_Never_worked  work_type_Private  work_type_Self-employed  \\\n",
       "0                          0                  1                        0   \n",
       "1                          0                  1                        0   \n",
       "2                          0                  1                        0   \n",
       "3                          0                  1                        0   \n",
       "4                          0                  1                        0   \n",
       "...                      ...                ...                      ...   \n",
       "2378                       0                  0                        0   \n",
       "2379                       0                  1                        0   \n",
       "2380                       0                  1                        0   \n",
       "2381                       0                  1                        0   \n",
       "2382                       0                  0                        1   \n",
       "\n",
       "      work_type_children  Residence_type_Rural  Residence_type_Urban  \\\n",
       "0                      0                     0                     1   \n",
       "1                      0                     1                     0   \n",
       "2                      0                     1                     0   \n",
       "3                      0                     1                     0   \n",
       "4                      0                     0                     1   \n",
       "...                  ...                   ...                   ...   \n",
       "2378                   0                     0                     1   \n",
       "2379                   0                     0                     1   \n",
       "2380                   0                     0                     1   \n",
       "2381                   0                     0                     1   \n",
       "2382                   0                     0                     1   \n",
       "\n",
       "      smoking_status_Unknown  smoking_status_formerly smoked  \\\n",
       "0                          1                               0   \n",
       "1                          0                               0   \n",
       "2                          0                               0   \n",
       "3                          0                               1   \n",
       "4                          0                               0   \n",
       "...                      ...                             ...   \n",
       "2378                       1                               0   \n",
       "2379                       0                               0   \n",
       "2380                       1                               0   \n",
       "2381                       0                               0   \n",
       "2382                       0                               1   \n",
       "\n",
       "      smoking_status_never smoked  smoking_status_smokes  \n",
       "0                               0                      0  \n",
       "1                               0                      1  \n",
       "2                               1                      0  \n",
       "3                               0                      0  \n",
       "4                               1                      0  \n",
       "...                           ...                    ...  \n",
       "2378                            0                      0  \n",
       "2379                            1                      0  \n",
       "2380                            0                      0  \n",
       "2381                            1                      0  \n",
       "2382                            0                      0  \n",
       "\n",
       "[2383 rows x 22 columns]"
      ]
     },
     "execution_count": 8,
     "metadata": {},
     "output_type": "execute_result"
    }
   ],
   "source": [
    "#Validamos que los cambios se aplicarón correctamente \n",
    "df_new"
   ]
  },
  {
   "cell_type": "code",
   "execution_count": 9,
   "id": "5661c0ca",
   "metadata": {},
   "outputs": [],
   "source": [
    "#Eliminamos datos que son irrelevantes y que podrian alterar el comportamiento del algoritmo\n",
    "df_new = df_new.drop([\"id\"], axis=1)"
   ]
  },
  {
   "cell_type": "code",
   "execution_count": 10,
   "id": "b8cb237e",
   "metadata": {},
   "outputs": [
    {
     "data": {
      "image/png": "[encoded data removed]",
      "text/plain": [
       "<Figure size 864x432 with 1 Axes>"
      ]
     },
     "metadata": {
      "needs_background": "light"
     },
     "output_type": "display_data"
    }
   ],
   "source": [
    "# Representación gráfica de dos características\n",
    "plt.figure(figsize=(12, 6))\n",
    "plt.scatter(df_new[\"age\"][df_new['stroke'] == 1], df_new[\"avg_glucose_level\"][df_new['stroke'] == 1], c=\"r\", marker=\".\")\n",
    "plt.scatter(df_new[\"age\"][df_new['stroke'] == 0], df_new[\"avg_glucose_level\"][df_new['stroke'] == 0], c=\"y\", marker=\"x\")\n",
    "plt.xlabel(\"age\", fontsize=13)\n",
    "plt.ylabel(\"avg_glucose_level\", fontsize=13)\n",
    "plt.show()"
   ]
  },
  {
   "cell_type": "markdown",
   "id": "2d9fdc01",
   "metadata": {},
   "source": [
    "## División del conjunto de datos"
   ]
  },
  {
   "cell_type": "code",
   "execution_count": 11,
   "id": "580c166d",
   "metadata": {},
   "outputs": [],
   "source": [
    "# Division del conjunto en los diferentes subconjuntos\n",
    "train_set, val_set, test_set = train_val_test_split(df_new, stratify='stroke')"
   ]
  },
  {
   "cell_type": "code",
   "execution_count": 12,
   "id": "62b35116",
   "metadata": {},
   "outputs": [
    {
     "name": "stdout",
     "output_type": "stream",
     "text": [
      "Longitud del Training Set: 1429\n",
      "Longitud del Validation Set: 477\n",
      "Longitud del Test Set: 477\n"
     ]
    }
   ],
   "source": [
    "#Verificamos las particiones realizadas\n",
    "print(\"Longitud del Training Set:\", len(train_set))\n",
    "print(\"Longitud del Validation Set:\", len(val_set))\n",
    "print(\"Longitud del Test Set:\", len(test_set))"
   ]
  },
  {
   "cell_type": "code",
   "execution_count": 13,
   "id": "417f230f",
   "metadata": {},
   "outputs": [],
   "source": [
    "# Conjunto de datos de entrenamiento\n",
    "X_train = train_set.drop(\"stroke\", axis=1)\n",
    "y_train = train_set[\"stroke\"].copy()"
   ]
  },
  {
   "cell_type": "code",
   "execution_count": 14,
   "id": "75e40f1f",
   "metadata": {},
   "outputs": [],
   "source": [
    "# Conjunto de datos de validación\n",
    "X_val = val_set.drop(\"stroke\", axis=1)\n",
    "y_val = val_set[\"stroke\"].copy()"
   ]
  },
  {
   "cell_type": "code",
   "execution_count": 15,
   "id": "aa078252",
   "metadata": {},
   "outputs": [],
   "source": [
    "# Conjunto de datos de pruebas\n",
    "X_test = test_set.drop(\"stroke\", axis=1)\n",
    "y_test = test_set[\"stroke\"].copy()"
   ]
  },
  {
   "cell_type": "markdown",
   "id": "4ad655f9",
   "metadata": {},
   "source": [
    "## Segunda preparación del conjunto de datos"
   ]
  },
  {
   "cell_type": "code",
   "execution_count": 16,
   "id": "9c9a7d39",
   "metadata": {},
   "outputs": [],
   "source": [
    "# Construcción de un pipeline para rellenar los valores nulos con la mediana y scalar los datos \n",
    "from sklearn.impute import SimpleImputer\n",
    "\n",
    "num_pipeline = Pipeline([\n",
    "        ('imputer', SimpleImputer(strategy=\"median\")),\n",
    "        ('rbst_scaler', RobustScaler()),\n",
    "    ])"
   ]
  },
  {
   "cell_type": "code",
   "execution_count": 17,
   "id": "e1f62817",
   "metadata": {},
   "outputs": [],
   "source": [
    "# Rellenamos los valores nulos con la mediana y scalamos los datos\n",
    "X_train_prep = num_pipeline.fit_transform(X_train)\n",
    "X_val_prep = num_pipeline.fit_transform(X_val)\n",
    "X_test_prep = num_pipeline.fit_transform(X_test)"
   ]
  },
  {
   "cell_type": "code",
   "execution_count": 18,
   "id": "d1675de0",
   "metadata": {},
   "outputs": [],
   "source": [
    "# Transformamos el resultado a un DataFrame de Pandas\n",
    "X_train_prep = pd.DataFrame(X_train_prep, columns=X_train.columns, index=y_train.index)\n",
    "X_val_prep = pd.DataFrame(X_val_prep, columns=X_val.columns, index=y_val.index)\n",
    "X_test_prep = pd.DataFrame(X_test_prep, columns=X_test.columns, index=y_test.index)"
   ]
  },
  {
   "cell_type": "code",
   "execution_count": 19,
   "id": "83cfc7bf",
   "metadata": {},
   "outputs": [
    {
     "data": {
      "text/html": [
       "<div>\n",
       "<style scoped>\n",
       "    .dataframe tbody tr th:only-of-type {\n",
       "        vertical-align: middle;\n",
       "    }\n",
       "\n",
       "    .dataframe tbody tr th {\n",
       "        vertical-align: top;\n",
       "    }\n",
       "\n",
       "    .dataframe thead th {\n",
       "        text-align: right;\n",
       "    }\n",
       "</style>\n",
       "<table border=\"1\" class=\"dataframe\">\n",
       "  <thead>\n",
       "    <tr style=\"text-align: right;\">\n",
       "      <th></th>\n",
       "      <th>age</th>\n",
       "      <th>hypertension</th>\n",
       "      <th>heart_disease</th>\n",
       "      <th>avg_glucose_level</th>\n",
       "      <th>bmi</th>\n",
       "      <th>gender_Female</th>\n",
       "      <th>gender_Male</th>\n",
       "      <th>ever_married_No</th>\n",
       "      <th>ever_married_Yes</th>\n",
       "      <th>work_type_Govt_job</th>\n",
       "      <th>work_type_Never_worked</th>\n",
       "      <th>work_type_Private</th>\n",
       "      <th>work_type_Self-employed</th>\n",
       "      <th>work_type_children</th>\n",
       "      <th>Residence_type_Rural</th>\n",
       "      <th>Residence_type_Urban</th>\n",
       "      <th>smoking_status_Unknown</th>\n",
       "      <th>smoking_status_formerly smoked</th>\n",
       "      <th>smoking_status_never smoked</th>\n",
       "      <th>smoking_status_smokes</th>\n",
       "    </tr>\n",
       "  </thead>\n",
       "  <tbody>\n",
       "    <tr>\n",
       "      <th>2082</th>\n",
       "      <td>-0.315789</td>\n",
       "      <td>0.0</td>\n",
       "      <td>0.0</td>\n",
       "      <td>-0.197073</td>\n",
       "      <td>-0.141026</td>\n",
       "      <td>-1.0</td>\n",
       "      <td>1.0</td>\n",
       "      <td>0.0</td>\n",
       "      <td>0.0</td>\n",
       "      <td>0.0</td>\n",
       "      <td>0.0</td>\n",
       "      <td>-1.0</td>\n",
       "      <td>1.0</td>\n",
       "      <td>0.0</td>\n",
       "      <td>0.0</td>\n",
       "      <td>0.0</td>\n",
       "      <td>1.0</td>\n",
       "      <td>0.0</td>\n",
       "      <td>0.0</td>\n",
       "      <td>0.0</td>\n",
       "    </tr>\n",
       "    <tr>\n",
       "      <th>2367</th>\n",
       "      <td>-0.315789</td>\n",
       "      <td>0.0</td>\n",
       "      <td>0.0</td>\n",
       "      <td>2.230439</td>\n",
       "      <td>5.576923</td>\n",
       "      <td>-1.0</td>\n",
       "      <td>1.0</td>\n",
       "      <td>0.0</td>\n",
       "      <td>0.0</td>\n",
       "      <td>0.0</td>\n",
       "      <td>0.0</td>\n",
       "      <td>0.0</td>\n",
       "      <td>0.0</td>\n",
       "      <td>0.0</td>\n",
       "      <td>1.0</td>\n",
       "      <td>-1.0</td>\n",
       "      <td>0.0</td>\n",
       "      <td>0.0</td>\n",
       "      <td>1.0</td>\n",
       "      <td>0.0</td>\n",
       "    </tr>\n",
       "    <tr>\n",
       "      <th>118</th>\n",
       "      <td>0.289474</td>\n",
       "      <td>0.0</td>\n",
       "      <td>0.0</td>\n",
       "      <td>-0.727805</td>\n",
       "      <td>1.051282</td>\n",
       "      <td>-1.0</td>\n",
       "      <td>1.0</td>\n",
       "      <td>0.0</td>\n",
       "      <td>0.0</td>\n",
       "      <td>0.0</td>\n",
       "      <td>0.0</td>\n",
       "      <td>0.0</td>\n",
       "      <td>0.0</td>\n",
       "      <td>0.0</td>\n",
       "      <td>0.0</td>\n",
       "      <td>0.0</td>\n",
       "      <td>0.0</td>\n",
       "      <td>0.0</td>\n",
       "      <td>1.0</td>\n",
       "      <td>0.0</td>\n",
       "    </tr>\n",
       "    <tr>\n",
       "      <th>959</th>\n",
       "      <td>0.184211</td>\n",
       "      <td>0.0</td>\n",
       "      <td>0.0</td>\n",
       "      <td>0.058341</td>\n",
       "      <td>-0.230769</td>\n",
       "      <td>-1.0</td>\n",
       "      <td>1.0</td>\n",
       "      <td>0.0</td>\n",
       "      <td>0.0</td>\n",
       "      <td>0.0</td>\n",
       "      <td>0.0</td>\n",
       "      <td>0.0</td>\n",
       "      <td>0.0</td>\n",
       "      <td>0.0</td>\n",
       "      <td>0.0</td>\n",
       "      <td>0.0</td>\n",
       "      <td>0.0</td>\n",
       "      <td>0.0</td>\n",
       "      <td>0.0</td>\n",
       "      <td>1.0</td>\n",
       "    </tr>\n",
       "    <tr>\n",
       "      <th>1592</th>\n",
       "      <td>-0.500000</td>\n",
       "      <td>0.0</td>\n",
       "      <td>0.0</td>\n",
       "      <td>0.232390</td>\n",
       "      <td>0.282051</td>\n",
       "      <td>-1.0</td>\n",
       "      <td>1.0</td>\n",
       "      <td>0.0</td>\n",
       "      <td>0.0</td>\n",
       "      <td>0.0</td>\n",
       "      <td>0.0</td>\n",
       "      <td>0.0</td>\n",
       "      <td>0.0</td>\n",
       "      <td>0.0</td>\n",
       "      <td>1.0</td>\n",
       "      <td>-1.0</td>\n",
       "      <td>0.0</td>\n",
       "      <td>1.0</td>\n",
       "      <td>0.0</td>\n",
       "      <td>0.0</td>\n",
       "    </tr>\n",
       "    <tr>\n",
       "      <th>...</th>\n",
       "      <td>...</td>\n",
       "      <td>...</td>\n",
       "      <td>...</td>\n",
       "      <td>...</td>\n",
       "      <td>...</td>\n",
       "      <td>...</td>\n",
       "      <td>...</td>\n",
       "      <td>...</td>\n",
       "      <td>...</td>\n",
       "      <td>...</td>\n",
       "      <td>...</td>\n",
       "      <td>...</td>\n",
       "      <td>...</td>\n",
       "      <td>...</td>\n",
       "      <td>...</td>\n",
       "      <td>...</td>\n",
       "      <td>...</td>\n",
       "      <td>...</td>\n",
       "      <td>...</td>\n",
       "      <td>...</td>\n",
       "    </tr>\n",
       "    <tr>\n",
       "      <th>2370</th>\n",
       "      <td>-1.105263</td>\n",
       "      <td>0.0</td>\n",
       "      <td>0.0</td>\n",
       "      <td>-0.408780</td>\n",
       "      <td>-0.961538</td>\n",
       "      <td>0.0</td>\n",
       "      <td>0.0</td>\n",
       "      <td>1.0</td>\n",
       "      <td>-1.0</td>\n",
       "      <td>0.0</td>\n",
       "      <td>0.0</td>\n",
       "      <td>-1.0</td>\n",
       "      <td>0.0</td>\n",
       "      <td>1.0</td>\n",
       "      <td>1.0</td>\n",
       "      <td>-1.0</td>\n",
       "      <td>1.0</td>\n",
       "      <td>0.0</td>\n",
       "      <td>0.0</td>\n",
       "      <td>0.0</td>\n",
       "    </tr>\n",
       "    <tr>\n",
       "      <th>342</th>\n",
       "      <td>0.631579</td>\n",
       "      <td>0.0</td>\n",
       "      <td>0.0</td>\n",
       "      <td>-0.284488</td>\n",
       "      <td>0.500000</td>\n",
       "      <td>0.0</td>\n",
       "      <td>0.0</td>\n",
       "      <td>0.0</td>\n",
       "      <td>0.0</td>\n",
       "      <td>0.0</td>\n",
       "      <td>0.0</td>\n",
       "      <td>0.0</td>\n",
       "      <td>0.0</td>\n",
       "      <td>0.0</td>\n",
       "      <td>0.0</td>\n",
       "      <td>0.0</td>\n",
       "      <td>0.0</td>\n",
       "      <td>0.0</td>\n",
       "      <td>1.0</td>\n",
       "      <td>0.0</td>\n",
       "    </tr>\n",
       "    <tr>\n",
       "      <th>39</th>\n",
       "      <td>-0.763158</td>\n",
       "      <td>0.0</td>\n",
       "      <td>0.0</td>\n",
       "      <td>0.821854</td>\n",
       "      <td>-0.141026</td>\n",
       "      <td>-1.0</td>\n",
       "      <td>1.0</td>\n",
       "      <td>1.0</td>\n",
       "      <td>-1.0</td>\n",
       "      <td>0.0</td>\n",
       "      <td>0.0</td>\n",
       "      <td>0.0</td>\n",
       "      <td>0.0</td>\n",
       "      <td>0.0</td>\n",
       "      <td>0.0</td>\n",
       "      <td>0.0</td>\n",
       "      <td>1.0</td>\n",
       "      <td>0.0</td>\n",
       "      <td>0.0</td>\n",
       "      <td>0.0</td>\n",
       "    </tr>\n",
       "    <tr>\n",
       "      <th>1486</th>\n",
       "      <td>-0.605263</td>\n",
       "      <td>0.0</td>\n",
       "      <td>0.0</td>\n",
       "      <td>-0.144195</td>\n",
       "      <td>0.948718</td>\n",
       "      <td>-1.0</td>\n",
       "      <td>1.0</td>\n",
       "      <td>0.0</td>\n",
       "      <td>0.0</td>\n",
       "      <td>0.0</td>\n",
       "      <td>0.0</td>\n",
       "      <td>0.0</td>\n",
       "      <td>0.0</td>\n",
       "      <td>0.0</td>\n",
       "      <td>0.0</td>\n",
       "      <td>0.0</td>\n",
       "      <td>0.0</td>\n",
       "      <td>0.0</td>\n",
       "      <td>0.0</td>\n",
       "      <td>1.0</td>\n",
       "    </tr>\n",
       "    <tr>\n",
       "      <th>957</th>\n",
       "      <td>-0.500000</td>\n",
       "      <td>0.0</td>\n",
       "      <td>0.0</td>\n",
       "      <td>0.120390</td>\n",
       "      <td>0.756410</td>\n",
       "      <td>-1.0</td>\n",
       "      <td>1.0</td>\n",
       "      <td>0.0</td>\n",
       "      <td>0.0</td>\n",
       "      <td>0.0</td>\n",
       "      <td>0.0</td>\n",
       "      <td>0.0</td>\n",
       "      <td>0.0</td>\n",
       "      <td>0.0</td>\n",
       "      <td>1.0</td>\n",
       "      <td>-1.0</td>\n",
       "      <td>0.0</td>\n",
       "      <td>0.0</td>\n",
       "      <td>1.0</td>\n",
       "      <td>0.0</td>\n",
       "    </tr>\n",
       "  </tbody>\n",
       "</table>\n",
       "<p>1429 rows × 20 columns</p>\n",
       "</div>"
      ],
      "text/plain": [
       "           age  hypertension  heart_disease  avg_glucose_level       bmi  \\\n",
       "2082 -0.315789           0.0            0.0          -0.197073 -0.141026   \n",
       "2367 -0.315789           0.0            0.0           2.230439  5.576923   \n",
       "118   0.289474           0.0            0.0          -0.727805  1.051282   \n",
       "959   0.184211           0.0            0.0           0.058341 -0.230769   \n",
       "1592 -0.500000           0.0            0.0           0.232390  0.282051   \n",
       "...        ...           ...            ...                ...       ...   \n",
       "2370 -1.105263           0.0            0.0          -0.408780 -0.961538   \n",
       "342   0.631579           0.0            0.0          -0.284488  0.500000   \n",
       "39   -0.763158           0.0            0.0           0.821854 -0.141026   \n",
       "1486 -0.605263           0.0            0.0          -0.144195  0.948718   \n",
       "957  -0.500000           0.0            0.0           0.120390  0.756410   \n",
       "\n",
       "      gender_Female  gender_Male  ever_married_No  ever_married_Yes  \\\n",
       "2082           -1.0          1.0              0.0               0.0   \n",
       "2367           -1.0          1.0              0.0               0.0   \n",
       "118            -1.0          1.0              0.0               0.0   \n",
       "959            -1.0          1.0              0.0               0.0   \n",
       "1592           -1.0          1.0              0.0               0.0   \n",
       "...             ...          ...              ...               ...   \n",
       "2370            0.0          0.0              1.0              -1.0   \n",
       "342             0.0          0.0              0.0               0.0   \n",
       "39             -1.0          1.0              1.0              -1.0   \n",
       "1486           -1.0          1.0              0.0               0.0   \n",
       "957            -1.0          1.0              0.0               0.0   \n",
       "\n",
       "      work_type_Govt_job  work_type_Never_worked  work_type_Private  \\\n",
       "2082                 0.0                     0.0               -1.0   \n",
       "2367                 0.0                     0.0                0.0   \n",
       "118                  0.0                     0.0                0.0   \n",
       "959                  0.0                     0.0                0.0   \n",
       "1592                 0.0                     0.0                0.0   \n",
       "...                  ...                     ...                ...   \n",
       "2370                 0.0                     0.0               -1.0   \n",
       "342                  0.0                     0.0                0.0   \n",
       "39                   0.0                     0.0                0.0   \n",
       "1486                 0.0                     0.0                0.0   \n",
       "957                  0.0                     0.0                0.0   \n",
       "\n",
       "      work_type_Self-employed  work_type_children  Residence_type_Rural  \\\n",
       "2082                      1.0                 0.0                   0.0   \n",
       "2367                      0.0                 0.0                   1.0   \n",
       "118                       0.0                 0.0                   0.0   \n",
       "959                       0.0                 0.0                   0.0   \n",
       "1592                      0.0                 0.0                   1.0   \n",
       "...                       ...                 ...                   ...   \n",
       "2370                      0.0                 1.0                   1.0   \n",
       "342                       0.0                 0.0                   0.0   \n",
       "39                        0.0                 0.0                   0.0   \n",
       "1486                      0.0                 0.0                   0.0   \n",
       "957                       0.0                 0.0                   1.0   \n",
       "\n",
       "      Residence_type_Urban  smoking_status_Unknown  \\\n",
       "2082                   0.0                     1.0   \n",
       "2367                  -1.0                     0.0   \n",
       "118                    0.0                     0.0   \n",
       "959                    0.0                     0.0   \n",
       "1592                  -1.0                     0.0   \n",
       "...                    ...                     ...   \n",
       "2370                  -1.0                     1.0   \n",
       "342                    0.0                     0.0   \n",
       "39                     0.0                     1.0   \n",
       "1486                   0.0                     0.0   \n",
       "957                   -1.0                     0.0   \n",
       "\n",
       "      smoking_status_formerly smoked  smoking_status_never smoked  \\\n",
       "2082                             0.0                          0.0   \n",
       "2367                             0.0                          1.0   \n",
       "118                              0.0                          1.0   \n",
       "959                              0.0                          0.0   \n",
       "1592                             1.0                          0.0   \n",
       "...                              ...                          ...   \n",
       "2370                             0.0                          0.0   \n",
       "342                              0.0                          1.0   \n",
       "39                               0.0                          0.0   \n",
       "1486                             0.0                          0.0   \n",
       "957                              0.0                          1.0   \n",
       "\n",
       "      smoking_status_smokes  \n",
       "2082                    0.0  \n",
       "2367                    0.0  \n",
       "118                     0.0  \n",
       "959                     1.0  \n",
       "1592                    0.0  \n",
       "...                     ...  \n",
       "2370                    0.0  \n",
       "342                     0.0  \n",
       "39                      0.0  \n",
       "1486                    1.0  \n",
       "957                     0.0  \n",
       "\n",
       "[1429 rows x 20 columns]"
      ]
     },
     "execution_count": 19,
     "metadata": {},
     "output_type": "execute_result"
    }
   ],
   "source": [
    "#Validamos que los cambios se aplicaron correctamente \n",
    "X_train_prep"
   ]
  },
  {
   "cell_type": "markdown",
   "id": "5cad1cb0",
   "metadata": {},
   "source": [
    "## SMV: Kernel lineal"
   ]
  },
  {
   "cell_type": "markdown",
   "id": "ac136679",
   "metadata": {},
   "source": [
    "### Conjunto de datos reducido"
   ]
  },
  {
   "cell_type": "markdown",
   "id": "5fd695e2",
   "metadata": {},
   "source": [
    "**Entrenamiento del algoritmo con un conjunto de datos reducido**"
   ]
  },
  {
   "cell_type": "code",
   "execution_count": 20,
   "id": "fbe9eec7",
   "metadata": {},
   "outputs": [],
   "source": [
    "# Reducimos el conjunto de datos para representarlo gráficamente\n",
    "X_train_reduced = X_train_prep[[\"age\", \"avg_glucose_level\"]].copy()\n",
    "X_val_reduced = X_val_prep[[\"age\", \"avg_glucose_level\"]].copy()"
   ]
  },
  {
   "cell_type": "code",
   "execution_count": 21,
   "id": "8771452f",
   "metadata": {},
   "outputs": [
    {
     "data": {
      "text/html": [
       "<div>\n",
       "<style scoped>\n",
       "    .dataframe tbody tr th:only-of-type {\n",
       "        vertical-align: middle;\n",
       "    }\n",
       "\n",
       "    .dataframe tbody tr th {\n",
       "        vertical-align: top;\n",
       "    }\n",
       "\n",
       "    .dataframe thead th {\n",
       "        text-align: right;\n",
       "    }\n",
       "</style>\n",
       "<table border=\"1\" class=\"dataframe\">\n",
       "  <thead>\n",
       "    <tr style=\"text-align: right;\">\n",
       "      <th></th>\n",
       "      <th>age</th>\n",
       "      <th>avg_glucose_level</th>\n",
       "    </tr>\n",
       "  </thead>\n",
       "  <tbody>\n",
       "    <tr>\n",
       "      <th>2082</th>\n",
       "      <td>-0.315789</td>\n",
       "      <td>-0.197073</td>\n",
       "    </tr>\n",
       "    <tr>\n",
       "      <th>2367</th>\n",
       "      <td>-0.315789</td>\n",
       "      <td>2.230439</td>\n",
       "    </tr>\n",
       "    <tr>\n",
       "      <th>118</th>\n",
       "      <td>0.289474</td>\n",
       "      <td>-0.727805</td>\n",
       "    </tr>\n",
       "    <tr>\n",
       "      <th>959</th>\n",
       "      <td>0.184211</td>\n",
       "      <td>0.058341</td>\n",
       "    </tr>\n",
       "    <tr>\n",
       "      <th>1592</th>\n",
       "      <td>-0.500000</td>\n",
       "      <td>0.232390</td>\n",
       "    </tr>\n",
       "    <tr>\n",
       "      <th>...</th>\n",
       "      <td>...</td>\n",
       "      <td>...</td>\n",
       "    </tr>\n",
       "    <tr>\n",
       "      <th>2370</th>\n",
       "      <td>-1.105263</td>\n",
       "      <td>-0.408780</td>\n",
       "    </tr>\n",
       "    <tr>\n",
       "      <th>342</th>\n",
       "      <td>0.631579</td>\n",
       "      <td>-0.284488</td>\n",
       "    </tr>\n",
       "    <tr>\n",
       "      <th>39</th>\n",
       "      <td>-0.763158</td>\n",
       "      <td>0.821854</td>\n",
       "    </tr>\n",
       "    <tr>\n",
       "      <th>1486</th>\n",
       "      <td>-0.605263</td>\n",
       "      <td>-0.144195</td>\n",
       "    </tr>\n",
       "    <tr>\n",
       "      <th>957</th>\n",
       "      <td>-0.500000</td>\n",
       "      <td>0.120390</td>\n",
       "    </tr>\n",
       "  </tbody>\n",
       "</table>\n",
       "<p>1429 rows × 2 columns</p>\n",
       "</div>"
      ],
      "text/plain": [
       "           age  avg_glucose_level\n",
       "2082 -0.315789          -0.197073\n",
       "2367 -0.315789           2.230439\n",
       "118   0.289474          -0.727805\n",
       "959   0.184211           0.058341\n",
       "1592 -0.500000           0.232390\n",
       "...        ...                ...\n",
       "2370 -1.105263          -0.408780\n",
       "342   0.631579          -0.284488\n",
       "39   -0.763158           0.821854\n",
       "1486 -0.605263          -0.144195\n",
       "957  -0.500000           0.120390\n",
       "\n",
       "[1429 rows x 2 columns]"
      ]
     },
     "execution_count": 21,
     "metadata": {},
     "output_type": "execute_result"
    }
   ],
   "source": [
    "X_train_reduced"
   ]
  },
  {
   "cell_type": "code",
   "execution_count": 22,
   "id": "a7627014",
   "metadata": {},
   "outputs": [
    {
     "data": {
      "text/plain": [
       "SVC(C=50, kernel='linear')"
      ]
     },
     "execution_count": 22,
     "metadata": {},
     "output_type": "execute_result"
    }
   ],
   "source": [
    "from sklearn.svm import SVC\n",
    "\n",
    "# SVM Large Margin Classification\n",
    "svm_clf = SVC(kernel=\"linear\", C=50)\n",
    "svm_clf.fit(X_train_reduced, y_train)"
   ]
  },
  {
   "cell_type": "markdown",
   "id": "97ea4560",
   "metadata": {},
   "source": [
    "**Representación del límite de decisión**"
   ]
  },
  {
   "cell_type": "code",
   "execution_count": 23,
   "id": "3c6f757d",
   "metadata": {},
   "outputs": [],
   "source": [
    "def plot_svc_decision_boundary(svm_clf, xmin, xmax):\n",
    "    w = svm_clf.coef_[0]\n",
    "    b = svm_clf.intercept_[0]\n",
    "\n",
    "    x0 = np.linspace(xmin, xmax, 200)\n",
    "    decision_boundary = -w[0]/w[1] * x0 - b/w[1]\n",
    "\n",
    "    margin = 1/w[1]\n",
    "    gutter_up = decision_boundary + margin\n",
    "    gutter_down = decision_boundary - margin\n",
    "\n",
    "    svs = svm_clf.support_vectors_\n",
    "    plt.scatter(svs[:, 0], svs[:, 1], s=180, facecolors='#FFAAAA')\n",
    "    plt.plot(x0, decision_boundary, \"k-\", linewidth=2)\n",
    "    plt.plot(x0, gutter_up, \"k--\", linewidth=2)\n",
    "    plt.plot(x0, gutter_down, \"k--\", linewidth=2)"
   ]
  },
  {
   "cell_type": "code",
   "execution_count": 24,
   "id": "c48c6ea3",
   "metadata": {},
   "outputs": [
    {
     "data": {
      "image/png": "[encoded data removed]",
      "text/plain": [
       "<Figure size 864x432 with 1 Axes>"
      ]
     },
     "metadata": {
      "needs_background": "light"
     },
     "output_type": "display_data"
    }
   ],
   "source": [
    "plt.figure(figsize=(12, 6))\n",
    "plt.plot(X_train_reduced.values[:, 0][y_train==1], X_train_reduced.values[:, 1][y_train==1], \"g^\")\n",
    "plt.plot(X_train_reduced.values[:, 0][y_train==0], X_train_reduced.values[:, 1][y_train==0], \"bs\")\n",
    "plot_svc_decision_boundary(svm_clf, 0, 1)\n",
    "plt.title(\"$C = {}$\".format(svm_clf.C), fontsize=16)\n",
    "plt.axis([0, 1, -100, 250])\n",
    "plt.xlabel(\"age\", fontsize=13)\n",
    "plt.ylabel(\"avg_glucose_level\", fontsize=13)\n",
    "plt.show()"
   ]
  },
  {
   "cell_type": "markdown",
   "id": "ce741075",
   "metadata": {},
   "source": [
    "**Predicción con un conjunto de datos reducido**"
   ]
  },
  {
   "cell_type": "code",
   "execution_count": 25,
   "id": "c54029cc",
   "metadata": {},
   "outputs": [],
   "source": [
    "y_pred = svm_clf.predict(X_val_reduced)"
   ]
  },
  {
   "cell_type": "code",
   "execution_count": 26,
   "id": "966ae96e",
   "metadata": {},
   "outputs": [
    {
     "name": "stdout",
     "output_type": "stream",
     "text": [
      "F1 Score: 0.8274760383386581\n"
     ]
    }
   ],
   "source": [
    "print(\"F1 Score:\", f1_score(y_pred, y_val, pos_label=0))"
   ]
  },
  {
   "cell_type": "code",
   "execution_count": 27,
   "id": "612a8a3c",
   "metadata": {},
   "outputs": [
    {
     "name": "stdout",
     "output_type": "stream",
     "text": [
      "Accuracy: 0.774\n"
     ]
    }
   ],
   "source": [
    "from sklearn.metrics import accuracy_score\n",
    "print('Accuracy: {:.3f}'.format(accuracy_score(y_val,y_pred)))"
   ]
  },
  {
   "cell_type": "markdown",
   "id": "01aa6a3f",
   "metadata": {},
   "source": [
    "### Conjunto de datos completo"
   ]
  },
  {
   "cell_type": "code",
   "execution_count": 32,
   "id": "f6e343a7",
   "metadata": {},
   "outputs": [
    {
     "data": {
      "text/plain": [
       "SVC(C=1, kernel='linear')"
      ]
     },
     "execution_count": 32,
     "metadata": {},
     "output_type": "execute_result"
    }
   ],
   "source": [
    "# Entrenamiento con todo el conjunto de datos\n",
    "from sklearn.svm import SVC\n",
    "\n",
    "svm_clf = SVC(kernel=\"linear\", C=1)\n",
    "svm_clf.fit(X_train_prep, y_train)"
   ]
  },
  {
   "cell_type": "code",
   "execution_count": 33,
   "id": "7df870f5",
   "metadata": {},
   "outputs": [],
   "source": [
    "y_pred = svm_clf.predict(X_val_prep)"
   ]
  },
  {
   "cell_type": "code",
   "execution_count": 34,
   "id": "c1f22356",
   "metadata": {},
   "outputs": [
    {
     "name": "stdout",
     "output_type": "stream",
     "text": [
      "F1 Score: 0.7210031347962382\n"
     ]
    }
   ],
   "source": [
    "print(\"F1 Score:\", f1_score(y_pred, y_val, pos_label=1))"
   ]
  },
  {
   "cell_type": "code",
   "execution_count": 35,
   "id": "cfd002bb",
   "metadata": {},
   "outputs": [
    {
     "name": "stdout",
     "output_type": "stream",
     "text": [
      "Accuracy: 0.813\n"
     ]
    }
   ],
   "source": [
    "print('Accuracy: {:.3f}'.format(accuracy_score(y_val,y_pred)))"
   ]
  },
  {
   "cell_type": "markdown",
   "id": "dbbb7b46",
   "metadata": {},
   "source": [
    "## SMV: Kernel no lineal"
   ]
  },
  {
   "cell_type": "markdown",
   "id": "b61bb615",
   "metadata": {},
   "source": [
    "### Polynomial Kernel (I)"
   ]
  },
  {
   "cell_type": "markdown",
   "id": "6c0d6fe1",
   "metadata": {},
   "source": [
    "**Entrenamiento del algoritmo con un conjunto de datos reducido**"
   ]
  },
  {
   "cell_type": "code",
   "execution_count": 36,
   "id": "9d65f850",
   "metadata": {},
   "outputs": [
    {
     "name": "stderr",
     "output_type": "stream",
     "text": [
      "D:\\Anaconda3\\lib\\site-packages\\sklearn\\svm\\_base.py:985: ConvergenceWarning: Liblinear failed to converge, increase the number of iterations.\n",
      "  warnings.warn(\"Liblinear failed to converge, increase \"\n"
     ]
    },
    {
     "data": {
      "text/plain": [
       "Pipeline(steps=[('poly_features', PolynomialFeatures(degree=3)),\n",
       "                ('scaler', StandardScaler()),\n",
       "                ('svm_clf',\n",
       "                 LinearSVC(C=20, loss='hinge', max_iter=100000,\n",
       "                           random_state=42))])"
      ]
     },
     "execution_count": 36,
     "metadata": {},
     "output_type": "execute_result"
    }
   ],
   "source": [
    "from sklearn.datasets import make_moons\n",
    "from sklearn.svm import LinearSVC\n",
    "from sklearn.preprocessing import PolynomialFeatures\n",
    "\n",
    "polynomial_svm_clf = Pipeline([\n",
    "        (\"poly_features\", PolynomialFeatures(degree=3)),\n",
    "        (\"scaler\", StandardScaler()),\n",
    "        (\"svm_clf\", LinearSVC(C=20, loss=\"hinge\", random_state=42, max_iter=100000))\n",
    "    ])\n",
    "\n",
    "polynomial_svm_clf.fit(X_train_reduced, y_train)"
   ]
  },
  {
   "cell_type": "code",
   "execution_count": 37,
   "id": "c1bc4feb",
   "metadata": {},
   "outputs": [],
   "source": [
    "def plot_dataset(X, y):\n",
    "    plt.plot(X[:, 0][y==1], X[:, 1][y==1], \"b.\")\n",
    "    plt.plot(X[:, 0][y==0], X[:, 1][y==0], \"g.\")"
   ]
  },
  {
   "cell_type": "code",
   "execution_count": 38,
   "id": "989c5393",
   "metadata": {},
   "outputs": [
    {
     "data": {
      "image/png": "[encoded data removed]",
      "text/plain": [
       "<Figure size 1080x360 with 2 Axes>"
      ]
     },
     "metadata": {
      "needs_background": "light"
     },
     "output_type": "display_data"
    }
   ],
   "source": [
    "def plot_predictions(clf, axes):\n",
    "    x0s = np.linspace(axes[0], axes[1], 100)\n",
    "    x1s = np.linspace(axes[2], axes[3], 100)\n",
    "    x0, x1 = np.meshgrid(x0s, x1s)\n",
    "    X = np.c_[x0.ravel(), x1.ravel()]\n",
    "    y_pred = clf.predict(X).reshape(x0.shape)\n",
    "    y_decision = clf.decision_function(X).reshape(x0.shape)\n",
    "    plt.contourf(x0, x1, y_pred, cmap=plt.cm.brg, alpha=0.2)\n",
    "    plt.contourf(x0, x1, y_decision, cmap=plt.cm.brg, alpha=0.1)\n",
    "\n",
    "fig, axes = plt.subplots(ncols=2, figsize=(15,5), sharey=True)\n",
    "plt.sca(axes[0])\n",
    "plot_dataset(X_train_reduced.values, y_train)\n",
    "plot_predictions(polynomial_svm_clf, [0, 1, -100, 250])\n",
    "plt.xlabel(\"avg_glucose_level\", fontsize=11)\n",
    "plt.ylabel(\"age\", fontsize=11)\n",
    "plt.sca(axes[1])\n",
    "plot_predictions(polynomial_svm_clf, [0, 1, -100, 250])\n",
    "plt.xlabel(\"avg_glucose_level\", fontsize=11)\n",
    "plt.ylabel(\"age\", fontsize=11)\n",
    "plt.show()"
   ]
  },
  {
   "cell_type": "markdown",
   "id": "f13953d8",
   "metadata": {},
   "source": [
    "**Predicción con el conjunto de datos reducido**"
   ]
  },
  {
   "cell_type": "code",
   "execution_count": 39,
   "id": "3a644cbd",
   "metadata": {},
   "outputs": [],
   "source": [
    "y_pred = polynomial_svm_clf.predict(X_val_reduced)"
   ]
  },
  {
   "cell_type": "code",
   "execution_count": 40,
   "id": "5219446b",
   "metadata": {},
   "outputs": [
    {
     "name": "stdout",
     "output_type": "stream",
     "text": [
      "F1 Score: 0.8372827804107424\n"
     ]
    }
   ],
   "source": [
    "print(\"F1 Score:\", f1_score(y_pred, y_val, pos_label=0))"
   ]
  },
  {
   "cell_type": "code",
   "execution_count": 41,
   "id": "c08f61df",
   "metadata": {},
   "outputs": [
    {
     "name": "stdout",
     "output_type": "stream",
     "text": [
      "Accuracy: 0.784\n"
     ]
    }
   ],
   "source": [
    "print('Accuracy: {:.3f}'.format(accuracy_score(y_val,y_pred)))"
   ]
  },
  {
   "cell_type": "markdown",
   "id": "c09109c1",
   "metadata": {},
   "source": [
    "### Polynomial Kernel (II)"
   ]
  },
  {
   "cell_type": "code",
   "execution_count": 42,
   "id": "3441377d",
   "metadata": {},
   "outputs": [
    {
     "data": {
      "text/plain": [
       "SVC(C=20, coef0=10, kernel='poly')"
      ]
     },
     "execution_count": 42,
     "metadata": {},
     "output_type": "execute_result"
    }
   ],
   "source": [
    "svm_clf = SVC(kernel=\"poly\", degree=3, coef0=10, C=20)\n",
    "svm_clf.fit(X_train_reduced, y_train)"
   ]
  },
  {
   "cell_type": "markdown",
   "id": "c2f69105",
   "metadata": {},
   "source": [
    "**Representación del límite de decisión**"
   ]
  },
  {
   "cell_type": "code",
   "execution_count": 43,
   "id": "6b347cec",
   "metadata": {},
   "outputs": [
    {
     "data": {
      "image/png": "[encoded data removed]",
      "text/plain": [
       "<Figure size 1080x360 with 2 Axes>"
      ]
     },
     "metadata": {
      "needs_background": "light"
     },
     "output_type": "display_data"
    }
   ],
   "source": [
    "fig, axes = plt.subplots(ncols=2, figsize=(15,5), sharey=True)\n",
    "plt.sca(axes[0])\n",
    "plot_dataset(X_train_reduced.values, y_train)\n",
    "plot_predictions(svm_clf, [0, 1, -100, 250])\n",
    "plt.xlabel(\"avg_glucose_level\", fontsize=11)\n",
    "plt.ylabel(\"age\", fontsize=11)\n",
    "plt.sca(axes[1])\n",
    "plot_predictions(svm_clf, [0, 1, -100, 250])\n",
    "plt.xlabel(\"avg_glucose_level\", fontsize=11)\n",
    "plt.ylabel(\"age\", fontsize=11)\n",
    "plt.show()"
   ]
  },
  {
   "cell_type": "markdown",
   "id": "84fb520b",
   "metadata": {},
   "source": [
    "**Predicción con un conjunto de datos reducido**"
   ]
  },
  {
   "cell_type": "code",
   "execution_count": 44,
   "id": "123eb33d",
   "metadata": {},
   "outputs": [],
   "source": [
    "y_pred = svm_clf.predict(X_val_reduced)"
   ]
  },
  {
   "cell_type": "code",
   "execution_count": 45,
   "id": "63d13732",
   "metadata": {},
   "outputs": [
    {
     "name": "stdout",
     "output_type": "stream",
     "text": [
      "F1 Score: 0.8372827804107424\n"
     ]
    }
   ],
   "source": [
    "print(\"F1 Score:\", f1_score(y_pred, y_val, pos_label=0))"
   ]
  },
  {
   "cell_type": "code",
   "execution_count": 47,
   "id": "08e550f6",
   "metadata": {},
   "outputs": [
    {
     "name": "stdout",
     "output_type": "stream",
     "text": [
      "Accuracy: 0.784\n"
     ]
    }
   ],
   "source": [
    "print('Accuracy: {:.3f}'.format(accuracy_score(y_val,y_pred)))"
   ]
  },
  {
   "cell_type": "markdown",
   "id": "e84f142c",
   "metadata": {},
   "source": [
    "**Predicción con el conjunto de datos completo**"
   ]
  },
  {
   "cell_type": "code",
   "execution_count": 48,
   "id": "50afe26e",
   "metadata": {},
   "outputs": [
    {
     "data": {
      "text/plain": [
       "SVC(C=40, coef0=10, kernel='poly')"
      ]
     },
     "execution_count": 48,
     "metadata": {},
     "output_type": "execute_result"
    }
   ],
   "source": [
    "svm_clf = SVC(kernel=\"poly\", degree=3, coef0=10, C=40)\n",
    "svm_clf.fit(X_train_prep, y_train)"
   ]
  },
  {
   "cell_type": "code",
   "execution_count": 49,
   "id": "28067cd3",
   "metadata": {},
   "outputs": [],
   "source": [
    "y_pred = svm_clf.predict(X_val_prep)"
   ]
  },
  {
   "cell_type": "code",
   "execution_count": 50,
   "id": "42b1d58a",
   "metadata": {},
   "outputs": [
    {
     "name": "stdout",
     "output_type": "stream",
     "text": [
      "F1 Score: 0.5159010600706714\n"
     ]
    }
   ],
   "source": [
    "print(\"F1 Score:\", f1_score(y_pred, y_val, pos_label=1))"
   ]
  },
  {
   "cell_type": "code",
   "execution_count": 51,
   "id": "f28b806b",
   "metadata": {},
   "outputs": [
    {
     "name": "stdout",
     "output_type": "stream",
     "text": [
      "Accuracy: 0.713\n"
     ]
    }
   ],
   "source": [
    "print('Accuracy: {:.3f}'.format(accuracy_score(y_val,y_pred)))"
   ]
  },
  {
   "cell_type": "markdown",
   "id": "4f992b68",
   "metadata": {},
   "source": [
    "### Gaussian Kernel"
   ]
  },
  {
   "cell_type": "markdown",
   "id": "de851542",
   "metadata": {},
   "source": [
    "**Entrenamiento del algoritmo con un conjunto de datos reducido**"
   ]
  },
  {
   "cell_type": "code",
   "execution_count": 52,
   "id": "adbb49ac",
   "metadata": {},
   "outputs": [
    {
     "data": {
      "text/plain": [
       "Pipeline(steps=[('scaler', RobustScaler()),\n",
       "                ('svm_clf', SVC(C=1000, gamma=0.5))])"
      ]
     },
     "execution_count": 52,
     "metadata": {},
     "output_type": "execute_result"
    }
   ],
   "source": [
    "rbf_kernel_svm_clf = Pipeline([\n",
    "            (\"scaler\", RobustScaler()),\n",
    "            (\"svm_clf\", SVC(kernel=\"rbf\", gamma=0.5, C=1000))\n",
    "        ])\n",
    "\n",
    "rbf_kernel_svm_clf.fit(X_train_reduced, y_train)"
   ]
  },
  {
   "cell_type": "markdown",
   "id": "a1332daf",
   "metadata": {},
   "source": [
    "**Representación del límite de decisión**"
   ]
  },
  {
   "cell_type": "code",
   "execution_count": 53,
   "id": "2993010c",
   "metadata": {},
   "outputs": [
    {
     "data": {
      "image/png": "[encoded data removed]",
      "text/plain": [
       "<Figure size 1080x360 with 2 Axes>"
      ]
     },
     "metadata": {
      "needs_background": "light"
     },
     "output_type": "display_data"
    }
   ],
   "source": [
    "fig, axes = plt.subplots(ncols=2, figsize=(15,5), sharey=True)\n",
    "plt.sca(axes[0])\n",
    "plot_dataset(X_train_reduced.values, y_train)\n",
    "plot_predictions(rbf_kernel_svm_clf, [0, 1, -100, 250])\n",
    "plt.xlabel(\"avg_glucose_level\", fontsize=11)\n",
    "plt.ylabel(\"age\", fontsize=11)\n",
    "plt.sca(axes[1])\n",
    "plot_predictions(rbf_kernel_svm_clf, [0, 1, -100, 250])\n",
    "plt.xlabel(\"avg_glucose_level\", fontsize=11)\n",
    "plt.ylabel(\"age\", fontsize=11)\n",
    "plt.show()"
   ]
  },
  {
   "cell_type": "markdown",
   "id": "d9f71d79",
   "metadata": {},
   "source": [
    "**Predicción con un conjunto de datos reducido**"
   ]
  },
  {
   "cell_type": "code",
   "execution_count": 54,
   "id": "f65fa15e",
   "metadata": {},
   "outputs": [],
   "source": [
    "y_pred = rbf_kernel_svm_clf.predict(X_val_reduced)"
   ]
  },
  {
   "cell_type": "code",
   "execution_count": 55,
   "id": "485d57b7",
   "metadata": {},
   "outputs": [
    {
     "name": "stdout",
     "output_type": "stream",
     "text": [
      "F1 Score: 0.8264984227129337\n"
     ]
    }
   ],
   "source": [
    "print(\"F1 Score:\", f1_score(y_pred, y_val, pos_label=0))"
   ]
  },
  {
   "cell_type": "code",
   "execution_count": 56,
   "id": "eec47f2b",
   "metadata": {},
   "outputs": [
    {
     "name": "stdout",
     "output_type": "stream",
     "text": [
      "Accuracy: 0.769\n"
     ]
    }
   ],
   "source": [
    "print('Accuracy: {:.3f}'.format(accuracy_score(y_val,y_pred)))"
   ]
  },
  {
   "cell_type": "markdown",
   "id": "9e300639",
   "metadata": {},
   "source": [
    "**Predicción con un conjunto de datos completo**"
   ]
  },
  {
   "cell_type": "code",
   "execution_count": 57,
   "id": "1a1b2ef7",
   "metadata": {},
   "outputs": [
    {
     "data": {
      "text/plain": [
       "Pipeline(steps=[('scaler', RobustScaler()),\n",
       "                ('svm_clf', SVC(C=1000, gamma=0.05))])"
      ]
     },
     "execution_count": 57,
     "metadata": {},
     "output_type": "execute_result"
    }
   ],
   "source": [
    "rbf_kernel_svm_clf = Pipeline([\n",
    "            (\"scaler\", RobustScaler()),\n",
    "            (\"svm_clf\", SVC(kernel=\"rbf\", gamma=0.05, C=1000))\n",
    "        ])\n",
    "\n",
    "rbf_kernel_svm_clf.fit(X_train_prep, y_train)"
   ]
  },
  {
   "cell_type": "code",
   "execution_count": 58,
   "id": "6e3dfb80",
   "metadata": {},
   "outputs": [],
   "source": [
    "y_pred = rbf_kernel_svm_clf.predict(X_val_prep)"
   ]
  },
  {
   "cell_type": "code",
   "execution_count": 59,
   "id": "e358ee02",
   "metadata": {},
   "outputs": [
    {
     "name": "stdout",
     "output_type": "stream",
     "text": [
      "F1 Score: 0.5174825174825175\n"
     ]
    }
   ],
   "source": [
    "print(\"F1 Score:\", f1_score(y_pred, y_val, pos_label=1))"
   ]
  },
  {
   "cell_type": "code",
   "execution_count": 60,
   "id": "c1c1f2b4",
   "metadata": {},
   "outputs": [
    {
     "name": "stdout",
     "output_type": "stream",
     "text": [
      "Accuracy: 0.711\n"
     ]
    }
   ],
   "source": [
    "print('Accuracy: {:.3f}'.format(accuracy_score(y_val,y_pred)))"
   ]
  },
  {
   "cell_type": "code",
   "execution_count": null,
   "id": "00d046f0",
   "metadata": {},
   "outputs": [],
   "source": []
  }
 ],
 "metadata": {
  "kernelspec": {
   "display_name": "Python 3",
   "language": "python",
   "name": "python3"
  },
  "language_info": {
   "codemirror_mode": {
    "name": "ipython",
    "version": 3
   },
   "file_extension": ".py",
   "mimetype": "text/x-python",
   "name": "python",
   "nbconvert_exporter": "python",
   "pygments_lexer": "ipython3",
   "version": "3.8.8"
  }
 },
 "nbformat": 4,
 "nbformat_minor": 5
}
